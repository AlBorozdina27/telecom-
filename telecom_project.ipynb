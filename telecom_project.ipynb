{
 "cells": [
  {
   "cell_type": "markdown",
   "id": "5e69169e",
   "metadata": {},
   "source": [
    "  <div class=\"alert alert-info\">\n",
    "  Привет, Александра! Меня зовут Светлана Чих и я буду проверять твой проект. Моя основная цель — не указать на совершенные тобою ошибки, а поделиться своим опытом и помочь тебе. Предлагаю общаться на «ты». Но если это не удобно - дай знать, и мы перейдем на «вы».\n",
    "\n",
    "  <div class=\"alert alert-success\">\n",
    "  <b>👍 Успех:</b> Зелёным цветом отмечены удачные и элегантные решения, на которые можно опираться в будущих проектах.\n",
    "  </div>\n",
    "  <div class=\"alert alert-warning\">\n",
    "  <b>🤔 Рекомендация:</b> Жёлтым цветом выделено то, что в следующий раз можно сделать по-другому. Ты можешь учесть эти комментарии при выполнении будущих заданий или доработать проект сейчас (однако это не обязательно).\n",
    "  </div>\n",
    "  <div class=\"alert alert-danger\">\n",
    "  <b>😔 Необходимо исправить:</b> Красным цветом выделены комментарии, без исправления которых, я не смогу принять проект :(\n",
    "  </div>\n",
    "  <div class=\"alert alert-info\">\n",
    "  <b>👂 Совет:</b> Какие-то дополнительные материалы\n",
    "  </div>\n",
    "  Давай работать над проектом в диалоге: если ты что-то меняешь в проекте по моим рекомендациям — пиши об этом.\n",
    "  Мне будет легче отследить изменения, если ты выделишь свои комментарии:\n",
    "  <div class=\"alert alert-info\"> <b>🎓 Комментарий студента:</b> Например, вот так.</div>\n",
    "  Пожалуйста, не перемещай, не изменяй и не удаляй мои комментарии. Всё это поможет выполнить повторную проверку твоего проекта быстрее.\n",
    "   </div>"
   ]
  },
  {
   "cell_type": "markdown",
   "id": "4626e375",
   "metadata": {},
   "source": [
    "<div class=\"alert alert-info\"> <b>🎓 Комментарий студента:</b> Привет, Светлана! Спасибо большое за проверку и все комментарии) </div>"
   ]
  },
  {
   "cell_type": "markdown",
   "id": "f53eca75",
   "metadata": {},
   "source": [
    "# Проект для компании \"ТелеДом\""
   ]
  },
  {
   "cell_type": "markdown",
   "id": "f8a6aa8b",
   "metadata": {},
   "source": [
    "## Описание проекта: телекоммуникации"
   ]
  },
  {
   "cell_type": "markdown",
   "id": "cbe9d07c",
   "metadata": {},
   "source": [
    "Оператор связи «ТелеДом» хочет бороться с оттоком клиентов. Для этого его сотрудники начнут предлагать промокоды и специальные условия всем, кто планирует отказаться от услуг связи. Чтобы заранее находить таких пользователей, «ТелеДому» нужна модель, которая будет предсказывать, разорвёт ли абонент договор. Команда оператора собрала персональные данные о некоторых клиентах, информацию об их тарифах и услугах. Ваша задача — обучить на этих данных модель для прогноза оттока клиентов."
   ]
  },
  {
   "cell_type": "markdown",
   "id": "75a69bf9",
   "metadata": {},
   "source": [
    "**Описание услуг**"
   ]
  },
  {
   "cell_type": "markdown",
   "id": "b2c661d9",
   "metadata": {},
   "source": [
    "Оператор предоставляет два основных типа услуг: \n",
    "\n",
    "- Стационарную телефонную связь. Телефон можно подключить к нескольким линиям одновременно.\n",
    "\n",
    "- Интернет. Подключение может быть двух типов: через телефонную линию (DSL, от англ. digital subscriber line — «цифровая абонентская линия») или оптоволоконный кабель (Fiber optic).\n",
    "\n",
    "Также доступны такие услуги:\n",
    "\n",
    "- Интернет-безопасность: антивирус (DeviceProtection) и блокировка небезопасных сайтов (OnlineSecurity);\n",
    "\n",
    "- Выделенная линия технической поддержки (TechSupport);\n",
    "\n",
    "- Облачное хранилище файлов для резервного копирования данных (OnlineBackup);\n",
    "\n",
    "- Стриминговое телевидение (StreamingTV) и каталог фильмов (StreamingMovies).\n",
    "\n",
    "Клиенты могут платить за услуги каждый месяц или заключить договор на 1–2 года. Возможно оплатить счёт разными способами, а также получить электронный чек."
   ]
  },
  {
   "cell_type": "markdown",
   "id": "bf0c2b7a",
   "metadata": {},
   "source": [
    "**Описание данных**"
   ]
  },
  {
   "cell_type": "markdown",
   "id": "8fd94ed7",
   "metadata": {},
   "source": [
    "Данные состоят из нескольких файлов, полученных из разных источников:\n",
    "\n",
    "1) contract_new.csv — информация о договоре;\n",
    "\n",
    "2) personal_new.csv — персональные данные клиента;\n",
    "\n",
    "3) internet_new.csv — информация об интернет-услугах;\n",
    "\n",
    "4) phone_new.csv — информация об услугах телефонии.\n",
    "\n",
    "----\n",
    "***Файл contract_new.csv***\n",
    "- customerID — идентификатор абонента;\n",
    "\n",
    "- BeginDate — дата начала действия договора;\n",
    "\n",
    "- EndDate — дата окончания действия договора;\n",
    "\n",
    "- Type — тип оплаты: раз в год-два или ежемесячно;\n",
    "\n",
    "- PaperlessBilling — электронный расчётный лист;\n",
    "\n",
    "- PaymentMethod — тип платежа;\n",
    "\n",
    "- MonthlyCharges — расходы за месяц;\n",
    "\n",
    "- TotalCharges — общие расходы абонента.\n",
    "----\n",
    "***Файл personal_new.csv***\n",
    "\n",
    "- customerID — идентификатор пользователя;\n",
    "\n",
    "- gender — пол;\n",
    "\n",
    "- SeniorCitizen — является ли абонент пенсионером;\n",
    "\n",
    "- Partner — есть ли у абонента супруг или супруга;\n",
    "\n",
    "- Dependents — есть ли у абонента дети.\n",
    "----\n",
    "***Файл internet_new.csv***\n",
    "\n",
    "- customerID — идентификатор пользователя;\n",
    "\n",
    "- InternetService — тип подключения;\n",
    "\n",
    "- OnlineSecurity — блокировка опасных сайтов;\n",
    "\n",
    "- OnlineBackup — облачное хранилище файлов для резервного копирования данных;\n",
    "\n",
    "- DeviceProtection — антивирус;\n",
    "\n",
    "- TechSupport — выделенная линия технической поддержки;\n",
    "\n",
    "- StreamingTV — стриминговое телевидение;\n",
    "\n",
    "- StreamingMovies — каталог фильмов.\n",
    "----\n",
    "***Файл phone_new.csv***\n",
    "\n",
    "- customerID — идентификатор пользователя;\n",
    "\n",
    "- MultipleLines — подключение телефона к нескольким линиям одновременно.\n",
    "----\n",
    "Во всех файлах столбец customerID содержит код клиента. Информация о договорах актуальна на 1 февраля 2020 года."
   ]
  },
  {
   "cell_type": "markdown",
   "id": "f481b2a8",
   "metadata": {},
   "source": [
    "## Загрузка данных "
   ]
  },
  {
   "cell_type": "code",
   "execution_count": 1,
   "id": "03c622a3",
   "metadata": {},
   "outputs": [],
   "source": [
    "!pip install scikit-learn==1.6.1 -q"
   ]
  },
  {
   "cell_type": "code",
   "execution_count": 2,
   "id": "fd808ecb",
   "metadata": {},
   "outputs": [
    {
     "name": "stdout",
     "output_type": "stream",
     "text": [
      "Requirement already satisfied: scikit-learn in /opt/conda/lib/python3.9/site-packages (1.6.1)\n",
      "Requirement already satisfied: numpy>=1.19.5 in /opt/conda/lib/python3.9/site-packages (from scikit-learn) (1.21.1)\n",
      "Requirement already satisfied: scipy>=1.6.0 in /opt/conda/lib/python3.9/site-packages (from scikit-learn) (1.9.1)\n",
      "Requirement already satisfied: threadpoolctl>=3.1.0 in /opt/conda/lib/python3.9/site-packages (from scikit-learn) (3.1.0)\n",
      "Requirement already satisfied: joblib>=1.2.0 in /opt/conda/lib/python3.9/site-packages (from scikit-learn) (1.4.2)\n"
     ]
    }
   ],
   "source": [
    "!pip install --upgrade scikit-learn"
   ]
  },
  {
   "cell_type": "code",
   "execution_count": 3,
   "id": "8e460d6f",
   "metadata": {},
   "outputs": [
    {
     "name": "stdout",
     "output_type": "stream",
     "text": [
      "Requirement already satisfied: lightgbm in /opt/conda/lib/python3.9/site-packages (3.3.1)\n",
      "Requirement already satisfied: numpy in /opt/conda/lib/python3.9/site-packages (from lightgbm) (1.21.1)\n",
      "Requirement already satisfied: scipy in /opt/conda/lib/python3.9/site-packages (from lightgbm) (1.9.1)\n",
      "Requirement already satisfied: wheel in /opt/conda/lib/python3.9/site-packages (from lightgbm) (0.36.2)\n",
      "Requirement already satisfied: scikit-learn!=0.22.0 in /opt/conda/lib/python3.9/site-packages (from lightgbm) (1.6.1)\n",
      "Requirement already satisfied: joblib>=1.2.0 in /opt/conda/lib/python3.9/site-packages (from scikit-learn!=0.22.0->lightgbm) (1.4.2)\n",
      "Requirement already satisfied: threadpoolctl>=3.1.0 in /opt/conda/lib/python3.9/site-packages (from scikit-learn!=0.22.0->lightgbm) (3.1.0)\n",
      "Note: you may need to restart the kernel to use updated packages.\n"
     ]
    }
   ],
   "source": [
    "pip install lightgbm"
   ]
  },
  {
   "cell_type": "code",
   "execution_count": 4,
   "id": "af4c3e5d",
   "metadata": {},
   "outputs": [],
   "source": [
    "from lightgbm import LGBMClassifier as lgb"
   ]
  },
  {
   "cell_type": "code",
   "execution_count": 5,
   "id": "8d0d796f",
   "metadata": {},
   "outputs": [
    {
     "name": "stdout",
     "output_type": "stream",
     "text": [
      "Collecting shap\n",
      "  Downloading shap-0.46.0-cp39-cp39-manylinux_2_12_x86_64.manylinux2010_x86_64.manylinux_2_17_x86_64.manylinux2014_x86_64.whl (539 kB)\n",
      "\u001b[K     |████████████████████████████████| 539 kB 2.1 MB/s eta 0:00:01\n",
      "\u001b[?25hRequirement already satisfied: tqdm>=4.27.0 in /opt/conda/lib/python3.9/site-packages (from shap) (4.61.2)\n",
      "Requirement already satisfied: packaging>20.9 in /opt/conda/lib/python3.9/site-packages (from shap) (21.3)\n",
      "Requirement already satisfied: numba in /opt/conda/lib/python3.9/site-packages (from shap) (0.56.0)\n",
      "Requirement already satisfied: numpy in /opt/conda/lib/python3.9/site-packages (from shap) (1.21.1)\n",
      "Collecting slicer==0.0.8\n",
      "  Downloading slicer-0.0.8-py3-none-any.whl (15 kB)\n",
      "Requirement already satisfied: scipy in /opt/conda/lib/python3.9/site-packages (from shap) (1.9.1)\n",
      "Collecting cloudpickle\n",
      "  Downloading cloudpickle-3.1.1-py3-none-any.whl (20 kB)\n",
      "Requirement already satisfied: pandas in /opt/conda/lib/python3.9/site-packages (from shap) (1.2.4)\n",
      "Requirement already satisfied: scikit-learn in /opt/conda/lib/python3.9/site-packages (from shap) (1.6.1)\n",
      "Requirement already satisfied: pyparsing!=3.0.5,>=2.0.2 in /opt/conda/lib/python3.9/site-packages (from packaging>20.9->shap) (2.4.7)\n",
      "Requirement already satisfied: llvmlite<0.40,>=0.39.0dev0 in /opt/conda/lib/python3.9/site-packages (from numba->shap) (0.39.0)\n",
      "Requirement already satisfied: setuptools in /opt/conda/lib/python3.9/site-packages (from numba->shap) (49.6.0.post20210108)\n",
      "Requirement already satisfied: python-dateutil>=2.7.3 in /opt/conda/lib/python3.9/site-packages (from pandas->shap) (2.8.1)\n",
      "Requirement already satisfied: pytz>=2017.3 in /opt/conda/lib/python3.9/site-packages (from pandas->shap) (2021.1)\n",
      "Requirement already satisfied: six>=1.5 in /opt/conda/lib/python3.9/site-packages (from python-dateutil>=2.7.3->pandas->shap) (1.16.0)\n",
      "Requirement already satisfied: joblib>=1.2.0 in /opt/conda/lib/python3.9/site-packages (from scikit-learn->shap) (1.4.2)\n",
      "Requirement already satisfied: threadpoolctl>=3.1.0 in /opt/conda/lib/python3.9/site-packages (from scikit-learn->shap) (3.1.0)\n",
      "Installing collected packages: slicer, cloudpickle, shap\n",
      "Successfully installed cloudpickle-3.1.1 shap-0.46.0 slicer-0.0.8\n"
     ]
    }
   ],
   "source": [
    "!pip install shap"
   ]
  },
  {
   "cell_type": "code",
   "execution_count": 6,
   "id": "4ba5ea2a",
   "metadata": {},
   "outputs": [],
   "source": [
    "!pip install phik -q"
   ]
  },
  {
   "cell_type": "code",
   "execution_count": 7,
   "id": "80365345",
   "metadata": {},
   "outputs": [],
   "source": [
    "# загрузка необходимых библиотек\n",
    "import pandas as pd \n",
    "import numpy as np\n",
    "from scipy import stats as st\n",
    "import seaborn as sns\n",
    "\n",
    "import math\n",
    "import matplotlib.pyplot as plt\n",
    "import phik\n",
    "import shap\n",
    "\n",
    "from sklearn.dummy import DummyClassifier\n",
    "from sklearn.model_selection import train_test_split, RandomizedSearchCV\n",
    "from sklearn.linear_model import LogisticRegression\n",
    "from sklearn.preprocessing import OneHotEncoder, StandardScaler,MinMaxScaler, OrdinalEncoder\n",
    "from sklearn.metrics import accuracy_score, roc_auc_score, confusion_matrix, roc_curve\n",
    "from sklearn.pipeline import Pipeline\n",
    "from sklearn.compose import ColumnTransformer\n",
    "from sklearn.tree import DecisionTreeRegressor"
   ]
  },
  {
   "cell_type": "code",
   "execution_count": 8,
   "id": "d38d3ab7",
   "metadata": {},
   "outputs": [
    {
     "data": {
      "text/html": [
       "<div>\n",
       "<style scoped>\n",
       "    .dataframe tbody tr th:only-of-type {\n",
       "        vertical-align: middle;\n",
       "    }\n",
       "\n",
       "    .dataframe tbody tr th {\n",
       "        vertical-align: top;\n",
       "    }\n",
       "\n",
       "    .dataframe thead th {\n",
       "        text-align: right;\n",
       "    }\n",
       "</style>\n",
       "<table border=\"1\" class=\"dataframe\">\n",
       "  <thead>\n",
       "    <tr style=\"text-align: right;\">\n",
       "      <th></th>\n",
       "      <th>customerID</th>\n",
       "      <th>BeginDate</th>\n",
       "      <th>EndDate</th>\n",
       "      <th>Type</th>\n",
       "      <th>PaperlessBilling</th>\n",
       "      <th>PaymentMethod</th>\n",
       "      <th>MonthlyCharges</th>\n",
       "      <th>TotalCharges</th>\n",
       "    </tr>\n",
       "  </thead>\n",
       "  <tbody>\n",
       "    <tr>\n",
       "      <th>0</th>\n",
       "      <td>7590-VHVEG</td>\n",
       "      <td>2020-01-01</td>\n",
       "      <td>No</td>\n",
       "      <td>Month-to-month</td>\n",
       "      <td>Yes</td>\n",
       "      <td>Electronic check</td>\n",
       "      <td>29.85</td>\n",
       "      <td>31.04</td>\n",
       "    </tr>\n",
       "    <tr>\n",
       "      <th>1</th>\n",
       "      <td>5575-GNVDE</td>\n",
       "      <td>2017-04-01</td>\n",
       "      <td>No</td>\n",
       "      <td>One year</td>\n",
       "      <td>No</td>\n",
       "      <td>Mailed check</td>\n",
       "      <td>56.95</td>\n",
       "      <td>2071.84</td>\n",
       "    </tr>\n",
       "    <tr>\n",
       "      <th>2</th>\n",
       "      <td>3668-QPYBK</td>\n",
       "      <td>2019-10-01</td>\n",
       "      <td>No</td>\n",
       "      <td>Month-to-month</td>\n",
       "      <td>Yes</td>\n",
       "      <td>Mailed check</td>\n",
       "      <td>53.85</td>\n",
       "      <td>226.17</td>\n",
       "    </tr>\n",
       "    <tr>\n",
       "      <th>3</th>\n",
       "      <td>7795-CFOCW</td>\n",
       "      <td>2016-05-01</td>\n",
       "      <td>No</td>\n",
       "      <td>One year</td>\n",
       "      <td>No</td>\n",
       "      <td>Bank transfer (automatic)</td>\n",
       "      <td>42.30</td>\n",
       "      <td>1960.6</td>\n",
       "    </tr>\n",
       "    <tr>\n",
       "      <th>4</th>\n",
       "      <td>9237-HQITU</td>\n",
       "      <td>2019-09-01</td>\n",
       "      <td>No</td>\n",
       "      <td>Month-to-month</td>\n",
       "      <td>Yes</td>\n",
       "      <td>Electronic check</td>\n",
       "      <td>70.70</td>\n",
       "      <td>353.5</td>\n",
       "    </tr>\n",
       "  </tbody>\n",
       "</table>\n",
       "</div>"
      ],
      "text/plain": [
       "   customerID   BeginDate EndDate            Type PaperlessBilling  \\\n",
       "0  7590-VHVEG  2020-01-01      No  Month-to-month              Yes   \n",
       "1  5575-GNVDE  2017-04-01      No        One year               No   \n",
       "2  3668-QPYBK  2019-10-01      No  Month-to-month              Yes   \n",
       "3  7795-CFOCW  2016-05-01      No        One year               No   \n",
       "4  9237-HQITU  2019-09-01      No  Month-to-month              Yes   \n",
       "\n",
       "               PaymentMethod  MonthlyCharges TotalCharges  \n",
       "0           Electronic check           29.85        31.04  \n",
       "1               Mailed check           56.95      2071.84  \n",
       "2               Mailed check           53.85       226.17  \n",
       "3  Bank transfer (automatic)           42.30       1960.6  \n",
       "4           Electronic check           70.70        353.5  "
      ]
     },
     "execution_count": 8,
     "metadata": {},
     "output_type": "execute_result"
    }
   ],
   "source": [
    "contract_new = pd.read_csv('/datasets/contract_new.csv')\n",
    "contract_new.head()"
   ]
  },
  {
   "cell_type": "code",
   "execution_count": 9,
   "id": "845e39d4",
   "metadata": {},
   "outputs": [
    {
     "data": {
      "text/html": [
       "<div>\n",
       "<style scoped>\n",
       "    .dataframe tbody tr th:only-of-type {\n",
       "        vertical-align: middle;\n",
       "    }\n",
       "\n",
       "    .dataframe tbody tr th {\n",
       "        vertical-align: top;\n",
       "    }\n",
       "\n",
       "    .dataframe thead th {\n",
       "        text-align: right;\n",
       "    }\n",
       "</style>\n",
       "<table border=\"1\" class=\"dataframe\">\n",
       "  <thead>\n",
       "    <tr style=\"text-align: right;\">\n",
       "      <th></th>\n",
       "      <th>customerID</th>\n",
       "      <th>gender</th>\n",
       "      <th>SeniorCitizen</th>\n",
       "      <th>Partner</th>\n",
       "      <th>Dependents</th>\n",
       "    </tr>\n",
       "  </thead>\n",
       "  <tbody>\n",
       "    <tr>\n",
       "      <th>0</th>\n",
       "      <td>7590-VHVEG</td>\n",
       "      <td>Female</td>\n",
       "      <td>0</td>\n",
       "      <td>Yes</td>\n",
       "      <td>No</td>\n",
       "    </tr>\n",
       "    <tr>\n",
       "      <th>1</th>\n",
       "      <td>5575-GNVDE</td>\n",
       "      <td>Male</td>\n",
       "      <td>0</td>\n",
       "      <td>No</td>\n",
       "      <td>No</td>\n",
       "    </tr>\n",
       "    <tr>\n",
       "      <th>2</th>\n",
       "      <td>3668-QPYBK</td>\n",
       "      <td>Male</td>\n",
       "      <td>0</td>\n",
       "      <td>No</td>\n",
       "      <td>No</td>\n",
       "    </tr>\n",
       "    <tr>\n",
       "      <th>3</th>\n",
       "      <td>7795-CFOCW</td>\n",
       "      <td>Male</td>\n",
       "      <td>0</td>\n",
       "      <td>No</td>\n",
       "      <td>No</td>\n",
       "    </tr>\n",
       "    <tr>\n",
       "      <th>4</th>\n",
       "      <td>9237-HQITU</td>\n",
       "      <td>Female</td>\n",
       "      <td>0</td>\n",
       "      <td>No</td>\n",
       "      <td>No</td>\n",
       "    </tr>\n",
       "  </tbody>\n",
       "</table>\n",
       "</div>"
      ],
      "text/plain": [
       "   customerID  gender  SeniorCitizen Partner Dependents\n",
       "0  7590-VHVEG  Female              0     Yes         No\n",
       "1  5575-GNVDE    Male              0      No         No\n",
       "2  3668-QPYBK    Male              0      No         No\n",
       "3  7795-CFOCW    Male              0      No         No\n",
       "4  9237-HQITU  Female              0      No         No"
      ]
     },
     "execution_count": 9,
     "metadata": {},
     "output_type": "execute_result"
    }
   ],
   "source": [
    "personal_new = pd.read_csv('/datasets/personal_new.csv')\n",
    "personal_new.head()"
   ]
  },
  {
   "cell_type": "code",
   "execution_count": 10,
   "id": "969fcf17",
   "metadata": {},
   "outputs": [
    {
     "data": {
      "text/html": [
       "<div>\n",
       "<style scoped>\n",
       "    .dataframe tbody tr th:only-of-type {\n",
       "        vertical-align: middle;\n",
       "    }\n",
       "\n",
       "    .dataframe tbody tr th {\n",
       "        vertical-align: top;\n",
       "    }\n",
       "\n",
       "    .dataframe thead th {\n",
       "        text-align: right;\n",
       "    }\n",
       "</style>\n",
       "<table border=\"1\" class=\"dataframe\">\n",
       "  <thead>\n",
       "    <tr style=\"text-align: right;\">\n",
       "      <th></th>\n",
       "      <th>customerID</th>\n",
       "      <th>InternetService</th>\n",
       "      <th>OnlineSecurity</th>\n",
       "      <th>OnlineBackup</th>\n",
       "      <th>DeviceProtection</th>\n",
       "      <th>TechSupport</th>\n",
       "      <th>StreamingTV</th>\n",
       "      <th>StreamingMovies</th>\n",
       "    </tr>\n",
       "  </thead>\n",
       "  <tbody>\n",
       "    <tr>\n",
       "      <th>0</th>\n",
       "      <td>7590-VHVEG</td>\n",
       "      <td>DSL</td>\n",
       "      <td>No</td>\n",
       "      <td>Yes</td>\n",
       "      <td>No</td>\n",
       "      <td>No</td>\n",
       "      <td>No</td>\n",
       "      <td>No</td>\n",
       "    </tr>\n",
       "    <tr>\n",
       "      <th>1</th>\n",
       "      <td>5575-GNVDE</td>\n",
       "      <td>DSL</td>\n",
       "      <td>Yes</td>\n",
       "      <td>No</td>\n",
       "      <td>Yes</td>\n",
       "      <td>No</td>\n",
       "      <td>No</td>\n",
       "      <td>No</td>\n",
       "    </tr>\n",
       "    <tr>\n",
       "      <th>2</th>\n",
       "      <td>3668-QPYBK</td>\n",
       "      <td>DSL</td>\n",
       "      <td>Yes</td>\n",
       "      <td>Yes</td>\n",
       "      <td>No</td>\n",
       "      <td>No</td>\n",
       "      <td>No</td>\n",
       "      <td>No</td>\n",
       "    </tr>\n",
       "    <tr>\n",
       "      <th>3</th>\n",
       "      <td>7795-CFOCW</td>\n",
       "      <td>DSL</td>\n",
       "      <td>Yes</td>\n",
       "      <td>No</td>\n",
       "      <td>Yes</td>\n",
       "      <td>Yes</td>\n",
       "      <td>No</td>\n",
       "      <td>No</td>\n",
       "    </tr>\n",
       "    <tr>\n",
       "      <th>4</th>\n",
       "      <td>9237-HQITU</td>\n",
       "      <td>Fiber optic</td>\n",
       "      <td>No</td>\n",
       "      <td>No</td>\n",
       "      <td>No</td>\n",
       "      <td>No</td>\n",
       "      <td>No</td>\n",
       "      <td>No</td>\n",
       "    </tr>\n",
       "  </tbody>\n",
       "</table>\n",
       "</div>"
      ],
      "text/plain": [
       "   customerID InternetService OnlineSecurity OnlineBackup DeviceProtection  \\\n",
       "0  7590-VHVEG             DSL             No          Yes               No   \n",
       "1  5575-GNVDE             DSL            Yes           No              Yes   \n",
       "2  3668-QPYBK             DSL            Yes          Yes               No   \n",
       "3  7795-CFOCW             DSL            Yes           No              Yes   \n",
       "4  9237-HQITU     Fiber optic             No           No               No   \n",
       "\n",
       "  TechSupport StreamingTV StreamingMovies  \n",
       "0          No          No              No  \n",
       "1          No          No              No  \n",
       "2          No          No              No  \n",
       "3         Yes          No              No  \n",
       "4          No          No              No  "
      ]
     },
     "execution_count": 10,
     "metadata": {},
     "output_type": "execute_result"
    }
   ],
   "source": [
    "internet_new = pd.read_csv('/datasets/internet_new.csv')\n",
    "internet_new.head()"
   ]
  },
  {
   "cell_type": "code",
   "execution_count": 11,
   "id": "7fc4bf14",
   "metadata": {},
   "outputs": [
    {
     "data": {
      "text/html": [
       "<div>\n",
       "<style scoped>\n",
       "    .dataframe tbody tr th:only-of-type {\n",
       "        vertical-align: middle;\n",
       "    }\n",
       "\n",
       "    .dataframe tbody tr th {\n",
       "        vertical-align: top;\n",
       "    }\n",
       "\n",
       "    .dataframe thead th {\n",
       "        text-align: right;\n",
       "    }\n",
       "</style>\n",
       "<table border=\"1\" class=\"dataframe\">\n",
       "  <thead>\n",
       "    <tr style=\"text-align: right;\">\n",
       "      <th></th>\n",
       "      <th>customerID</th>\n",
       "      <th>MultipleLines</th>\n",
       "    </tr>\n",
       "  </thead>\n",
       "  <tbody>\n",
       "    <tr>\n",
       "      <th>0</th>\n",
       "      <td>5575-GNVDE</td>\n",
       "      <td>No</td>\n",
       "    </tr>\n",
       "    <tr>\n",
       "      <th>1</th>\n",
       "      <td>3668-QPYBK</td>\n",
       "      <td>No</td>\n",
       "    </tr>\n",
       "    <tr>\n",
       "      <th>2</th>\n",
       "      <td>9237-HQITU</td>\n",
       "      <td>No</td>\n",
       "    </tr>\n",
       "    <tr>\n",
       "      <th>3</th>\n",
       "      <td>9305-CDSKC</td>\n",
       "      <td>Yes</td>\n",
       "    </tr>\n",
       "    <tr>\n",
       "      <th>4</th>\n",
       "      <td>1452-KIOVK</td>\n",
       "      <td>Yes</td>\n",
       "    </tr>\n",
       "  </tbody>\n",
       "</table>\n",
       "</div>"
      ],
      "text/plain": [
       "   customerID MultipleLines\n",
       "0  5575-GNVDE            No\n",
       "1  3668-QPYBK            No\n",
       "2  9237-HQITU            No\n",
       "3  9305-CDSKC           Yes\n",
       "4  1452-KIOVK           Yes"
      ]
     },
     "execution_count": 11,
     "metadata": {},
     "output_type": "execute_result"
    }
   ],
   "source": [
    "phone_new = pd.read_csv('/datasets/phone_new.csv')\n",
    "phone_new.head()"
   ]
  },
  {
   "cell_type": "markdown",
   "id": "fc9b8d92",
   "metadata": {},
   "source": [
    "Данные загрузили и провели первичный осмотр.\n",
    "\n",
    "Можем переходить к предобработке данных."
   ]
  },
  {
   "cell_type": "markdown",
   "id": "0f5e47a5",
   "metadata": {},
   "source": [
    "<div class=\"alert alert-success\">\n",
    "<b>👍 Успех:</b> Есть описание задачи, план реализации проекта, импортированы нужные библиотеки, датасеты загружены и просмотрены\n",
    "</div>"
   ]
  },
  {
   "cell_type": "markdown",
   "id": "3d445f85",
   "metadata": {},
   "source": [
    "## Предобработка данных"
   ]
  },
  {
   "cell_type": "markdown",
   "id": "ec1f0b83",
   "metadata": {},
   "source": [
    "### Файл contract_new"
   ]
  },
  {
   "cell_type": "code",
   "execution_count": 12,
   "id": "baa11640",
   "metadata": {},
   "outputs": [
    {
     "name": "stdout",
     "output_type": "stream",
     "text": [
      "<class 'pandas.core.frame.DataFrame'>\n",
      "RangeIndex: 7043 entries, 0 to 7042\n",
      "Data columns (total 8 columns):\n",
      " #   Column            Non-Null Count  Dtype  \n",
      "---  ------            --------------  -----  \n",
      " 0   customerID        7043 non-null   object \n",
      " 1   BeginDate         7043 non-null   object \n",
      " 2   EndDate           7043 non-null   object \n",
      " 3   Type              7043 non-null   object \n",
      " 4   PaperlessBilling  7043 non-null   object \n",
      " 5   PaymentMethod     7043 non-null   object \n",
      " 6   MonthlyCharges    7043 non-null   float64\n",
      " 7   TotalCharges      7043 non-null   object \n",
      "dtypes: float64(1), object(7)\n",
      "memory usage: 440.3+ KB\n"
     ]
    }
   ],
   "source": [
    "contract_new.info() # общая информация"
   ]
  },
  {
   "cell_type": "markdown",
   "id": "22b25989",
   "metadata": {},
   "source": [
    "1) Приведем все названия столбцов к змеиному регистру"
   ]
  },
  {
   "cell_type": "code",
   "execution_count": 13,
   "id": "177b65c1",
   "metadata": {},
   "outputs": [
    {
     "name": "stdout",
     "output_type": "stream",
     "text": [
      "Index(['customer_id', 'begin_date', 'end_date', 'type', 'paperless_billing',\n",
      "       'payment_method', 'monthly_charges', 'total_charges'],\n",
      "      dtype='object')\n"
     ]
    }
   ],
   "source": [
    "contract_new = contract_new.rename(columns={'customerID':'customer_id', 'BeginDate':'begin_date',\n",
    "                                           'EndDate':'end_date', 'Type':'type',\n",
    "                                           'PaperlessBilling':'paperless_billing', 'PaymentMethod':'payment_method',\n",
    "                                           'MonthlyCharges':'monthly_charges', 'TotalCharges':'total_charges'})\n",
    "print(contract_new.columns)"
   ]
  },
  {
   "cell_type": "markdown",
   "id": "a009b986",
   "metadata": {},
   "source": [
    "2) Проверим на явные и неявные дубликаты"
   ]
  },
  {
   "cell_type": "code",
   "execution_count": 14,
   "id": "6758188a",
   "metadata": {},
   "outputs": [
    {
     "name": "stdout",
     "output_type": "stream",
     "text": [
      "Список уникальных значений для customer_id: ['7590-VHVEG' '5575-GNVDE' '3668-QPYBK' ... '4801-JZAZL' '8361-LTMKD'\n",
      " '3186-AJIEK']\n",
      "Количество уникальных значений для customer_id: 7043 \n",
      "\n",
      "Список уникальных значений для begin_date: ['2020-01-01' '2017-04-01' '2019-10-01' '2016-05-01' '2019-09-01'\n",
      " '2019-03-01' '2018-04-01' '2019-04-01' '2017-07-01' '2014-12-01'\n",
      " '2019-01-01' '2018-10-01' '2015-04-01' '2015-09-01' '2018-01-01'\n",
      " '2014-05-01' '2015-10-01' '2014-03-01' '2018-05-01' '2019-11-01'\n",
      " '2019-02-01' '2016-01-01' '2017-08-01' '2015-12-01' '2014-02-01'\n",
      " '2018-06-01' '2019-12-01' '2017-11-01' '2019-06-01' '2016-04-01'\n",
      " '2017-02-01' '2018-12-01' '2014-04-01' '2018-09-01' '2014-11-01'\n",
      " '2016-07-01' '2015-02-01' '2018-07-01' '2014-08-01' '2016-03-01'\n",
      " '2018-08-01' '2014-10-01' '2015-06-01' '2016-08-01' '2019-05-01'\n",
      " '2017-03-01' '2016-02-01' '2017-09-01' '2014-09-01' '2017-12-01'\n",
      " '2016-12-01' '2017-06-01' '2015-05-01' '2016-10-01' '2016-09-01'\n",
      " '2019-08-01' '2019-07-01' '2017-05-01' '2017-10-01' '2014-07-01'\n",
      " '2018-03-01' '2015-01-01' '2018-11-01' '2015-03-01' '2018-02-01'\n",
      " '2016-06-01' '2015-08-01' '2015-11-01' '2014-06-01' '2017-01-01'\n",
      " '2015-07-01' '2020-02-01' '2016-11-01' '2013-11-01' '2014-01-01'\n",
      " '2013-10-01' '2013-12-01']\n",
      "Количество уникальных значений для begin_date: 77 \n",
      "\n",
      "Список уникальных значений для end_date: ['No' '2017-05-01' '2016-03-01' '2018-09-01' '2018-11-01' '2018-12-01'\n",
      " '2019-08-01' '2018-07-01' '2017-09-01' '2015-09-01' '2016-07-01'\n",
      " '2016-06-01' '2018-03-01' '2019-02-01' '2018-06-01' '2019-06-01'\n",
      " '2020-01-01' '2019-11-01' '2016-09-01' '2015-06-01' '2016-12-01'\n",
      " '2019-05-01' '2019-04-01' '2017-06-01' '2017-08-01' '2018-04-01'\n",
      " '2018-08-01' '2018-02-01' '2019-07-01' '2015-12-01' '2014-06-01'\n",
      " '2018-10-01' '2019-01-01' '2017-07-01' '2017-12-01' '2018-05-01'\n",
      " '2015-11-01' '2019-10-01' '2019-03-01' '2016-02-01' '2016-10-01'\n",
      " '2018-01-01' '2017-11-01' '2015-10-01' '2019-12-01' '2015-07-01'\n",
      " '2017-04-01' '2015-02-01' '2017-03-01' '2016-05-01' '2016-11-01'\n",
      " '2015-08-01' '2019-09-01' '2017-10-01' '2017-02-01' '2016-08-01'\n",
      " '2016-04-01' '2015-05-01' '2014-09-01' '2014-10-01' '2017-01-01'\n",
      " '2015-03-01' '2015-01-01' '2016-01-01' '2015-04-01' '2014-12-01'\n",
      " '2014-11-01']\n",
      "Количество уникальных значений для end_date: 67 \n",
      "\n",
      "Список уникальных значений для type: ['Month-to-month' 'One year' 'Two year']\n",
      "Количество уникальных значений для type: 3 \n",
      "\n",
      "Список уникальных значений для paperless_billing: ['Yes' 'No']\n",
      "Количество уникальных значений для paperless_billing: 2 \n",
      "\n",
      "Список уникальных значений для payment_method: ['Electronic check' 'Mailed check' 'Bank transfer (automatic)'\n",
      " 'Credit card (automatic)']\n",
      "Количество уникальных значений для payment_method: 4 \n",
      "\n",
      "Список уникальных значений для monthly_charges: [29.85 56.95 53.85 ... 63.1  44.2  78.7 ]\n",
      "Количество уникальных значений для monthly_charges: 1585 \n",
      "\n",
      "Список уникальных значений для total_charges: ['31.04' '2071.84' '226.17' ... '325.6' '520.8' '7251.82']\n",
      "Количество уникальных значений для total_charges: 6658 \n",
      "\n"
     ]
    }
   ],
   "source": [
    "for column in contract_new.columns:\n",
    "    print(f'Список уникальных значений для {column}: {contract_new[column].unique()}')\n",
    "    print(f'Количество уникальных значений для {column}: {len(contract_new[column].unique())}', '\\n')"
   ]
  },
  {
   "cell_type": "markdown",
   "id": "723de457",
   "metadata": {},
   "source": [
    "Можем заметить:\n",
    "\n",
    "- Количество уникальных идентификаторов совпадает с размером датафрейма (7043)\n",
    "\n",
    "- В столбце ***end_date*** присутствуют не только даты, но и слово No - дата контракта не закончена на момент 1 февраля 2020 года\n",
    "\n",
    "- Неявных дубликатов нет, однако выявили, что не все данные имеют подходящий тип"
   ]
  },
  {
   "cell_type": "markdown",
   "id": "683559fd",
   "metadata": {},
   "source": [
    "<div class=\"alert alert-success\">\n",
    "<b>👍 Успех:</b> Все верно!\n",
    "</div>"
   ]
  },
  {
   "cell_type": "markdown",
   "id": "8a08a855",
   "metadata": {},
   "source": [
    "----\n",
    "Также стоит отметить, что для нас не столько важна именно дата окончания договора, сколько важен факт его окончания и его длительность, поэтому для нашего анализа добавим два новых признака:\n",
    "\n",
    "- ***activity*** - активность пользователя: 1 - договор на момент выгрузки данных действителен, 0 - договор рассторгнут\n",
    "\n",
    "- ***duration*** - длительность договора: для строчек ***end_date***, в которых указано \"No\", запишем дату выгрузки данных 2020-02-01\n",
    "\n",
    "После этого столбцы ***begin_date*** и ***end_date*** мы можем удалить, так как сами по себе даты для нашего анализа не понадобятся"
   ]
  },
  {
   "cell_type": "markdown",
   "id": "e3530719",
   "metadata": {},
   "source": [
    "3) Изменение типов данных и добавление новых признаков"
   ]
  },
  {
   "cell_type": "code",
   "execution_count": 15,
   "id": "64319fe8",
   "metadata": {},
   "outputs": [
    {
     "name": "stdout",
     "output_type": "stream",
     "text": [
      "<class 'pandas.core.frame.DataFrame'>\n",
      "RangeIndex: 7043 entries, 0 to 7042\n",
      "Data columns (total 8 columns):\n",
      " #   Column             Non-Null Count  Dtype  \n",
      "---  ------             --------------  -----  \n",
      " 0   customer_id        7043 non-null   object \n",
      " 1   type               7043 non-null   object \n",
      " 2   paperless_billing  7043 non-null   object \n",
      " 3   payment_method     7043 non-null   object \n",
      " 4   monthly_charges    7043 non-null   float64\n",
      " 5   total_charges      7043 non-null   object \n",
      " 6   activity           7043 non-null   int64  \n",
      " 7   duration           7043 non-null   int64  \n",
      "dtypes: float64(1), int64(2), object(5)\n",
      "memory usage: 440.3+ KB\n"
     ]
    }
   ],
   "source": [
    "contract_new['begin_date'] = pd.to_datetime(contract_new['begin_date'])\n",
    "\n",
    "contract_new['activity'] = [1 if contract_new['end_date'][i] == 'No' else 0 for i in range(len(contract_new['end_date']))]\n",
    "\n",
    "contract_new['end_date'] = ['2020-02-01' if contract_new['end_date'][i] == 'No' else contract_new['end_date'][i] for i in range(len(contract_new['end_date']))]\n",
    "contract_new['end_date'] = pd.to_datetime(contract_new['end_date'])\n",
    "contract_new['duration'] = (contract_new['end_date'] - contract_new['begin_date']).dt.components.days\n",
    "\n",
    "contract_new = contract_new.drop(['begin_date', 'end_date'], axis=1)\n",
    "contract_new.info()"
   ]
  },
  {
   "cell_type": "markdown",
   "id": "e11563bc",
   "metadata": {},
   "source": [
    "<div class=\"alert alert-success\">\n",
    "<b>👍 Успех:</b> Все верно! Добавлены новые признаки\n",
    "</div>"
   ]
  },
  {
   "cell_type": "markdown",
   "id": "6056719c",
   "metadata": {},
   "source": [
    "Осталось изменить тип данных в столбце ***total_charges***, для начала просмотрев находятся ли в этом столбце только числа или есть некорректные данные"
   ]
  },
  {
   "cell_type": "code",
   "execution_count": 16,
   "id": "0ae8f595",
   "metadata": {},
   "outputs": [
    {
     "name": "stdout",
     "output_type": "stream",
     "text": [
      "[' ', ' ', ' ', ' ', ' ', ' ', ' ', ' ', ' ', ' ', ' ']\n"
     ]
    }
   ],
   "source": [
    "listik = []\n",
    "for i in range(0, len(contract_new['total_charges'])):\n",
    "    try:\n",
    "        num = float(contract_new['total_charges'][i])\n",
    "    except:\n",
    "        listik.append(contract_new['total_charges'][i])\n",
    "print(listik)"
   ]
  },
  {
   "cell_type": "code",
   "execution_count": 17,
   "id": "0e81aa0f",
   "metadata": {},
   "outputs": [
    {
     "name": "stdout",
     "output_type": "stream",
     "text": [
      "customer_id                7590-VHVEG\n",
      "type                   Month-to-month\n",
      "paperless_billing                 Yes\n",
      "payment_method       Electronic check\n",
      "monthly_charges                 29.85\n",
      "total_charges                   31.04\n",
      "activity                            1\n",
      "duration                           31\n",
      "Name: 0, dtype: object\n"
     ]
    }
   ],
   "source": [
    "print(contract_new.iloc[0])"
   ]
  },
  {
   "cell_type": "code",
   "execution_count": 18,
   "id": "42fc8add",
   "metadata": {},
   "outputs": [
    {
     "name": "stdout",
     "output_type": "stream",
     "text": [
      "customer_id                         4472-LVYGI\n",
      "type                                  Two year\n",
      "paperless_billing                          Yes\n",
      "payment_method       Bank transfer (automatic)\n",
      "monthly_charges                          52.55\n",
      "total_charges                                 \n",
      "activity                                     1\n",
      "duration                                     0\n",
      "Name: 488, dtype: object \n",
      "\n",
      "customer_id            3115-CZMZD\n",
      "type                     Two year\n",
      "paperless_billing              No\n",
      "payment_method       Mailed check\n",
      "monthly_charges             20.25\n",
      "total_charges                    \n",
      "activity                        1\n",
      "duration                        0\n",
      "Name: 753, dtype: object \n",
      "\n",
      "customer_id            5709-LVOEQ\n",
      "type                     Two year\n",
      "paperless_billing              No\n",
      "payment_method       Mailed check\n",
      "monthly_charges             80.85\n",
      "total_charges                    \n",
      "activity                        1\n",
      "duration                        0\n",
      "Name: 936, dtype: object \n",
      "\n",
      "customer_id            4367-NUYAO\n",
      "type                     Two year\n",
      "paperless_billing              No\n",
      "payment_method       Mailed check\n",
      "monthly_charges             25.75\n",
      "total_charges                    \n",
      "activity                        1\n",
      "duration                        0\n",
      "Name: 1082, dtype: object \n",
      "\n",
      "customer_id                       1371-DWPAZ\n",
      "type                                Two year\n",
      "paperless_billing                         No\n",
      "payment_method       Credit card (automatic)\n",
      "monthly_charges                        56.05\n",
      "total_charges                               \n",
      "activity                                   1\n",
      "duration                                   0\n",
      "Name: 1340, dtype: object \n",
      "\n",
      "customer_id            7644-OMVMY\n",
      "type                     Two year\n",
      "paperless_billing              No\n",
      "payment_method       Mailed check\n",
      "monthly_charges             19.85\n",
      "total_charges                    \n",
      "activity                        1\n",
      "duration                        0\n",
      "Name: 3331, dtype: object \n",
      "\n",
      "customer_id            3213-VVOLG\n",
      "type                     Two year\n",
      "paperless_billing              No\n",
      "payment_method       Mailed check\n",
      "monthly_charges             25.35\n",
      "total_charges                    \n",
      "activity                        1\n",
      "duration                        0\n",
      "Name: 3826, dtype: object \n",
      "\n",
      "customer_id            2520-SGTTA\n",
      "type                     Two year\n",
      "paperless_billing              No\n",
      "payment_method       Mailed check\n",
      "monthly_charges              20.0\n",
      "total_charges                    \n",
      "activity                        1\n",
      "duration                        0\n",
      "Name: 4380, dtype: object \n",
      "\n",
      "customer_id            2923-ARZLG\n",
      "type                     One year\n",
      "paperless_billing             Yes\n",
      "payment_method       Mailed check\n",
      "monthly_charges              19.7\n",
      "total_charges                    \n",
      "activity                        1\n",
      "duration                        0\n",
      "Name: 5218, dtype: object \n",
      "\n",
      "customer_id            4075-WKNIU\n",
      "type                     Two year\n",
      "paperless_billing              No\n",
      "payment_method       Mailed check\n",
      "monthly_charges             73.35\n",
      "total_charges                    \n",
      "activity                        1\n",
      "duration                        0\n",
      "Name: 6670, dtype: object \n",
      "\n",
      "customer_id                         2775-SEFEE\n",
      "type                                  Two year\n",
      "paperless_billing                          Yes\n",
      "payment_method       Bank transfer (automatic)\n",
      "monthly_charges                           61.9\n",
      "total_charges                                 \n",
      "activity                                     1\n",
      "duration                                     0\n",
      "Name: 6754, dtype: object \n",
      "\n"
     ]
    }
   ],
   "source": [
    "for string in range(0, len(contract_new)):\n",
    "    if contract_new['total_charges'][string] == ' ':\n",
    "        print(contract_new.iloc[string], '\\n')"
   ]
  },
  {
   "cell_type": "markdown",
   "id": "b7d0abbf",
   "metadata": {},
   "source": [
    "Видим, что в этом столбце присутствуют не только числа, но и пробелы, которые могут говорить о том, что оплаты за услуги не производились. \n",
    "\n",
    "Посмотрев все данные о таких пользователях, можно заметить, что у них у всех ***duration*** (длительность действия договора) - 0 дней, то есть они подключили услуги оператора в день выгрузки данных. Их тип оплаты - раз в два года, при этом какой-то начальный месячный платеж был внесен.\n",
    "\n",
    "Таким образом, изменим пробелы на 0 и изменим тип данных этого столбца."
   ]
  },
  {
   "cell_type": "markdown",
   "id": "6b72260a",
   "metadata": {},
   "source": [
    "<div class=\"alert alert-danger\">\n",
    "<s><b>😔 Необходимо исправить:</b> Почему был сделан такой вывод? Нужно обязательно смотреть на данные</s>\n",
    "</div>"
   ]
  },
  {
   "cell_type": "markdown",
   "id": "e75e2593",
   "metadata": {},
   "source": [
    "<div class=\"alert alert-info\"> <b>🎓 Комментарий студента:</b> Спасибо большое, просмотрела данные, заметила нулевую длительность договора и добавила это в вывод) </div>"
   ]
  },
  {
   "cell_type": "markdown",
   "id": "5d4ba209",
   "metadata": {},
   "source": [
    "<div class=\"alert alert-success\">\n",
    "<b>👍 Успех:</b> Все верно! Они еще не успели заплатить\n",
    "</div>"
   ]
  },
  {
   "cell_type": "code",
   "execution_count": 19,
   "id": "825bc26e",
   "metadata": {},
   "outputs": [
    {
     "name": "stdout",
     "output_type": "stream",
     "text": [
      "<class 'pandas.core.frame.DataFrame'>\n",
      "RangeIndex: 7043 entries, 0 to 7042\n",
      "Data columns (total 8 columns):\n",
      " #   Column             Non-Null Count  Dtype  \n",
      "---  ------             --------------  -----  \n",
      " 0   customer_id        7043 non-null   object \n",
      " 1   type               7043 non-null   object \n",
      " 2   paperless_billing  7043 non-null   object \n",
      " 3   payment_method     7043 non-null   object \n",
      " 4   monthly_charges    7043 non-null   float64\n",
      " 5   total_charges      7043 non-null   float64\n",
      " 6   activity           7043 non-null   int64  \n",
      " 7   duration           7043 non-null   int64  \n",
      "dtypes: float64(2), int64(2), object(4)\n",
      "memory usage: 440.3+ KB\n"
     ]
    }
   ],
   "source": [
    "contract_new.loc[contract_new['total_charges'] == ' ', 'total_charges'] = 0\n",
    "contract_new['total_charges'] = contract_new['total_charges'].astype('float64')\n",
    "contract_new.info()"
   ]
  },
  {
   "cell_type": "markdown",
   "id": "d79182aa",
   "metadata": {},
   "source": [
    "<div class=\"alert alert-danger\">\n",
    "    <s><b>😔 Необходимо исправить:</b> Не нужно использовать перебор по длине датасета</s>\n",
    "</div>"
   ]
  },
  {
   "cell_type": "markdown",
   "id": "1bdaaf67",
   "metadata": {},
   "source": [
    "<div class=\"alert alert-info\"> <b>🎓 Комментарий студента:</b> Спасибо! Исправила и сделала проще) </div>"
   ]
  },
  {
   "cell_type": "markdown",
   "id": "0d866362",
   "metadata": {},
   "source": [
    "<div class=\"alert alert-success\">\n",
    "<b>👍 Успех:</b> Да, обычно всегда можно сделать все просто!\n",
    "</div>"
   ]
  },
  {
   "cell_type": "markdown",
   "id": "49a3f1ae",
   "metadata": {},
   "source": [
    "----\n",
    "Провели предобработку данных из первого датафрейма, можем переходить к следующему"
   ]
  },
  {
   "cell_type": "markdown",
   "id": "d04d3d79",
   "metadata": {},
   "source": [
    "### Файл personal_new"
   ]
  },
  {
   "cell_type": "code",
   "execution_count": 20,
   "id": "b4066f02",
   "metadata": {},
   "outputs": [
    {
     "name": "stdout",
     "output_type": "stream",
     "text": [
      "<class 'pandas.core.frame.DataFrame'>\n",
      "RangeIndex: 7043 entries, 0 to 7042\n",
      "Data columns (total 5 columns):\n",
      " #   Column         Non-Null Count  Dtype \n",
      "---  ------         --------------  ----- \n",
      " 0   customerID     7043 non-null   object\n",
      " 1   gender         7043 non-null   object\n",
      " 2   SeniorCitizen  7043 non-null   int64 \n",
      " 3   Partner        7043 non-null   object\n",
      " 4   Dependents     7043 non-null   object\n",
      "dtypes: int64(1), object(4)\n",
      "memory usage: 275.2+ KB\n"
     ]
    },
    {
     "data": {
      "text/html": [
       "<div>\n",
       "<style scoped>\n",
       "    .dataframe tbody tr th:only-of-type {\n",
       "        vertical-align: middle;\n",
       "    }\n",
       "\n",
       "    .dataframe tbody tr th {\n",
       "        vertical-align: top;\n",
       "    }\n",
       "\n",
       "    .dataframe thead th {\n",
       "        text-align: right;\n",
       "    }\n",
       "</style>\n",
       "<table border=\"1\" class=\"dataframe\">\n",
       "  <thead>\n",
       "    <tr style=\"text-align: right;\">\n",
       "      <th></th>\n",
       "      <th>customerID</th>\n",
       "      <th>gender</th>\n",
       "      <th>SeniorCitizen</th>\n",
       "      <th>Partner</th>\n",
       "      <th>Dependents</th>\n",
       "    </tr>\n",
       "  </thead>\n",
       "  <tbody>\n",
       "    <tr>\n",
       "      <th>0</th>\n",
       "      <td>7590-VHVEG</td>\n",
       "      <td>Female</td>\n",
       "      <td>0</td>\n",
       "      <td>Yes</td>\n",
       "      <td>No</td>\n",
       "    </tr>\n",
       "    <tr>\n",
       "      <th>1</th>\n",
       "      <td>5575-GNVDE</td>\n",
       "      <td>Male</td>\n",
       "      <td>0</td>\n",
       "      <td>No</td>\n",
       "      <td>No</td>\n",
       "    </tr>\n",
       "    <tr>\n",
       "      <th>2</th>\n",
       "      <td>3668-QPYBK</td>\n",
       "      <td>Male</td>\n",
       "      <td>0</td>\n",
       "      <td>No</td>\n",
       "      <td>No</td>\n",
       "    </tr>\n",
       "    <tr>\n",
       "      <th>3</th>\n",
       "      <td>7795-CFOCW</td>\n",
       "      <td>Male</td>\n",
       "      <td>0</td>\n",
       "      <td>No</td>\n",
       "      <td>No</td>\n",
       "    </tr>\n",
       "    <tr>\n",
       "      <th>4</th>\n",
       "      <td>9237-HQITU</td>\n",
       "      <td>Female</td>\n",
       "      <td>0</td>\n",
       "      <td>No</td>\n",
       "      <td>No</td>\n",
       "    </tr>\n",
       "  </tbody>\n",
       "</table>\n",
       "</div>"
      ],
      "text/plain": [
       "   customerID  gender  SeniorCitizen Partner Dependents\n",
       "0  7590-VHVEG  Female              0     Yes         No\n",
       "1  5575-GNVDE    Male              0      No         No\n",
       "2  3668-QPYBK    Male              0      No         No\n",
       "3  7795-CFOCW    Male              0      No         No\n",
       "4  9237-HQITU  Female              0      No         No"
      ]
     },
     "execution_count": 20,
     "metadata": {},
     "output_type": "execute_result"
    }
   ],
   "source": [
    "personal_new.info()\n",
    "personal_new.head()"
   ]
  },
  {
   "cell_type": "markdown",
   "id": "b7742bbe",
   "metadata": {},
   "source": [
    "1) Переведем названия столбцов к змеиному регистру"
   ]
  },
  {
   "cell_type": "code",
   "execution_count": 21,
   "id": "3ffb79e9",
   "metadata": {},
   "outputs": [
    {
     "name": "stdout",
     "output_type": "stream",
     "text": [
      "Index(['customer_id', 'gender', 'senior_citizen', 'partner', 'dependents'], dtype='object')\n"
     ]
    }
   ],
   "source": [
    "personal_new = personal_new.rename(columns={'customerID':'customer_id', 'SeniorCitizen':'senior_citizen',\n",
    "                                           'Partner':'partner', 'Dependents':'dependents'})\n",
    "print(personal_new.columns)"
   ]
  },
  {
   "cell_type": "markdown",
   "id": "aaedf2d6",
   "metadata": {},
   "source": [
    "2) Проверка на явные и неявные дубликаты"
   ]
  },
  {
   "cell_type": "code",
   "execution_count": 22,
   "id": "77b95f77",
   "metadata": {},
   "outputs": [
    {
     "name": "stdout",
     "output_type": "stream",
     "text": [
      "Список уникальных значений для customer_id: ['7590-VHVEG' '5575-GNVDE' '3668-QPYBK' ... '4801-JZAZL' '8361-LTMKD'\n",
      " '3186-AJIEK']\n",
      "Количество уникальных значений для customer_id: 7043 \n",
      "\n",
      "Список уникальных значений для gender: ['Female' 'Male']\n",
      "Количество уникальных значений для gender: 2 \n",
      "\n",
      "Список уникальных значений для senior_citizen: [0 1]\n",
      "Количество уникальных значений для senior_citizen: 2 \n",
      "\n",
      "Список уникальных значений для partner: ['Yes' 'No']\n",
      "Количество уникальных значений для partner: 2 \n",
      "\n",
      "Список уникальных значений для dependents: ['No' 'Yes']\n",
      "Количество уникальных значений для dependents: 2 \n",
      "\n"
     ]
    }
   ],
   "source": [
    "for column in personal_new.columns:\n",
    "    print(f'Список уникальных значений для {column}: {personal_new[column].unique()}')\n",
    "    print(f'Количество уникальных значений для {column}: {len(personal_new[column].unique())}', '\\n')"
   ]
  },
  {
   "cell_type": "markdown",
   "id": "059c0324",
   "metadata": {},
   "source": [
    "В данных не было замечено ни явных, ни неявных дублей."
   ]
  },
  {
   "cell_type": "markdown",
   "id": "cf55decd",
   "metadata": {},
   "source": [
    "<div class=\"alert alert-success\">\n",
    "<b>👍 Успех:</b> Все верно!\n",
    "</div>"
   ]
  },
  {
   "cell_type": "markdown",
   "id": "b75d2028",
   "metadata": {},
   "source": [
    "----\n",
    "Типы данных для этого датафрейма менять не стоит, они все отмечено верно.\n",
    "\n",
    "Таким образом можем перейти к предобработке следующего датафрейма."
   ]
  },
  {
   "cell_type": "markdown",
   "id": "84ff924c",
   "metadata": {},
   "source": [
    "### Файл internet_new "
   ]
  },
  {
   "cell_type": "code",
   "execution_count": 23,
   "id": "c7b42240",
   "metadata": {},
   "outputs": [
    {
     "name": "stdout",
     "output_type": "stream",
     "text": [
      "<class 'pandas.core.frame.DataFrame'>\n",
      "RangeIndex: 5517 entries, 0 to 5516\n",
      "Data columns (total 8 columns):\n",
      " #   Column            Non-Null Count  Dtype \n",
      "---  ------            --------------  ----- \n",
      " 0   customerID        5517 non-null   object\n",
      " 1   InternetService   5517 non-null   object\n",
      " 2   OnlineSecurity    5517 non-null   object\n",
      " 3   OnlineBackup      5517 non-null   object\n",
      " 4   DeviceProtection  5517 non-null   object\n",
      " 5   TechSupport       5517 non-null   object\n",
      " 6   StreamingTV       5517 non-null   object\n",
      " 7   StreamingMovies   5517 non-null   object\n",
      "dtypes: object(8)\n",
      "memory usage: 344.9+ KB\n"
     ]
    },
    {
     "data": {
      "text/html": [
       "<div>\n",
       "<style scoped>\n",
       "    .dataframe tbody tr th:only-of-type {\n",
       "        vertical-align: middle;\n",
       "    }\n",
       "\n",
       "    .dataframe tbody tr th {\n",
       "        vertical-align: top;\n",
       "    }\n",
       "\n",
       "    .dataframe thead th {\n",
       "        text-align: right;\n",
       "    }\n",
       "</style>\n",
       "<table border=\"1\" class=\"dataframe\">\n",
       "  <thead>\n",
       "    <tr style=\"text-align: right;\">\n",
       "      <th></th>\n",
       "      <th>customerID</th>\n",
       "      <th>InternetService</th>\n",
       "      <th>OnlineSecurity</th>\n",
       "      <th>OnlineBackup</th>\n",
       "      <th>DeviceProtection</th>\n",
       "      <th>TechSupport</th>\n",
       "      <th>StreamingTV</th>\n",
       "      <th>StreamingMovies</th>\n",
       "    </tr>\n",
       "  </thead>\n",
       "  <tbody>\n",
       "    <tr>\n",
       "      <th>0</th>\n",
       "      <td>7590-VHVEG</td>\n",
       "      <td>DSL</td>\n",
       "      <td>No</td>\n",
       "      <td>Yes</td>\n",
       "      <td>No</td>\n",
       "      <td>No</td>\n",
       "      <td>No</td>\n",
       "      <td>No</td>\n",
       "    </tr>\n",
       "    <tr>\n",
       "      <th>1</th>\n",
       "      <td>5575-GNVDE</td>\n",
       "      <td>DSL</td>\n",
       "      <td>Yes</td>\n",
       "      <td>No</td>\n",
       "      <td>Yes</td>\n",
       "      <td>No</td>\n",
       "      <td>No</td>\n",
       "      <td>No</td>\n",
       "    </tr>\n",
       "    <tr>\n",
       "      <th>2</th>\n",
       "      <td>3668-QPYBK</td>\n",
       "      <td>DSL</td>\n",
       "      <td>Yes</td>\n",
       "      <td>Yes</td>\n",
       "      <td>No</td>\n",
       "      <td>No</td>\n",
       "      <td>No</td>\n",
       "      <td>No</td>\n",
       "    </tr>\n",
       "    <tr>\n",
       "      <th>3</th>\n",
       "      <td>7795-CFOCW</td>\n",
       "      <td>DSL</td>\n",
       "      <td>Yes</td>\n",
       "      <td>No</td>\n",
       "      <td>Yes</td>\n",
       "      <td>Yes</td>\n",
       "      <td>No</td>\n",
       "      <td>No</td>\n",
       "    </tr>\n",
       "    <tr>\n",
       "      <th>4</th>\n",
       "      <td>9237-HQITU</td>\n",
       "      <td>Fiber optic</td>\n",
       "      <td>No</td>\n",
       "      <td>No</td>\n",
       "      <td>No</td>\n",
       "      <td>No</td>\n",
       "      <td>No</td>\n",
       "      <td>No</td>\n",
       "    </tr>\n",
       "  </tbody>\n",
       "</table>\n",
       "</div>"
      ],
      "text/plain": [
       "   customerID InternetService OnlineSecurity OnlineBackup DeviceProtection  \\\n",
       "0  7590-VHVEG             DSL             No          Yes               No   \n",
       "1  5575-GNVDE             DSL            Yes           No              Yes   \n",
       "2  3668-QPYBK             DSL            Yes          Yes               No   \n",
       "3  7795-CFOCW             DSL            Yes           No              Yes   \n",
       "4  9237-HQITU     Fiber optic             No           No               No   \n",
       "\n",
       "  TechSupport StreamingTV StreamingMovies  \n",
       "0          No          No              No  \n",
       "1          No          No              No  \n",
       "2          No          No              No  \n",
       "3         Yes          No              No  \n",
       "4          No          No              No  "
      ]
     },
     "execution_count": 23,
     "metadata": {},
     "output_type": "execute_result"
    }
   ],
   "source": [
    "internet_new.info()\n",
    "internet_new.head()"
   ]
  },
  {
   "cell_type": "markdown",
   "id": "62dc3055",
   "metadata": {},
   "source": [
    "Видим, что количество пользователей, которые пользовались услугами интернета у данной компании не совпадает с общим количеством человек, которые когда-либо заключали договор. Мы это должны будем обязательно учесть при объединение наших таблиц, когда будем работать с пропусками.\n",
    "\n",
    "А теперь переходим к предобработке этого датафрейма."
   ]
  },
  {
   "cell_type": "markdown",
   "id": "071fdcfe",
   "metadata": {},
   "source": [
    "1) Приведем названия столбцов к змеиному регистру"
   ]
  },
  {
   "cell_type": "code",
   "execution_count": 24,
   "id": "66161c68",
   "metadata": {},
   "outputs": [
    {
     "name": "stdout",
     "output_type": "stream",
     "text": [
      "Index(['customer_id', 'internet_service', 'online_security', 'online_backup',\n",
      "       'device_protection', 'tech_support', 'streaming_tv',\n",
      "       'streaming_movies'],\n",
      "      dtype='object')\n"
     ]
    }
   ],
   "source": [
    "internet_new = internet_new.rename(columns={'customerID':'customer_id', 'InternetService':'internet_service',\n",
    "                                           'OnlineSecurity':'online_security', 'OnlineBackup':'online_backup',\n",
    "                                           'DeviceProtection':'device_protection', 'TechSupport':'tech_support',\n",
    "                                           'StreamingTV':'streaming_tv', 'StreamingMovies':'streaming_movies'})\n",
    "print(internet_new.columns)"
   ]
  },
  {
   "cell_type": "markdown",
   "id": "60d92208",
   "metadata": {},
   "source": [
    "2) Проверка на явные и неявные дубликаты"
   ]
  },
  {
   "cell_type": "code",
   "execution_count": 25,
   "id": "328df489",
   "metadata": {},
   "outputs": [
    {
     "name": "stdout",
     "output_type": "stream",
     "text": [
      "Список уникальных значений для customer_id: ['7590-VHVEG' '5575-GNVDE' '3668-QPYBK' ... '4801-JZAZL' '8361-LTMKD'\n",
      " '3186-AJIEK']\n",
      "Количество уникальных значений для customer_id: 5517 \n",
      "\n",
      "Список уникальных значений для internet_service: ['DSL' 'Fiber optic']\n",
      "Количество уникальных значений для internet_service: 2 \n",
      "\n",
      "Список уникальных значений для online_security: ['No' 'Yes']\n",
      "Количество уникальных значений для online_security: 2 \n",
      "\n",
      "Список уникальных значений для online_backup: ['Yes' 'No']\n",
      "Количество уникальных значений для online_backup: 2 \n",
      "\n",
      "Список уникальных значений для device_protection: ['No' 'Yes']\n",
      "Количество уникальных значений для device_protection: 2 \n",
      "\n",
      "Список уникальных значений для tech_support: ['No' 'Yes']\n",
      "Количество уникальных значений для tech_support: 2 \n",
      "\n",
      "Список уникальных значений для streaming_tv: ['No' 'Yes']\n",
      "Количество уникальных значений для streaming_tv: 2 \n",
      "\n",
      "Список уникальных значений для streaming_movies: ['No' 'Yes']\n",
      "Количество уникальных значений для streaming_movies: 2 \n",
      "\n"
     ]
    }
   ],
   "source": [
    "for column in internet_new.columns:\n",
    "    print(f'Список уникальных значений для {column}: {internet_new[column].unique()}')\n",
    "    print(f'Количество уникальных значений для {column}: {len(internet_new[column].unique())}', '\\n')"
   ]
  },
  {
   "cell_type": "markdown",
   "id": "735ec5af",
   "metadata": {},
   "source": [
    "В датафрейме отсутствуют явные и неявные дубликаты"
   ]
  },
  {
   "cell_type": "markdown",
   "id": "c98b54f6",
   "metadata": {},
   "source": [
    "<div class=\"alert alert-success\">\n",
    "<b>👍 Успех:</b> Все верно!\n",
    "</div>"
   ]
  },
  {
   "cell_type": "markdown",
   "id": "68564bb7",
   "metadata": {},
   "source": [
    "### Файл phone_new"
   ]
  },
  {
   "cell_type": "code",
   "execution_count": 26,
   "id": "72a44dac",
   "metadata": {},
   "outputs": [
    {
     "name": "stdout",
     "output_type": "stream",
     "text": [
      "<class 'pandas.core.frame.DataFrame'>\n",
      "RangeIndex: 6361 entries, 0 to 6360\n",
      "Data columns (total 2 columns):\n",
      " #   Column         Non-Null Count  Dtype \n",
      "---  ------         --------------  ----- \n",
      " 0   customerID     6361 non-null   object\n",
      " 1   MultipleLines  6361 non-null   object\n",
      "dtypes: object(2)\n",
      "memory usage: 99.5+ KB\n"
     ]
    },
    {
     "data": {
      "text/html": [
       "<div>\n",
       "<style scoped>\n",
       "    .dataframe tbody tr th:only-of-type {\n",
       "        vertical-align: middle;\n",
       "    }\n",
       "\n",
       "    .dataframe tbody tr th {\n",
       "        vertical-align: top;\n",
       "    }\n",
       "\n",
       "    .dataframe thead th {\n",
       "        text-align: right;\n",
       "    }\n",
       "</style>\n",
       "<table border=\"1\" class=\"dataframe\">\n",
       "  <thead>\n",
       "    <tr style=\"text-align: right;\">\n",
       "      <th></th>\n",
       "      <th>customerID</th>\n",
       "      <th>MultipleLines</th>\n",
       "    </tr>\n",
       "  </thead>\n",
       "  <tbody>\n",
       "    <tr>\n",
       "      <th>0</th>\n",
       "      <td>5575-GNVDE</td>\n",
       "      <td>No</td>\n",
       "    </tr>\n",
       "    <tr>\n",
       "      <th>1</th>\n",
       "      <td>3668-QPYBK</td>\n",
       "      <td>No</td>\n",
       "    </tr>\n",
       "    <tr>\n",
       "      <th>2</th>\n",
       "      <td>9237-HQITU</td>\n",
       "      <td>No</td>\n",
       "    </tr>\n",
       "    <tr>\n",
       "      <th>3</th>\n",
       "      <td>9305-CDSKC</td>\n",
       "      <td>Yes</td>\n",
       "    </tr>\n",
       "    <tr>\n",
       "      <th>4</th>\n",
       "      <td>1452-KIOVK</td>\n",
       "      <td>Yes</td>\n",
       "    </tr>\n",
       "  </tbody>\n",
       "</table>\n",
       "</div>"
      ],
      "text/plain": [
       "   customerID MultipleLines\n",
       "0  5575-GNVDE            No\n",
       "1  3668-QPYBK            No\n",
       "2  9237-HQITU            No\n",
       "3  9305-CDSKC           Yes\n",
       "4  1452-KIOVK           Yes"
      ]
     },
     "execution_count": 26,
     "metadata": {},
     "output_type": "execute_result"
    }
   ],
   "source": [
    "phone_new.info()\n",
    "phone_new.head()"
   ]
  },
  {
   "cell_type": "markdown",
   "id": "51ca8207",
   "metadata": {},
   "source": [
    "Аналогично предыдущему датафрейму, в этом датафрейме есть информация не про всех пользователей, следовательно не все пользуются услугами этого оператора, что тоже нужно будет учесть в дальнейшем."
   ]
  },
  {
   "cell_type": "markdown",
   "id": "3f839543",
   "metadata": {},
   "source": [
    "1) Приведем названия столбцов к змеиному регистру"
   ]
  },
  {
   "cell_type": "code",
   "execution_count": 27,
   "id": "633eb07b",
   "metadata": {},
   "outputs": [
    {
     "name": "stdout",
     "output_type": "stream",
     "text": [
      "Index(['customer_id', 'multiple_lines'], dtype='object')\n"
     ]
    }
   ],
   "source": [
    "phone_new = phone_new.rename(columns={'customerID':'customer_id', 'MultipleLines':'multiple_lines'})\n",
    "print(phone_new.columns)"
   ]
  },
  {
   "cell_type": "markdown",
   "id": "d1130f24",
   "metadata": {},
   "source": [
    "2) Проверка на явные и неявные дубликаты"
   ]
  },
  {
   "cell_type": "code",
   "execution_count": 28,
   "id": "2fb5459f",
   "metadata": {},
   "outputs": [
    {
     "name": "stdout",
     "output_type": "stream",
     "text": [
      "Список уникальных значений для customer_id: ['5575-GNVDE' '3668-QPYBK' '9237-HQITU' ... '2234-XADUH' '8361-LTMKD'\n",
      " '3186-AJIEK']\n",
      "Количество уникальных значений для customer_id: 6361 \n",
      "\n",
      "Список уникальных значений для multiple_lines: ['No' 'Yes']\n",
      "Количество уникальных значений для multiple_lines: 2 \n",
      "\n"
     ]
    }
   ],
   "source": [
    "for column in phone_new.columns:\n",
    "    print(f'Список уникальных значений для {column}: {phone_new[column].unique()}')\n",
    "    print(f'Количество уникальных значений для {column}: {len(phone_new[column].unique())}', '\\n')"
   ]
  },
  {
   "cell_type": "markdown",
   "id": "47f1518e",
   "metadata": {},
   "source": [
    "Дубликатов обнаружено не было."
   ]
  },
  {
   "cell_type": "markdown",
   "id": "3fab0621",
   "metadata": {},
   "source": [
    "<div class=\"alert alert-success\">\n",
    "<b>👍 Успех:</b> Все верно!\n",
    "</div>"
   ]
  },
  {
   "cell_type": "markdown",
   "id": "1ae90f3a",
   "metadata": {},
   "source": [
    "### Вывод"
   ]
  },
  {
   "cell_type": "markdown",
   "id": "52769e1c",
   "metadata": {},
   "source": [
    "В ходе предобработки данных мы:\n",
    "\n",
    "- Привели все названия столбцов к змеиному регистру;\n",
    "\n",
    "- Проверили данные на наличие дубликатов;\n",
    "\n",
    "- Изменили типы данных на правильные в ***contract_new***;\n",
    "\n",
    "- Добавили новые, более значимые признаки, такие как пользовательская активность (целевой признак в дальнейшем) и длительность контракта;\n",
    "\n",
    "- После, удалили признаки ***begin_date*** и ***end_date***, так как сами даты для нашего анализы нам не нужны;"
   ]
  },
  {
   "cell_type": "markdown",
   "id": "70101564",
   "metadata": {},
   "source": [
    "## Объединение данных"
   ]
  },
  {
   "cell_type": "markdown",
   "id": "b977a051",
   "metadata": {},
   "source": [
    "По очереди будем объединять все датафрйемы в один. \n",
    "\n",
    "Первые два датафрейма сходятся по количеству уникальных значений ***customer_id***: в обоих датафреймах 7043 строки с записями. Можем и соединить с помощью merge."
   ]
  },
  {
   "cell_type": "code",
   "execution_count": 29,
   "id": "5b889722",
   "metadata": {},
   "outputs": [
    {
     "name": "stdout",
     "output_type": "stream",
     "text": [
      "<class 'pandas.core.frame.DataFrame'>\n",
      "Int64Index: 7043 entries, 0 to 7042\n",
      "Data columns (total 12 columns):\n",
      " #   Column             Non-Null Count  Dtype  \n",
      "---  ------             --------------  -----  \n",
      " 0   customer_id        7043 non-null   object \n",
      " 1   type               7043 non-null   object \n",
      " 2   paperless_billing  7043 non-null   object \n",
      " 3   payment_method     7043 non-null   object \n",
      " 4   monthly_charges    7043 non-null   float64\n",
      " 5   total_charges      7043 non-null   float64\n",
      " 6   activity           7043 non-null   int64  \n",
      " 7   duration           7043 non-null   int64  \n",
      " 8   gender             7043 non-null   object \n",
      " 9   senior_citizen     7043 non-null   int64  \n",
      " 10  partner            7043 non-null   object \n",
      " 11  dependents         7043 non-null   object \n",
      "dtypes: float64(2), int64(3), object(7)\n",
      "memory usage: 715.3+ KB\n"
     ]
    }
   ],
   "source": [
    "first_join = pd.merge(contract_new, personal_new, on='customer_id')\n",
    "first_join.info()"
   ]
  },
  {
   "cell_type": "markdown",
   "id": "ed7d4a94",
   "metadata": {},
   "source": [
    "Оставшиеся два датафрейма, которые не совпадают по размерности с предыдущими, будем присоединять с помощью join(left), чтобы все 7043 записи остались в дальнейшем. Однако, следует учесть, что появятся пропуски, которые нам необходимо будет заполнить отличным от \"Yes\" и \"No\" значением - \"No used\", чтобы не возникло путаницы"
   ]
  },
  {
   "cell_type": "code",
   "execution_count": 30,
   "id": "678bd15f",
   "metadata": {},
   "outputs": [
    {
     "name": "stdout",
     "output_type": "stream",
     "text": [
      "<class 'pandas.core.frame.DataFrame'>\n",
      "Int64Index: 7043 entries, 0 to 7042\n",
      "Data columns (total 20 columns):\n",
      " #   Column             Non-Null Count  Dtype  \n",
      "---  ------             --------------  -----  \n",
      " 0   customer_id        7043 non-null   object \n",
      " 1   type               7043 non-null   object \n",
      " 2   paperless_billing  7043 non-null   object \n",
      " 3   payment_method     7043 non-null   object \n",
      " 4   monthly_charges    7043 non-null   float64\n",
      " 5   total_charges      7043 non-null   float64\n",
      " 6   activity           7043 non-null   int64  \n",
      " 7   duration           7043 non-null   int64  \n",
      " 8   gender             7043 non-null   object \n",
      " 9   senior_citizen     7043 non-null   int64  \n",
      " 10  partner            7043 non-null   object \n",
      " 11  dependents         7043 non-null   object \n",
      " 12  internet_service   7043 non-null   object \n",
      " 13  online_security    7043 non-null   object \n",
      " 14  online_backup      7043 non-null   object \n",
      " 15  device_protection  7043 non-null   object \n",
      " 16  tech_support       7043 non-null   object \n",
      " 17  streaming_tv       7043 non-null   object \n",
      " 18  streaming_movies   7043 non-null   object \n",
      " 19  multiple_lines     7043 non-null   object \n",
      "dtypes: float64(2), int64(3), object(15)\n",
      "memory usage: 1.1+ MB\n"
     ]
    },
    {
     "data": {
      "text/html": [
       "<div>\n",
       "<style scoped>\n",
       "    .dataframe tbody tr th:only-of-type {\n",
       "        vertical-align: middle;\n",
       "    }\n",
       "\n",
       "    .dataframe tbody tr th {\n",
       "        vertical-align: top;\n",
       "    }\n",
       "\n",
       "    .dataframe thead th {\n",
       "        text-align: right;\n",
       "    }\n",
       "</style>\n",
       "<table border=\"1\" class=\"dataframe\">\n",
       "  <thead>\n",
       "    <tr style=\"text-align: right;\">\n",
       "      <th></th>\n",
       "      <th>customer_id</th>\n",
       "      <th>type</th>\n",
       "      <th>paperless_billing</th>\n",
       "      <th>payment_method</th>\n",
       "      <th>monthly_charges</th>\n",
       "      <th>total_charges</th>\n",
       "      <th>activity</th>\n",
       "      <th>duration</th>\n",
       "      <th>gender</th>\n",
       "      <th>senior_citizen</th>\n",
       "      <th>partner</th>\n",
       "      <th>dependents</th>\n",
       "      <th>internet_service</th>\n",
       "      <th>online_security</th>\n",
       "      <th>online_backup</th>\n",
       "      <th>device_protection</th>\n",
       "      <th>tech_support</th>\n",
       "      <th>streaming_tv</th>\n",
       "      <th>streaming_movies</th>\n",
       "      <th>multiple_lines</th>\n",
       "    </tr>\n",
       "  </thead>\n",
       "  <tbody>\n",
       "    <tr>\n",
       "      <th>0</th>\n",
       "      <td>7590-VHVEG</td>\n",
       "      <td>Month-to-month</td>\n",
       "      <td>Yes</td>\n",
       "      <td>Electronic check</td>\n",
       "      <td>29.85</td>\n",
       "      <td>31.04</td>\n",
       "      <td>1</td>\n",
       "      <td>31</td>\n",
       "      <td>Female</td>\n",
       "      <td>0</td>\n",
       "      <td>Yes</td>\n",
       "      <td>No</td>\n",
       "      <td>DSL</td>\n",
       "      <td>No</td>\n",
       "      <td>Yes</td>\n",
       "      <td>No</td>\n",
       "      <td>No</td>\n",
       "      <td>No</td>\n",
       "      <td>No</td>\n",
       "      <td>No used</td>\n",
       "    </tr>\n",
       "    <tr>\n",
       "      <th>1</th>\n",
       "      <td>5575-GNVDE</td>\n",
       "      <td>One year</td>\n",
       "      <td>No</td>\n",
       "      <td>Mailed check</td>\n",
       "      <td>56.95</td>\n",
       "      <td>2071.84</td>\n",
       "      <td>1</td>\n",
       "      <td>1036</td>\n",
       "      <td>Male</td>\n",
       "      <td>0</td>\n",
       "      <td>No</td>\n",
       "      <td>No</td>\n",
       "      <td>DSL</td>\n",
       "      <td>Yes</td>\n",
       "      <td>No</td>\n",
       "      <td>Yes</td>\n",
       "      <td>No</td>\n",
       "      <td>No</td>\n",
       "      <td>No</td>\n",
       "      <td>No</td>\n",
       "    </tr>\n",
       "    <tr>\n",
       "      <th>2</th>\n",
       "      <td>3668-QPYBK</td>\n",
       "      <td>Month-to-month</td>\n",
       "      <td>Yes</td>\n",
       "      <td>Mailed check</td>\n",
       "      <td>53.85</td>\n",
       "      <td>226.17</td>\n",
       "      <td>1</td>\n",
       "      <td>123</td>\n",
       "      <td>Male</td>\n",
       "      <td>0</td>\n",
       "      <td>No</td>\n",
       "      <td>No</td>\n",
       "      <td>DSL</td>\n",
       "      <td>Yes</td>\n",
       "      <td>Yes</td>\n",
       "      <td>No</td>\n",
       "      <td>No</td>\n",
       "      <td>No</td>\n",
       "      <td>No</td>\n",
       "      <td>No</td>\n",
       "    </tr>\n",
       "    <tr>\n",
       "      <th>3</th>\n",
       "      <td>7795-CFOCW</td>\n",
       "      <td>One year</td>\n",
       "      <td>No</td>\n",
       "      <td>Bank transfer (automatic)</td>\n",
       "      <td>42.30</td>\n",
       "      <td>1960.60</td>\n",
       "      <td>1</td>\n",
       "      <td>1371</td>\n",
       "      <td>Male</td>\n",
       "      <td>0</td>\n",
       "      <td>No</td>\n",
       "      <td>No</td>\n",
       "      <td>DSL</td>\n",
       "      <td>Yes</td>\n",
       "      <td>No</td>\n",
       "      <td>Yes</td>\n",
       "      <td>Yes</td>\n",
       "      <td>No</td>\n",
       "      <td>No</td>\n",
       "      <td>No used</td>\n",
       "    </tr>\n",
       "    <tr>\n",
       "      <th>4</th>\n",
       "      <td>9237-HQITU</td>\n",
       "      <td>Month-to-month</td>\n",
       "      <td>Yes</td>\n",
       "      <td>Electronic check</td>\n",
       "      <td>70.70</td>\n",
       "      <td>353.50</td>\n",
       "      <td>1</td>\n",
       "      <td>153</td>\n",
       "      <td>Female</td>\n",
       "      <td>0</td>\n",
       "      <td>No</td>\n",
       "      <td>No</td>\n",
       "      <td>Fiber optic</td>\n",
       "      <td>No</td>\n",
       "      <td>No</td>\n",
       "      <td>No</td>\n",
       "      <td>No</td>\n",
       "      <td>No</td>\n",
       "      <td>No</td>\n",
       "      <td>No</td>\n",
       "    </tr>\n",
       "  </tbody>\n",
       "</table>\n",
       "</div>"
      ],
      "text/plain": [
       "  customer_id            type paperless_billing             payment_method  \\\n",
       "0  7590-VHVEG  Month-to-month               Yes           Electronic check   \n",
       "1  5575-GNVDE        One year                No               Mailed check   \n",
       "2  3668-QPYBK  Month-to-month               Yes               Mailed check   \n",
       "3  7795-CFOCW        One year                No  Bank transfer (automatic)   \n",
       "4  9237-HQITU  Month-to-month               Yes           Electronic check   \n",
       "\n",
       "   monthly_charges  total_charges  activity  duration  gender  senior_citizen  \\\n",
       "0            29.85          31.04         1        31  Female               0   \n",
       "1            56.95        2071.84         1      1036    Male               0   \n",
       "2            53.85         226.17         1       123    Male               0   \n",
       "3            42.30        1960.60         1      1371    Male               0   \n",
       "4            70.70         353.50         1       153  Female               0   \n",
       "\n",
       "  partner dependents internet_service online_security online_backup  \\\n",
       "0     Yes         No              DSL              No           Yes   \n",
       "1      No         No              DSL             Yes            No   \n",
       "2      No         No              DSL             Yes           Yes   \n",
       "3      No         No              DSL             Yes            No   \n",
       "4      No         No      Fiber optic              No            No   \n",
       "\n",
       "  device_protection tech_support streaming_tv streaming_movies multiple_lines  \n",
       "0                No           No           No               No        No used  \n",
       "1               Yes           No           No               No             No  \n",
       "2                No           No           No               No             No  \n",
       "3               Yes          Yes           No               No        No used  \n",
       "4                No           No           No               No             No  "
      ]
     },
     "execution_count": 30,
     "metadata": {},
     "output_type": "execute_result"
    }
   ],
   "source": [
    "second_join = first_join.join(internet_new.set_index('customer_id'), on='customer_id', how='left')\n",
    "final_new = second_join.join(phone_new.set_index('customer_id'), on='customer_id', how='left')\n",
    "\n",
    "final_new = final_new.fillna('No used')\n",
    "final_new.info()\n",
    "final_new.head()"
   ]
  },
  {
   "cell_type": "markdown",
   "id": "ec51a3b8",
   "metadata": {},
   "source": [
    "Отлично, все данные объединили и заполнили пропуски.\n",
    "\n",
    "Теперь можем переходить к исследовательскому анализу данных"
   ]
  },
  {
   "cell_type": "markdown",
   "id": "4a34d7b7",
   "metadata": {},
   "source": [
    "<div class=\"alert alert-success\">\n",
    "<b>👍 Успех:</b> Датасеты объединены!\n",
    "</div>"
   ]
  },
  {
   "cell_type": "markdown",
   "id": "e3dc5436",
   "metadata": {},
   "source": [
    "## Исследовательский анализ финального датафрейма"
   ]
  },
  {
   "cell_type": "markdown",
   "id": "91197101",
   "metadata": {},
   "source": [
    "Для начала мы разобьем признаки на количественные и категориальные, чтобы нам было удобнее строить подходящие графики (и для работы с моделями нам это будет необходимо в том числе).\n",
    "\n",
    "Для категориальных данных мы для наглядности будем строить круговые диаграммы, а для количественных - гистограммы."
   ]
  },
  {
   "cell_type": "code",
   "execution_count": 31,
   "id": "375b57eb",
   "metadata": {},
   "outputs": [],
   "source": [
    "category_cols = ['type', 'paperless_billing', 'payment_method', 'gender', 'senior_citizen', 'partner',\n",
    "                'dependents', 'internet_service', 'online_security', 'online_backup', 'device_protection',\n",
    "                 'tech_support', 'streaming_tv', 'streaming_movies', 'multiple_lines']\n",
    "\n",
    "numeric_cols = ['monthly_charges', 'total_charges', 'duration']"
   ]
  },
  {
   "cell_type": "code",
   "execution_count": 32,
   "id": "65e821f8",
   "metadata": {},
   "outputs": [
    {
     "data": {
      "image/png": "[encoded data removed]",
      "text/plain": [
       "<Figure size 432x288 with 1 Axes>"
      ]
     },
     "metadata": {},
     "output_type": "display_data"
    },
    {
     "data": {
      "image/png": "[encoded data removed]",
      "text/plain": [
       "<Figure size 432x288 with 1 Axes>"
      ]
     },
     "metadata": {},
     "output_type": "display_data"
    },
    {
     "data": {
      "image/png": "[encoded data removed]",
      "text/plain": [
       "<Figure size 432x288 with 1 Axes>"
      ]
     },
     "metadata": {},
     "output_type": "display_data"
    },
    {
     "data": {
      "image/png": "[encoded data removed]",
      "text/plain": [
       "<Figure size 432x288 with 1 Axes>"
      ]
     },
     "metadata": {
      "needs_background": "light"
     },
     "output_type": "display_data"
    },
    {
     "name": "stdout",
     "output_type": "stream",
     "text": [
      "count    7043.000000\n",
      "mean       64.761692\n",
      "std        30.090047\n",
      "min        18.250000\n",
      "25%        35.500000\n",
      "50%        70.350000\n",
      "75%        89.850000\n",
      "max       118.750000\n",
      "Name: monthly_charges, dtype: float64\n"
     ]
    },
    {
     "data": {
      "image/png": "[encoded data removed]",
      "text/plain": [
       "<Figure size 432x288 with 1 Axes>"
      ]
     },
     "metadata": {
      "needs_background": "light"
     },
     "output_type": "display_data"
    },
    {
     "name": "stdout",
     "output_type": "stream",
     "text": [
      "count    7043.000000\n",
      "mean     2115.312885\n",
      "std      2112.742814\n",
      "min         0.000000\n",
      "25%       436.750000\n",
      "50%      1343.350000\n",
      "75%      3236.690000\n",
      "max      9221.380000\n",
      "Name: total_charges, dtype: float64\n"
     ]
    },
    {
     "data": {
      "image/png": "[encoded data removed]",
      "text/plain": [
       "<Figure size 432x288 with 1 Axes>"
      ]
     },
     "metadata": {},
     "output_type": "display_data"
    },
    {
     "data": {
      "image/png": "[encoded data removed]",
      "text/plain": [
       "<Figure size 432x288 with 1 Axes>"
      ]
     },
     "metadata": {
      "needs_background": "light"
     },
     "output_type": "display_data"
    },
    {
     "name": "stdout",
     "output_type": "stream",
     "text": [
      "count    7043.000000\n",
      "mean      898.555729\n",
      "std       683.130510\n",
      "min         0.000000\n",
      "25%       276.000000\n",
      "50%       761.000000\n",
      "75%      1461.000000\n",
      "max      2314.000000\n",
      "Name: duration, dtype: float64\n"
     ]
    },
    {
     "data": {
      "image/png": "[encoded data removed]",
      "text/plain": [
       "<Figure size 432x288 with 1 Axes>"
      ]
     },
     "metadata": {},
     "output_type": "display_data"
    },
    {
     "data": {
      "image/png": "[encoded data removed]",
      "text/plain": [
       "<Figure size 432x288 with 1 Axes>"
      ]
     },
     "metadata": {},
     "output_type": "display_data"
    },
    {
     "data": {
      "image/png": "[encoded data removed]",
      "text/plain": [
       "<Figure size 432x288 with 1 Axes>"
      ]
     },
     "metadata": {},
     "output_type": "display_data"
    },
    {
     "data": {
      "image/png": "[encoded data removed]",
      "text/plain": [
       "<Figure size 432x288 with 1 Axes>"
      ]
     },
     "metadata": {},
     "output_type": "display_data"
    },
    {
     "data": {
      "image/png": "[encoded data removed]",
      "text/plain": [
       "<Figure size 432x288 with 1 Axes>"
      ]
     },
     "metadata": {},
     "output_type": "display_data"
    },
    {
     "data": {
      "image/png": "[encoded data removed]",
      "text/plain": [
       "<Figure size 432x288 with 1 Axes>"
      ]
     },
     "metadata": {},
     "output_type": "display_data"
    },
    {
     "data": {
      "image/png": "[encoded data removed]",
      "text/plain": [
       "<Figure size 432x288 with 1 Axes>"
      ]
     },
     "metadata": {},
     "output_type": "display_data"
    },
    {
     "data": {
      "image/png": "[encoded data removed]",
      "text/plain": [
       "<Figure size 432x288 with 1 Axes>"
      ]
     },
     "metadata": {},
     "output_type": "display_data"
    },
    {
     "data": {
      "image/png": "[encoded data removed]",
      "text/plain": [
       "<Figure size 432x288 with 1 Axes>"
      ]
     },
     "metadata": {},
     "output_type": "display_data"
    },
    {
     "data": {
      "image/png": "[encoded data removed]",
      "text/plain": [
       "<Figure size 432x288 with 1 Axes>"
      ]
     },
     "metadata": {},
     "output_type": "display_data"
    },
    {
     "data": {
      "image/png": "[encoded data removed]",
      "text/plain": [
       "<Figure size 432x288 with 1 Axes>"
      ]
     },
     "metadata": {},
     "output_type": "display_data"
    },
    {
     "data": {
      "image/png": "[encoded data removed]",
      "text/plain": [
       "<Figure size 432x288 with 1 Axes>"
      ]
     },
     "metadata": {},
     "output_type": "display_data"
    }
   ],
   "source": [
    "colors = ['pink', 'coral','skyblue', 'lightgreen'] \n",
    "explode = (0.01,)\n",
    "\n",
    "for column in final_new.columns:\n",
    "    if column in category_cols or column == 'activity':\n",
    "        final_new[column].value_counts().plot(kind='pie',autopct='%1.0f%%', colors=colors[0:len(final_new[column].unique())], explode=(explode*len(final_new[column].unique())), title=f'Распределение признака {column}', label='')\n",
    "        plt.show()\n",
    "    if column in numeric_cols:\n",
    "        final_new[column].plot(kind='hist')\n",
    "        plt.title(f'Распределение признака {column}')\n",
    "        if column == 'monthly_charges':\n",
    "            plt.xlabel('Monthly fee')\n",
    "        if column == 'total_charges':\n",
    "            plt.xlabel('Total amount of costs')\n",
    "        if column == 'duration':\n",
    "            plt.xlabel('Number of days')\n",
    "        plt.show()\n",
    "        print(final_new[column].describe())    "
   ]
  },
  {
   "cell_type": "markdown",
   "id": "3fb64b43",
   "metadata": {},
   "source": [
    "### Вывод"
   ]
  },
  {
   "cell_type": "markdown",
   "id": "b2166986",
   "metadata": {},
   "source": [
    "Построив распределения всех признаков из объединенного датафрейма, мы можем сказать следующее:\n",
    "\n",
    "- Чуть больше половины всех пользователей платят за услуги ежемесячно, а не раз в год или два;\n",
    "\n",
    "- Почти 60% пользователей препочитают электронный расчетный лист;\n",
    "\n",
    "- Самый популярный тип платежа - electronic check (34% пользователя пользуются таким);\n",
    "\n",
    "- Присутствует явный дисбаланс класса активности пользоватей, так как видно явный \"перекос\" в сторону активности договора (84% пользователей на момент выгрузки данных не прерывали договор). Однако, балансировать данные мы не будем, так как метрика ROC-AUC не чувствительна к дисбалансу;\n",
    "\n",
    "- Cоотношение мужчин и женщин, пользующихся услугами компании \"ТелеДом\" равное;\n",
    "\n",
    "- Только 16% всех пользователей достигли пенсионного возраста;\n",
    "\n",
    "- Примерно равное соотношение пользователей, которые женаты и не женаты (52% и 48% соответственно), при этом 70% абонентов не имеют детей;\n",
    "\n",
    "- Большинство пользоватей, если пользуются услугами интернета у данной компании, предпочитают подключение через оптоволоконный кабель (44% абонентов);\n",
    "\n",
    "- В основном, большинство людей, зарегистрированных в системе, не подключают услуги интернета в данной компании;"
   ]
  },
  {
   "cell_type": "markdown",
   "id": "9852b339",
   "metadata": {},
   "source": [
    "<div class=\"alert alert-success\">\n",
    "<b>👍 Успех:</b> Все верно!\n",
    "</div>"
   ]
  },
  {
   "cell_type": "markdown",
   "id": "bd266434",
   "metadata": {},
   "source": [
    "----\n",
    "Также, что касается количественных признаков, делаем следующие выводы:\n",
    "\n",
    "- Распределение этих признаков вовсе не похоже на нормальное, поэтому в будущем будем их нормализовывать для корректной работы модели"
   ]
  },
  {
   "cell_type": "markdown",
   "id": "b85c8f76",
   "metadata": {},
   "source": [
    "## Корреляционный анализ"
   ]
  },
  {
   "cell_type": "markdown",
   "id": "2b409b38",
   "metadata": {},
   "source": [
    "Для того, чтобы понять, насколько сильная зависимость между целевым и входными признаками, будем использовать phik_matrix"
   ]
  },
  {
   "cell_type": "code",
   "execution_count": 33,
   "id": "ab49714a",
   "metadata": {},
   "outputs": [
    {
     "data": {
      "image/png": "[encoded data removed]",
      "text/plain": [
       "<Figure size 864x864 with 2 Axes>"
      ]
     },
     "metadata": {},
     "output_type": "display_data"
    }
   ],
   "source": [
    "sns.set_theme(rc={'figure.figsize':(12,12)})\n",
    "data_corr = final_new.drop('customer_id', axis=1)\n",
    "\n",
    "sns.heatmap(data_corr.phik_matrix(interval_cols=numeric_cols), annot=True, fmt='.1f')\n",
    "plt.show()"
   ]
  },
  {
   "cell_type": "markdown",
   "id": "ef217a1f",
   "metadata": {},
   "source": [
    "Видим, что между признаками присутствует мультиколлинеарность, которую не стоит оставлять.\n",
    "\n",
    "Для дальнейшей работы с моделью оставим следующие признаки, которые имеют достаточную корреляцию с целевым признаком и имеют корреляцию менее 0.8 с другими признаками: ***type***, ***paperless_billing***, ***payment_method***, ***total_charges***, ***duration***, ***senior_citizen***, ***partner***, ***online_security***, ***tech_support***, ***multiple_lines***"
   ]
  },
  {
   "cell_type": "code",
   "execution_count": 34,
   "id": "e50e294c",
   "metadata": {},
   "outputs": [
    {
     "name": "stdout",
     "output_type": "stream",
     "text": [
      "<class 'pandas.core.frame.DataFrame'>\n",
      "Int64Index: 7043 entries, 0 to 7042\n",
      "Data columns (total 11 columns):\n",
      " #   Column             Non-Null Count  Dtype  \n",
      "---  ------             --------------  -----  \n",
      " 0   type               7043 non-null   object \n",
      " 1   paperless_billing  7043 non-null   object \n",
      " 2   payment_method     7043 non-null   object \n",
      " 3   total_charges      7043 non-null   float64\n",
      " 4   duration           7043 non-null   int64  \n",
      " 5   senior_citizen     7043 non-null   int64  \n",
      " 6   partner            7043 non-null   object \n",
      " 7   online_security    7043 non-null   object \n",
      " 8   tech_support       7043 non-null   object \n",
      " 9   multiple_lines     7043 non-null   object \n",
      " 10  activity           7043 non-null   int64  \n",
      "dtypes: float64(1), int64(3), object(7)\n",
      "memory usage: 660.3+ KB\n"
     ]
    }
   ],
   "source": [
    "final_columns = ['type', 'paperless_billing', 'payment_method', 'total_charges', \n",
    "                 'duration', 'senior_citizen', 'partner', 'online_security', \n",
    "                 'tech_support', 'multiple_lines', 'activity']\n",
    "final = final_new[final_columns]\n",
    "final.info()"
   ]
  },
  {
   "cell_type": "markdown",
   "id": "18009cae",
   "metadata": {},
   "source": [
    "Оставили в итоговом датафрейме только те столбцы, которые будут нужны для нашего анализа"
   ]
  },
  {
   "cell_type": "markdown",
   "id": "c77925ee",
   "metadata": {},
   "source": [
    "<div class=\"alert alert-success\">\n",
    "<b>👍 Успех:</b> Набор признаков для обучения определен!\n",
    "</div>"
   ]
  },
  {
   "cell_type": "markdown",
   "id": "8503d124",
   "metadata": {},
   "source": [
    "## Подготовка данных и обучение моделей"
   ]
  },
  {
   "cell_type": "markdown",
   "id": "26c75c5b",
   "metadata": {},
   "source": [
    "Переходим к подготовке данных и обучению моделей"
   ]
  },
  {
   "cell_type": "code",
   "execution_count": 35,
   "id": "9e7e3284",
   "metadata": {},
   "outputs": [],
   "source": [
    "RANDOM_STATE = 130125\n",
    "TEST_SIZE = 0.25"
   ]
  },
  {
   "cell_type": "code",
   "execution_count": 36,
   "id": "f7605f79",
   "metadata": {},
   "outputs": [],
   "source": [
    "X_train, X_test, y_train, y_test = train_test_split(\n",
    "    final.drop('activity', axis=1),\n",
    "    final['activity'],\n",
    "    test_size = TEST_SIZE, \n",
    "    random_state = RANDOM_STATE,\n",
    "    stratify = final['activity']\n",
    ")"
   ]
  },
  {
   "cell_type": "code",
   "execution_count": 37,
   "id": "241df8e2",
   "metadata": {},
   "outputs": [],
   "source": [
    "ohe_columns = ['type', 'paperless_billing', 'payment_method', \n",
    "               'senior_citizen', 'partner', 'online_security', \n",
    "               'tech_support', 'multiple_lines']\n",
    "\n",
    "ord_columns = ohe_columns\n",
    "\n",
    "num_columns = ['duration', 'total_charges']"
   ]
  },
  {
   "cell_type": "markdown",
   "id": "c1c64c0b",
   "metadata": {},
   "source": [
    "<div class=\"alert alert-success\">\n",
    "<b>👍 Успех:</b> Все верно!\n",
    "</div>"
   ]
  },
  {
   "cell_type": "markdown",
   "id": "740917c1",
   "metadata": {},
   "source": [
    "### Модель LogisticRegression"
   ]
  },
  {
   "cell_type": "code",
   "execution_count": 38,
   "id": "35d72cd7",
   "metadata": {},
   "outputs": [],
   "source": [
    "data_preprocessor = ColumnTransformer(\n",
    "    [\n",
    "        ('ohe', OneHotEncoder(drop='first', handle_unknown='ignore'), ohe_columns),\n",
    "        ('num', MinMaxScaler(), num_columns)\n",
    "    ], \n",
    "    remainder='passthrough'\n",
    ") \n",
    "\n",
    "pipe_final = Pipeline([\n",
    "    ('preprocessor', data_preprocessor),\n",
    "    ('models', LogisticRegression(random_state=RANDOM_STATE))\n",
    "])"
   ]
  },
  {
   "cell_type": "code",
   "execution_count": 39,
   "id": "51005e86",
   "metadata": {},
   "outputs": [],
   "source": [
    "param_distributions = [\n",
    "    {\n",
    "        'models': [LogisticRegression(\n",
    "            random_state=RANDOM_STATE, \n",
    "            solver='liblinear', \n",
    "            penalty='l1'\n",
    "        )],\n",
    "        'models__C': range(1,10),\n",
    "        'preprocessor__num': [StandardScaler(), MinMaxScaler(), 'passthrough']  \n",
    "    }\n",
    "]"
   ]
  },
  {
   "cell_type": "code",
   "execution_count": 40,
   "id": "324d654e",
   "metadata": {},
   "outputs": [
    {
     "name": "stdout",
     "output_type": "stream",
     "text": [
      "Лучшая модель логистической регрессии и её параметры:\n",
      "\n",
      " Pipeline(steps=[('preprocessor',\n",
      "                 ColumnTransformer(remainder='passthrough',\n",
      "                                   transformers=[('ohe',\n",
      "                                                  OneHotEncoder(drop='first',\n",
      "                                                                handle_unknown='ignore'),\n",
      "                                                  ['type', 'paperless_billing',\n",
      "                                                   'payment_method',\n",
      "                                                   'senior_citizen', 'partner',\n",
      "                                                   'online_security',\n",
      "                                                   'tech_support',\n",
      "                                                   'multiple_lines']),\n",
      "                                                 ('num', MinMaxScaler(),\n",
      "                                                  ['duration',\n",
      "                                                   'total_charges'])])),\n",
      "                ('models',\n",
      "                 LogisticRegression(C=6, penalty='l1', random_state=130125,\n",
      "                                    solver='liblinear'))])\n",
      "Метрика лучшей модели при кросс-валидации: 0.7403241105046451\n"
     ]
    }
   ],
   "source": [
    "randomized_search = RandomizedSearchCV(\n",
    "    pipe_final, \n",
    "    param_distributions=param_distributions, \n",
    "    cv=5,\n",
    "    scoring='roc_auc',\n",
    "    n_jobs=-1,\n",
    "    random_state=RANDOM_STATE\n",
    ")\n",
    "randomized_search.fit(X_train, y_train)\n",
    "\n",
    "print('Лучшая модель логистической регрессии и её параметры:\\n\\n', randomized_search.best_estimator_)\n",
    "print ('Метрика лучшей модели при кросс-валидации:', randomized_search.best_score_)"
   ]
  },
  {
   "cell_type": "markdown",
   "id": "271eb044",
   "metadata": {},
   "source": [
    "Видим, что лучшая метрика моделей логистической регрессии при кросс-валидации 0.74. Пробуем на наших данных обучить модели DecisionTreeRegressor и LGBMClassifier, посмотрим на их метрики."
   ]
  },
  {
   "cell_type": "markdown",
   "id": "901ec217",
   "metadata": {},
   "source": [
    "<div class=\"alert alert-success\">\n",
    "<b>👍 Успех:</b> Все верно!\n",
    "</div>"
   ]
  },
  {
   "cell_type": "markdown",
   "id": "0f9ac9cf",
   "metadata": {},
   "source": [
    "<div class=\"alert alert-danger\">\n",
    "<s><b>😔 Необходимо исправить:</b> Для выбора лучшей модели используется метрика на кроссвалидации, тетсовые данные не используются в этом разделе (ниже тоже нужно исправить)</s>\n",
    "</div>"
   ]
  },
  {
   "cell_type": "markdown",
   "id": "e7b98eb3",
   "metadata": {},
   "source": [
    "<div class=\"alert alert-info\"> <b>🎓 Комментарий студента:</b> Спасибо! Исправила! </div>"
   ]
  },
  {
   "cell_type": "markdown",
   "id": "24ce4491",
   "metadata": {},
   "source": [
    "### Модели DecisionTreeRegressor и LGBMClassifier"
   ]
  },
  {
   "cell_type": "code",
   "execution_count": 41,
   "id": "4ab8569f",
   "metadata": {},
   "outputs": [],
   "source": [
    "data_preprocessor = ColumnTransformer(\n",
    "    [\n",
    "        ('ord', OrdinalEncoder(), ohe_columns),\n",
    "        ('num', MinMaxScaler(), num_columns)\n",
    "    ], \n",
    "    remainder='passthrough'\n",
    ") \n",
    "\n",
    "pipe_final = Pipeline([\n",
    "    ('preprocessor', data_preprocessor),\n",
    "    ('models', DecisionTreeRegressor(random_state=RANDOM_STATE))\n",
    "])"
   ]
  },
  {
   "cell_type": "code",
   "execution_count": 42,
   "id": "90203744",
   "metadata": {},
   "outputs": [],
   "source": [
    "param_distributions = [\n",
    "    {\n",
    "        'models': [DecisionTreeRegressor(random_state=RANDOM_STATE)],\n",
    "        'models__max_depth': range(2,7),\n",
    "        'models__max_features': range(2,7),\n",
    "        'preprocessor__num': [StandardScaler(), MinMaxScaler(), 'passthrough']  \n",
    "    },\n",
    "    {\n",
    "        'models': [lgb(random_state=RANDOM_STATE)],\n",
    "        'models__learning_rate': [0.1, 0.2],\n",
    "        'models__subsample_for_bin': [10000],\n",
    "        'preprocessor__num': [StandardScaler(), MinMaxScaler(), 'passthrough']  \n",
    "    }\n",
    "]"
   ]
  },
  {
   "cell_type": "code",
   "execution_count": 43,
   "id": "45492a92",
   "metadata": {},
   "outputs": [
    {
     "name": "stderr",
     "output_type": "stream",
     "text": [
      "/opt/conda/lib/python3.9/site-packages/sklearn/model_selection/_validation.py:960: UserWarning: Scoring failed. The score on this train-test partition for these parameters will be set to nan. Details: \n",
      "Traceback (most recent call last):\n",
      "  File \"/opt/conda/lib/python3.9/site-packages/sklearn/model_selection/_validation.py\", line 949, in _score\n",
      "    scores = scorer(estimator, X_test, y_test, **score_params)\n",
      "  File \"/opt/conda/lib/python3.9/site-packages/sklearn/metrics/_scorer.py\", line 288, in __call__\n",
      "    return self._score(partial(_cached_call, None), estimator, X, y_true, **_kwargs)\n",
      "  File \"/opt/conda/lib/python3.9/site-packages/sklearn/metrics/_scorer.py\", line 379, in _score\n",
      "    response_method = _check_response_method(estimator, self._response_method)\n",
      "  File \"/opt/conda/lib/python3.9/site-packages/sklearn/utils/validation.py\", line 2283, in _check_response_method\n",
      "    raise AttributeError(\n",
      "AttributeError: Pipeline has none of the following attributes: decision_function, predict_proba.\n",
      "\n",
      "  warnings.warn(\n",
      "/opt/conda/lib/python3.9/site-packages/sklearn/model_selection/_validation.py:960: UserWarning: Scoring failed. The score on this train-test partition for these parameters will be set to nan. Details: \n",
      "Traceback (most recent call last):\n",
      "  File \"/opt/conda/lib/python3.9/site-packages/sklearn/model_selection/_validation.py\", line 949, in _score\n",
      "    scores = scorer(estimator, X_test, y_test, **score_params)\n",
      "  File \"/opt/conda/lib/python3.9/site-packages/sklearn/metrics/_scorer.py\", line 288, in __call__\n",
      "    return self._score(partial(_cached_call, None), estimator, X, y_true, **_kwargs)\n",
      "  File \"/opt/conda/lib/python3.9/site-packages/sklearn/metrics/_scorer.py\", line 379, in _score\n",
      "    response_method = _check_response_method(estimator, self._response_method)\n",
      "  File \"/opt/conda/lib/python3.9/site-packages/sklearn/utils/validation.py\", line 2283, in _check_response_method\n",
      "    raise AttributeError(\n",
      "AttributeError: Pipeline has none of the following attributes: decision_function, predict_proba.\n",
      "\n",
      "  warnings.warn(\n",
      "/opt/conda/lib/python3.9/site-packages/sklearn/model_selection/_validation.py:960: UserWarning: Scoring failed. The score on this train-test partition for these parameters will be set to nan. Details: \n",
      "Traceback (most recent call last):\n",
      "  File \"/opt/conda/lib/python3.9/site-packages/sklearn/model_selection/_validation.py\", line 949, in _score\n",
      "    scores = scorer(estimator, X_test, y_test, **score_params)\n",
      "  File \"/opt/conda/lib/python3.9/site-packages/sklearn/metrics/_scorer.py\", line 288, in __call__\n",
      "    return self._score(partial(_cached_call, None), estimator, X, y_true, **_kwargs)\n",
      "  File \"/opt/conda/lib/python3.9/site-packages/sklearn/metrics/_scorer.py\", line 379, in _score\n",
      "    response_method = _check_response_method(estimator, self._response_method)\n",
      "  File \"/opt/conda/lib/python3.9/site-packages/sklearn/utils/validation.py\", line 2283, in _check_response_method\n",
      "    raise AttributeError(\n",
      "AttributeError: Pipeline has none of the following attributes: decision_function, predict_proba.\n",
      "\n",
      "  warnings.warn(\n",
      "/opt/conda/lib/python3.9/site-packages/sklearn/model_selection/_validation.py:960: UserWarning: Scoring failed. The score on this train-test partition for these parameters will be set to nan. Details: \n",
      "Traceback (most recent call last):\n",
      "  File \"/opt/conda/lib/python3.9/site-packages/sklearn/model_selection/_validation.py\", line 949, in _score\n",
      "    scores = scorer(estimator, X_test, y_test, **score_params)\n",
      "  File \"/opt/conda/lib/python3.9/site-packages/sklearn/metrics/_scorer.py\", line 288, in __call__\n",
      "    return self._score(partial(_cached_call, None), estimator, X, y_true, **_kwargs)\n",
      "  File \"/opt/conda/lib/python3.9/site-packages/sklearn/metrics/_scorer.py\", line 379, in _score\n",
      "    response_method = _check_response_method(estimator, self._response_method)\n",
      "  File \"/opt/conda/lib/python3.9/site-packages/sklearn/utils/validation.py\", line 2283, in _check_response_method\n",
      "    raise AttributeError(\n",
      "AttributeError: Pipeline has none of the following attributes: decision_function, predict_proba.\n",
      "\n",
      "  warnings.warn(\n",
      "/opt/conda/lib/python3.9/site-packages/sklearn/model_selection/_validation.py:960: UserWarning: Scoring failed. The score on this train-test partition for these parameters will be set to nan. Details: \n",
      "Traceback (most recent call last):\n",
      "  File \"/opt/conda/lib/python3.9/site-packages/sklearn/model_selection/_validation.py\", line 949, in _score\n",
      "    scores = scorer(estimator, X_test, y_test, **score_params)\n",
      "  File \"/opt/conda/lib/python3.9/site-packages/sklearn/metrics/_scorer.py\", line 288, in __call__\n",
      "    return self._score(partial(_cached_call, None), estimator, X, y_true, **_kwargs)\n",
      "  File \"/opt/conda/lib/python3.9/site-packages/sklearn/metrics/_scorer.py\", line 379, in _score\n",
      "    response_method = _check_response_method(estimator, self._response_method)\n",
      "  File \"/opt/conda/lib/python3.9/site-packages/sklearn/utils/validation.py\", line 2283, in _check_response_method\n",
      "    raise AttributeError(\n",
      "AttributeError: Pipeline has none of the following attributes: decision_function, predict_proba.\n",
      "\n",
      "  warnings.warn(\n",
      "/opt/conda/lib/python3.9/site-packages/sklearn/model_selection/_validation.py:960: UserWarning: Scoring failed. The score on this train-test partition for these parameters will be set to nan. Details: \n",
      "Traceback (most recent call last):\n",
      "  File \"/opt/conda/lib/python3.9/site-packages/sklearn/model_selection/_validation.py\", line 949, in _score\n",
      "    scores = scorer(estimator, X_test, y_test, **score_params)\n",
      "  File \"/opt/conda/lib/python3.9/site-packages/sklearn/metrics/_scorer.py\", line 288, in __call__\n",
      "    return self._score(partial(_cached_call, None), estimator, X, y_true, **_kwargs)\n",
      "  File \"/opt/conda/lib/python3.9/site-packages/sklearn/metrics/_scorer.py\", line 379, in _score\n",
      "    response_method = _check_response_method(estimator, self._response_method)\n",
      "  File \"/opt/conda/lib/python3.9/site-packages/sklearn/utils/validation.py\", line 2283, in _check_response_method\n",
      "    raise AttributeError(\n",
      "AttributeError: Pipeline has none of the following attributes: decision_function, predict_proba.\n",
      "\n",
      "  warnings.warn(\n",
      "/opt/conda/lib/python3.9/site-packages/sklearn/model_selection/_validation.py:960: UserWarning: Scoring failed. The score on this train-test partition for these parameters will be set to nan. Details: \n",
      "Traceback (most recent call last):\n",
      "  File \"/opt/conda/lib/python3.9/site-packages/sklearn/model_selection/_validation.py\", line 949, in _score\n",
      "    scores = scorer(estimator, X_test, y_test, **score_params)\n",
      "  File \"/opt/conda/lib/python3.9/site-packages/sklearn/metrics/_scorer.py\", line 288, in __call__\n",
      "    return self._score(partial(_cached_call, None), estimator, X, y_true, **_kwargs)\n",
      "  File \"/opt/conda/lib/python3.9/site-packages/sklearn/metrics/_scorer.py\", line 379, in _score\n",
      "    response_method = _check_response_method(estimator, self._response_method)\n",
      "  File \"/opt/conda/lib/python3.9/site-packages/sklearn/utils/validation.py\", line 2283, in _check_response_method\n",
      "    raise AttributeError(\n",
      "AttributeError: Pipeline has none of the following attributes: decision_function, predict_proba.\n",
      "\n",
      "  warnings.warn(\n",
      "/opt/conda/lib/python3.9/site-packages/sklearn/model_selection/_validation.py:960: UserWarning: Scoring failed. The score on this train-test partition for these parameters will be set to nan. Details: \n",
      "Traceback (most recent call last):\n",
      "  File \"/opt/conda/lib/python3.9/site-packages/sklearn/model_selection/_validation.py\", line 949, in _score\n",
      "    scores = scorer(estimator, X_test, y_test, **score_params)\n",
      "  File \"/opt/conda/lib/python3.9/site-packages/sklearn/metrics/_scorer.py\", line 288, in __call__\n",
      "    return self._score(partial(_cached_call, None), estimator, X, y_true, **_kwargs)\n",
      "  File \"/opt/conda/lib/python3.9/site-packages/sklearn/metrics/_scorer.py\", line 379, in _score\n",
      "    response_method = _check_response_method(estimator, self._response_method)\n",
      "  File \"/opt/conda/lib/python3.9/site-packages/sklearn/utils/validation.py\", line 2283, in _check_response_method\n",
      "    raise AttributeError(\n",
      "AttributeError: Pipeline has none of the following attributes: decision_function, predict_proba.\n",
      "\n",
      "  warnings.warn(\n",
      "/opt/conda/lib/python3.9/site-packages/sklearn/model_selection/_validation.py:960: UserWarning: Scoring failed. The score on this train-test partition for these parameters will be set to nan. Details: \n",
      "Traceback (most recent call last):\n",
      "  File \"/opt/conda/lib/python3.9/site-packages/sklearn/model_selection/_validation.py\", line 949, in _score\n",
      "    scores = scorer(estimator, X_test, y_test, **score_params)\n",
      "  File \"/opt/conda/lib/python3.9/site-packages/sklearn/metrics/_scorer.py\", line 288, in __call__\n",
      "    return self._score(partial(_cached_call, None), estimator, X, y_true, **_kwargs)\n",
      "  File \"/opt/conda/lib/python3.9/site-packages/sklearn/metrics/_scorer.py\", line 379, in _score\n",
      "    response_method = _check_response_method(estimator, self._response_method)\n",
      "  File \"/opt/conda/lib/python3.9/site-packages/sklearn/utils/validation.py\", line 2283, in _check_response_method\n",
      "    raise AttributeError(\n",
      "AttributeError: Pipeline has none of the following attributes: decision_function, predict_proba.\n",
      "\n",
      "  warnings.warn(\n",
      "/opt/conda/lib/python3.9/site-packages/sklearn/model_selection/_validation.py:960: UserWarning: Scoring failed. The score on this train-test partition for these parameters will be set to nan. Details: \n",
      "Traceback (most recent call last):\n",
      "  File \"/opt/conda/lib/python3.9/site-packages/sklearn/model_selection/_validation.py\", line 949, in _score\n",
      "    scores = scorer(estimator, X_test, y_test, **score_params)\n",
      "  File \"/opt/conda/lib/python3.9/site-packages/sklearn/metrics/_scorer.py\", line 288, in __call__\n",
      "    return self._score(partial(_cached_call, None), estimator, X, y_true, **_kwargs)\n",
      "  File \"/opt/conda/lib/python3.9/site-packages/sklearn/metrics/_scorer.py\", line 379, in _score\n",
      "    response_method = _check_response_method(estimator, self._response_method)\n",
      "  File \"/opt/conda/lib/python3.9/site-packages/sklearn/utils/validation.py\", line 2283, in _check_response_method\n",
      "    raise AttributeError(\n",
      "AttributeError: Pipeline has none of the following attributes: decision_function, predict_proba.\n",
      "\n",
      "  warnings.warn(\n",
      "/opt/conda/lib/python3.9/site-packages/sklearn/model_selection/_validation.py:960: UserWarning: Scoring failed. The score on this train-test partition for these parameters will be set to nan. Details: \n",
      "Traceback (most recent call last):\n",
      "  File \"/opt/conda/lib/python3.9/site-packages/sklearn/model_selection/_validation.py\", line 949, in _score\n",
      "    scores = scorer(estimator, X_test, y_test, **score_params)\n",
      "  File \"/opt/conda/lib/python3.9/site-packages/sklearn/metrics/_scorer.py\", line 288, in __call__\n",
      "    return self._score(partial(_cached_call, None), estimator, X, y_true, **_kwargs)\n",
      "  File \"/opt/conda/lib/python3.9/site-packages/sklearn/metrics/_scorer.py\", line 379, in _score\n",
      "    response_method = _check_response_method(estimator, self._response_method)\n",
      "  File \"/opt/conda/lib/python3.9/site-packages/sklearn/utils/validation.py\", line 2283, in _check_response_method\n",
      "    raise AttributeError(\n",
      "AttributeError: Pipeline has none of the following attributes: decision_function, predict_proba.\n",
      "\n",
      "  warnings.warn(\n",
      "/opt/conda/lib/python3.9/site-packages/sklearn/model_selection/_validation.py:960: UserWarning: Scoring failed. The score on this train-test partition for these parameters will be set to nan. Details: \n",
      "Traceback (most recent call last):\n",
      "  File \"/opt/conda/lib/python3.9/site-packages/sklearn/model_selection/_validation.py\", line 949, in _score\n",
      "    scores = scorer(estimator, X_test, y_test, **score_params)\n",
      "  File \"/opt/conda/lib/python3.9/site-packages/sklearn/metrics/_scorer.py\", line 288, in __call__\n",
      "    return self._score(partial(_cached_call, None), estimator, X, y_true, **_kwargs)\n",
      "  File \"/opt/conda/lib/python3.9/site-packages/sklearn/metrics/_scorer.py\", line 379, in _score\n",
      "    response_method = _check_response_method(estimator, self._response_method)\n",
      "  File \"/opt/conda/lib/python3.9/site-packages/sklearn/utils/validation.py\", line 2283, in _check_response_method\n",
      "    raise AttributeError(\n",
      "AttributeError: Pipeline has none of the following attributes: decision_function, predict_proba.\n",
      "\n",
      "  warnings.warn(\n",
      "/opt/conda/lib/python3.9/site-packages/sklearn/model_selection/_validation.py:960: UserWarning: Scoring failed. The score on this train-test partition for these parameters will be set to nan. Details: \n",
      "Traceback (most recent call last):\n",
      "  File \"/opt/conda/lib/python3.9/site-packages/sklearn/model_selection/_validation.py\", line 949, in _score\n",
      "    scores = scorer(estimator, X_test, y_test, **score_params)\n",
      "  File \"/opt/conda/lib/python3.9/site-packages/sklearn/metrics/_scorer.py\", line 288, in __call__\n",
      "    return self._score(partial(_cached_call, None), estimator, X, y_true, **_kwargs)\n",
      "  File \"/opt/conda/lib/python3.9/site-packages/sklearn/metrics/_scorer.py\", line 379, in _score\n",
      "    response_method = _check_response_method(estimator, self._response_method)\n",
      "  File \"/opt/conda/lib/python3.9/site-packages/sklearn/utils/validation.py\", line 2283, in _check_response_method\n",
      "    raise AttributeError(\n",
      "AttributeError: Pipeline has none of the following attributes: decision_function, predict_proba.\n",
      "\n",
      "  warnings.warn(\n",
      "/opt/conda/lib/python3.9/site-packages/sklearn/model_selection/_validation.py:960: UserWarning: Scoring failed. The score on this train-test partition for these parameters will be set to nan. Details: \n",
      "Traceback (most recent call last):\n",
      "  File \"/opt/conda/lib/python3.9/site-packages/sklearn/model_selection/_validation.py\", line 949, in _score\n",
      "    scores = scorer(estimator, X_test, y_test, **score_params)\n",
      "  File \"/opt/conda/lib/python3.9/site-packages/sklearn/metrics/_scorer.py\", line 288, in __call__\n",
      "    return self._score(partial(_cached_call, None), estimator, X, y_true, **_kwargs)\n",
      "  File \"/opt/conda/lib/python3.9/site-packages/sklearn/metrics/_scorer.py\", line 379, in _score\n",
      "    response_method = _check_response_method(estimator, self._response_method)\n",
      "  File \"/opt/conda/lib/python3.9/site-packages/sklearn/utils/validation.py\", line 2283, in _check_response_method\n",
      "    raise AttributeError(\n",
      "AttributeError: Pipeline has none of the following attributes: decision_function, predict_proba.\n",
      "\n",
      "  warnings.warn(\n",
      "/opt/conda/lib/python3.9/site-packages/sklearn/model_selection/_validation.py:960: UserWarning: Scoring failed. The score on this train-test partition for these parameters will be set to nan. Details: \n",
      "Traceback (most recent call last):\n",
      "  File \"/opt/conda/lib/python3.9/site-packages/sklearn/model_selection/_validation.py\", line 949, in _score\n",
      "    scores = scorer(estimator, X_test, y_test, **score_params)\n",
      "  File \"/opt/conda/lib/python3.9/site-packages/sklearn/metrics/_scorer.py\", line 288, in __call__\n",
      "    return self._score(partial(_cached_call, None), estimator, X, y_true, **_kwargs)\n",
      "  File \"/opt/conda/lib/python3.9/site-packages/sklearn/metrics/_scorer.py\", line 379, in _score\n",
      "    response_method = _check_response_method(estimator, self._response_method)\n",
      "  File \"/opt/conda/lib/python3.9/site-packages/sklearn/utils/validation.py\", line 2283, in _check_response_method\n",
      "    raise AttributeError(\n",
      "AttributeError: Pipeline has none of the following attributes: decision_function, predict_proba.\n",
      "\n",
      "  warnings.warn(\n",
      "/opt/conda/lib/python3.9/site-packages/sklearn/utils/deprecation.py:151: FutureWarning: 'force_all_finite' was renamed to 'ensure_all_finite' in 1.6 and will be removed in 1.8.\n",
      "  warnings.warn(\n",
      "/opt/conda/lib/python3.9/site-packages/sklearn/utils/deprecation.py:151: FutureWarning: 'force_all_finite' was renamed to 'ensure_all_finite' in 1.6 and will be removed in 1.8.\n",
      "  warnings.warn(\n",
      "/opt/conda/lib/python3.9/site-packages/sklearn/utils/deprecation.py:151: FutureWarning: 'force_all_finite' was renamed to 'ensure_all_finite' in 1.6 and will be removed in 1.8.\n",
      "  warnings.warn(\n",
      "/opt/conda/lib/python3.9/site-packages/sklearn/utils/deprecation.py:151: FutureWarning: 'force_all_finite' was renamed to 'ensure_all_finite' in 1.6 and will be removed in 1.8.\n",
      "  warnings.warn(\n",
      "/opt/conda/lib/python3.9/site-packages/sklearn/utils/deprecation.py:151: FutureWarning: 'force_all_finite' was renamed to 'ensure_all_finite' in 1.6 and will be removed in 1.8.\n",
      "  warnings.warn(\n",
      "/opt/conda/lib/python3.9/site-packages/sklearn/utils/deprecation.py:151: FutureWarning: 'force_all_finite' was renamed to 'ensure_all_finite' in 1.6 and will be removed in 1.8.\n",
      "  warnings.warn(\n",
      "/opt/conda/lib/python3.9/site-packages/sklearn/utils/deprecation.py:151: FutureWarning: 'force_all_finite' was renamed to 'ensure_all_finite' in 1.6 and will be removed in 1.8.\n",
      "  warnings.warn(\n",
      "/opt/conda/lib/python3.9/site-packages/sklearn/utils/deprecation.py:151: FutureWarning: 'force_all_finite' was renamed to 'ensure_all_finite' in 1.6 and will be removed in 1.8.\n",
      "  warnings.warn(\n",
      "/opt/conda/lib/python3.9/site-packages/sklearn/utils/deprecation.py:151: FutureWarning: 'force_all_finite' was renamed to 'ensure_all_finite' in 1.6 and will be removed in 1.8.\n",
      "  warnings.warn(\n",
      "/opt/conda/lib/python3.9/site-packages/sklearn/utils/deprecation.py:151: FutureWarning: 'force_all_finite' was renamed to 'ensure_all_finite' in 1.6 and will be removed in 1.8.\n",
      "  warnings.warn(\n",
      "/opt/conda/lib/python3.9/site-packages/sklearn/utils/deprecation.py:151: FutureWarning: 'force_all_finite' was renamed to 'ensure_all_finite' in 1.6 and will be removed in 1.8.\n",
      "  warnings.warn(\n",
      "/opt/conda/lib/python3.9/site-packages/sklearn/utils/deprecation.py:151: FutureWarning: 'force_all_finite' was renamed to 'ensure_all_finite' in 1.6 and will be removed in 1.8.\n",
      "  warnings.warn(\n",
      "/opt/conda/lib/python3.9/site-packages/sklearn/utils/deprecation.py:151: FutureWarning: 'force_all_finite' was renamed to 'ensure_all_finite' in 1.6 and will be removed in 1.8.\n",
      "  warnings.warn(\n",
      "/opt/conda/lib/python3.9/site-packages/sklearn/utils/deprecation.py:151: FutureWarning: 'force_all_finite' was renamed to 'ensure_all_finite' in 1.6 and will be removed in 1.8.\n",
      "  warnings.warn(\n",
      "/opt/conda/lib/python3.9/site-packages/sklearn/utils/deprecation.py:151: FutureWarning: 'force_all_finite' was renamed to 'ensure_all_finite' in 1.6 and will be removed in 1.8.\n",
      "  warnings.warn(\n",
      "/opt/conda/lib/python3.9/site-packages/sklearn/utils/deprecation.py:151: FutureWarning: 'force_all_finite' was renamed to 'ensure_all_finite' in 1.6 and will be removed in 1.8.\n",
      "  warnings.warn(\n",
      "/opt/conda/lib/python3.9/site-packages/sklearn/utils/deprecation.py:151: FutureWarning: 'force_all_finite' was renamed to 'ensure_all_finite' in 1.6 and will be removed in 1.8.\n",
      "  warnings.warn(\n",
      "/opt/conda/lib/python3.9/site-packages/sklearn/utils/deprecation.py:151: FutureWarning: 'force_all_finite' was renamed to 'ensure_all_finite' in 1.6 and will be removed in 1.8.\n",
      "  warnings.warn(\n",
      "/opt/conda/lib/python3.9/site-packages/sklearn/utils/deprecation.py:151: FutureWarning: 'force_all_finite' was renamed to 'ensure_all_finite' in 1.6 and will be removed in 1.8.\n",
      "  warnings.warn(\n",
      "/opt/conda/lib/python3.9/site-packages/sklearn/utils/deprecation.py:151: FutureWarning: 'force_all_finite' was renamed to 'ensure_all_finite' in 1.6 and will be removed in 1.8.\n",
      "  warnings.warn(\n",
      "/opt/conda/lib/python3.9/site-packages/sklearn/utils/deprecation.py:151: FutureWarning: 'force_all_finite' was renamed to 'ensure_all_finite' in 1.6 and will be removed in 1.8.\n",
      "  warnings.warn(\n",
      "/opt/conda/lib/python3.9/site-packages/sklearn/utils/deprecation.py:151: FutureWarning: 'force_all_finite' was renamed to 'ensure_all_finite' in 1.6 and will be removed in 1.8.\n",
      "  warnings.warn(\n",
      "/opt/conda/lib/python3.9/site-packages/sklearn/utils/deprecation.py:151: FutureWarning: 'force_all_finite' was renamed to 'ensure_all_finite' in 1.6 and will be removed in 1.8.\n",
      "  warnings.warn(\n",
      "/opt/conda/lib/python3.9/site-packages/sklearn/utils/deprecation.py:151: FutureWarning: 'force_all_finite' was renamed to 'ensure_all_finite' in 1.6 and will be removed in 1.8.\n",
      "  warnings.warn(\n",
      "/opt/conda/lib/python3.9/site-packages/sklearn/utils/deprecation.py:151: FutureWarning: 'force_all_finite' was renamed to 'ensure_all_finite' in 1.6 and will be removed in 1.8.\n",
      "  warnings.warn(\n",
      "/opt/conda/lib/python3.9/site-packages/sklearn/utils/deprecation.py:151: FutureWarning: 'force_all_finite' was renamed to 'ensure_all_finite' in 1.6 and will be removed in 1.8.\n",
      "  warnings.warn(\n",
      "/opt/conda/lib/python3.9/site-packages/sklearn/utils/deprecation.py:151: FutureWarning: 'force_all_finite' was renamed to 'ensure_all_finite' in 1.6 and will be removed in 1.8.\n",
      "  warnings.warn(\n",
      "/opt/conda/lib/python3.9/site-packages/sklearn/utils/deprecation.py:151: FutureWarning: 'force_all_finite' was renamed to 'ensure_all_finite' in 1.6 and will be removed in 1.8.\n",
      "  warnings.warn(\n",
      "/opt/conda/lib/python3.9/site-packages/sklearn/utils/deprecation.py:151: FutureWarning: 'force_all_finite' was renamed to 'ensure_all_finite' in 1.6 and will be removed in 1.8.\n",
      "  warnings.warn(\n",
      "/opt/conda/lib/python3.9/site-packages/sklearn/utils/deprecation.py:151: FutureWarning: 'force_all_finite' was renamed to 'ensure_all_finite' in 1.6 and will be removed in 1.8.\n",
      "  warnings.warn(\n",
      "/opt/conda/lib/python3.9/site-packages/sklearn/model_selection/_validation.py:960: UserWarning: Scoring failed. The score on this train-test partition for these parameters will be set to nan. Details: \n",
      "Traceback (most recent call last):\n",
      "  File \"/opt/conda/lib/python3.9/site-packages/sklearn/model_selection/_validation.py\", line 949, in _score\n",
      "    scores = scorer(estimator, X_test, y_test, **score_params)\n",
      "  File \"/opt/conda/lib/python3.9/site-packages/sklearn/metrics/_scorer.py\", line 288, in __call__\n",
      "    return self._score(partial(_cached_call, None), estimator, X, y_true, **_kwargs)\n",
      "  File \"/opt/conda/lib/python3.9/site-packages/sklearn/metrics/_scorer.py\", line 379, in _score\n",
      "    response_method = _check_response_method(estimator, self._response_method)\n",
      "  File \"/opt/conda/lib/python3.9/site-packages/sklearn/utils/validation.py\", line 2283, in _check_response_method\n",
      "    raise AttributeError(\n",
      "AttributeError: Pipeline has none of the following attributes: decision_function, predict_proba.\n",
      "\n",
      "  warnings.warn(\n",
      "/opt/conda/lib/python3.9/site-packages/sklearn/model_selection/_validation.py:960: UserWarning: Scoring failed. The score on this train-test partition for these parameters will be set to nan. Details: \n",
      "Traceback (most recent call last):\n",
      "  File \"/opt/conda/lib/python3.9/site-packages/sklearn/model_selection/_validation.py\", line 949, in _score\n",
      "    scores = scorer(estimator, X_test, y_test, **score_params)\n",
      "  File \"/opt/conda/lib/python3.9/site-packages/sklearn/metrics/_scorer.py\", line 288, in __call__\n",
      "    return self._score(partial(_cached_call, None), estimator, X, y_true, **_kwargs)\n",
      "  File \"/opt/conda/lib/python3.9/site-packages/sklearn/metrics/_scorer.py\", line 379, in _score\n",
      "    response_method = _check_response_method(estimator, self._response_method)\n",
      "  File \"/opt/conda/lib/python3.9/site-packages/sklearn/utils/validation.py\", line 2283, in _check_response_method\n",
      "    raise AttributeError(\n",
      "AttributeError: Pipeline has none of the following attributes: decision_function, predict_proba.\n",
      "\n",
      "  warnings.warn(\n",
      "/opt/conda/lib/python3.9/site-packages/sklearn/model_selection/_validation.py:960: UserWarning: Scoring failed. The score on this train-test partition for these parameters will be set to nan. Details: \n",
      "Traceback (most recent call last):\n",
      "  File \"/opt/conda/lib/python3.9/site-packages/sklearn/model_selection/_validation.py\", line 949, in _score\n",
      "    scores = scorer(estimator, X_test, y_test, **score_params)\n",
      "  File \"/opt/conda/lib/python3.9/site-packages/sklearn/metrics/_scorer.py\", line 288, in __call__\n",
      "    return self._score(partial(_cached_call, None), estimator, X, y_true, **_kwargs)\n",
      "  File \"/opt/conda/lib/python3.9/site-packages/sklearn/metrics/_scorer.py\", line 379, in _score\n",
      "    response_method = _check_response_method(estimator, self._response_method)\n",
      "  File \"/opt/conda/lib/python3.9/site-packages/sklearn/utils/validation.py\", line 2283, in _check_response_method\n",
      "    raise AttributeError(\n",
      "AttributeError: Pipeline has none of the following attributes: decision_function, predict_proba.\n",
      "\n",
      "  warnings.warn(\n",
      "/opt/conda/lib/python3.9/site-packages/sklearn/model_selection/_validation.py:960: UserWarning: Scoring failed. The score on this train-test partition for these parameters will be set to nan. Details: \n",
      "Traceback (most recent call last):\n",
      "  File \"/opt/conda/lib/python3.9/site-packages/sklearn/model_selection/_validation.py\", line 949, in _score\n",
      "    scores = scorer(estimator, X_test, y_test, **score_params)\n",
      "  File \"/opt/conda/lib/python3.9/site-packages/sklearn/metrics/_scorer.py\", line 288, in __call__\n",
      "    return self._score(partial(_cached_call, None), estimator, X, y_true, **_kwargs)\n",
      "  File \"/opt/conda/lib/python3.9/site-packages/sklearn/metrics/_scorer.py\", line 379, in _score\n",
      "    response_method = _check_response_method(estimator, self._response_method)\n",
      "  File \"/opt/conda/lib/python3.9/site-packages/sklearn/utils/validation.py\", line 2283, in _check_response_method\n",
      "    raise AttributeError(\n",
      "AttributeError: Pipeline has none of the following attributes: decision_function, predict_proba.\n",
      "\n",
      "  warnings.warn(\n",
      "/opt/conda/lib/python3.9/site-packages/sklearn/model_selection/_validation.py:960: UserWarning: Scoring failed. The score on this train-test partition for these parameters will be set to nan. Details: \n",
      "Traceback (most recent call last):\n",
      "  File \"/opt/conda/lib/python3.9/site-packages/sklearn/model_selection/_validation.py\", line 949, in _score\n",
      "    scores = scorer(estimator, X_test, y_test, **score_params)\n",
      "  File \"/opt/conda/lib/python3.9/site-packages/sklearn/metrics/_scorer.py\", line 288, in __call__\n",
      "    return self._score(partial(_cached_call, None), estimator, X, y_true, **_kwargs)\n",
      "  File \"/opt/conda/lib/python3.9/site-packages/sklearn/metrics/_scorer.py\", line 379, in _score\n",
      "    response_method = _check_response_method(estimator, self._response_method)\n",
      "  File \"/opt/conda/lib/python3.9/site-packages/sklearn/utils/validation.py\", line 2283, in _check_response_method\n",
      "    raise AttributeError(\n",
      "AttributeError: Pipeline has none of the following attributes: decision_function, predict_proba.\n",
      "\n",
      "  warnings.warn(\n",
      "/opt/conda/lib/python3.9/site-packages/sklearn/model_selection/_validation.py:960: UserWarning: Scoring failed. The score on this train-test partition for these parameters will be set to nan. Details: \n",
      "Traceback (most recent call last):\n",
      "  File \"/opt/conda/lib/python3.9/site-packages/sklearn/model_selection/_validation.py\", line 949, in _score\n",
      "    scores = scorer(estimator, X_test, y_test, **score_params)\n",
      "  File \"/opt/conda/lib/python3.9/site-packages/sklearn/metrics/_scorer.py\", line 288, in __call__\n",
      "    return self._score(partial(_cached_call, None), estimator, X, y_true, **_kwargs)\n",
      "  File \"/opt/conda/lib/python3.9/site-packages/sklearn/metrics/_scorer.py\", line 379, in _score\n",
      "    response_method = _check_response_method(estimator, self._response_method)\n",
      "  File \"/opt/conda/lib/python3.9/site-packages/sklearn/utils/validation.py\", line 2283, in _check_response_method\n",
      "    raise AttributeError(\n",
      "AttributeError: Pipeline has none of the following attributes: decision_function, predict_proba.\n",
      "\n",
      "  warnings.warn(\n",
      "/opt/conda/lib/python3.9/site-packages/sklearn/model_selection/_validation.py:960: UserWarning: Scoring failed. The score on this train-test partition for these parameters will be set to nan. Details: \n",
      "Traceback (most recent call last):\n",
      "  File \"/opt/conda/lib/python3.9/site-packages/sklearn/model_selection/_validation.py\", line 949, in _score\n",
      "    scores = scorer(estimator, X_test, y_test, **score_params)\n",
      "  File \"/opt/conda/lib/python3.9/site-packages/sklearn/metrics/_scorer.py\", line 288, in __call__\n",
      "    return self._score(partial(_cached_call, None), estimator, X, y_true, **_kwargs)\n",
      "  File \"/opt/conda/lib/python3.9/site-packages/sklearn/metrics/_scorer.py\", line 379, in _score\n",
      "    response_method = _check_response_method(estimator, self._response_method)\n",
      "  File \"/opt/conda/lib/python3.9/site-packages/sklearn/utils/validation.py\", line 2283, in _check_response_method\n",
      "    raise AttributeError(\n",
      "AttributeError: Pipeline has none of the following attributes: decision_function, predict_proba.\n",
      "\n",
      "  warnings.warn(\n",
      "/opt/conda/lib/python3.9/site-packages/sklearn/model_selection/_validation.py:960: UserWarning: Scoring failed. The score on this train-test partition for these parameters will be set to nan. Details: \n",
      "Traceback (most recent call last):\n",
      "  File \"/opt/conda/lib/python3.9/site-packages/sklearn/model_selection/_validation.py\", line 949, in _score\n",
      "    scores = scorer(estimator, X_test, y_test, **score_params)\n",
      "  File \"/opt/conda/lib/python3.9/site-packages/sklearn/metrics/_scorer.py\", line 288, in __call__\n",
      "    return self._score(partial(_cached_call, None), estimator, X, y_true, **_kwargs)\n",
      "  File \"/opt/conda/lib/python3.9/site-packages/sklearn/metrics/_scorer.py\", line 379, in _score\n",
      "    response_method = _check_response_method(estimator, self._response_method)\n",
      "  File \"/opt/conda/lib/python3.9/site-packages/sklearn/utils/validation.py\", line 2283, in _check_response_method\n",
      "    raise AttributeError(\n",
      "AttributeError: Pipeline has none of the following attributes: decision_function, predict_proba.\n",
      "\n",
      "  warnings.warn(\n",
      "/opt/conda/lib/python3.9/site-packages/sklearn/model_selection/_validation.py:960: UserWarning: Scoring failed. The score on this train-test partition for these parameters will be set to nan. Details: \n",
      "Traceback (most recent call last):\n",
      "  File \"/opt/conda/lib/python3.9/site-packages/sklearn/model_selection/_validation.py\", line 949, in _score\n",
      "    scores = scorer(estimator, X_test, y_test, **score_params)\n",
      "  File \"/opt/conda/lib/python3.9/site-packages/sklearn/metrics/_scorer.py\", line 288, in __call__\n",
      "    return self._score(partial(_cached_call, None), estimator, X, y_true, **_kwargs)\n",
      "  File \"/opt/conda/lib/python3.9/site-packages/sklearn/metrics/_scorer.py\", line 379, in _score\n",
      "    response_method = _check_response_method(estimator, self._response_method)\n",
      "  File \"/opt/conda/lib/python3.9/site-packages/sklearn/utils/validation.py\", line 2283, in _check_response_method\n",
      "    raise AttributeError(\n",
      "AttributeError: Pipeline has none of the following attributes: decision_function, predict_proba.\n",
      "\n",
      "  warnings.warn(\n",
      "/opt/conda/lib/python3.9/site-packages/sklearn/model_selection/_validation.py:960: UserWarning: Scoring failed. The score on this train-test partition for these parameters will be set to nan. Details: \n",
      "Traceback (most recent call last):\n",
      "  File \"/opt/conda/lib/python3.9/site-packages/sklearn/model_selection/_validation.py\", line 949, in _score\n",
      "    scores = scorer(estimator, X_test, y_test, **score_params)\n",
      "  File \"/opt/conda/lib/python3.9/site-packages/sklearn/metrics/_scorer.py\", line 288, in __call__\n",
      "    return self._score(partial(_cached_call, None), estimator, X, y_true, **_kwargs)\n",
      "  File \"/opt/conda/lib/python3.9/site-packages/sklearn/metrics/_scorer.py\", line 379, in _score\n",
      "    response_method = _check_response_method(estimator, self._response_method)\n",
      "  File \"/opt/conda/lib/python3.9/site-packages/sklearn/utils/validation.py\", line 2283, in _check_response_method\n",
      "    raise AttributeError(\n",
      "AttributeError: Pipeline has none of the following attributes: decision_function, predict_proba.\n",
      "\n",
      "  warnings.warn(\n",
      "/opt/conda/lib/python3.9/site-packages/sklearn/model_selection/_validation.py:960: UserWarning: Scoring failed. The score on this train-test partition for these parameters will be set to nan. Details: \n",
      "Traceback (most recent call last):\n",
      "  File \"/opt/conda/lib/python3.9/site-packages/sklearn/model_selection/_validation.py\", line 949, in _score\n",
      "    scores = scorer(estimator, X_test, y_test, **score_params)\n",
      "  File \"/opt/conda/lib/python3.9/site-packages/sklearn/metrics/_scorer.py\", line 288, in __call__\n",
      "    return self._score(partial(_cached_call, None), estimator, X, y_true, **_kwargs)\n",
      "  File \"/opt/conda/lib/python3.9/site-packages/sklearn/metrics/_scorer.py\", line 379, in _score\n",
      "    response_method = _check_response_method(estimator, self._response_method)\n",
      "  File \"/opt/conda/lib/python3.9/site-packages/sklearn/utils/validation.py\", line 2283, in _check_response_method\n",
      "    raise AttributeError(\n",
      "AttributeError: Pipeline has none of the following attributes: decision_function, predict_proba.\n",
      "\n",
      "  warnings.warn(\n",
      "/opt/conda/lib/python3.9/site-packages/sklearn/model_selection/_validation.py:960: UserWarning: Scoring failed. The score on this train-test partition for these parameters will be set to nan. Details: \n",
      "Traceback (most recent call last):\n",
      "  File \"/opt/conda/lib/python3.9/site-packages/sklearn/model_selection/_validation.py\", line 949, in _score\n",
      "    scores = scorer(estimator, X_test, y_test, **score_params)\n",
      "  File \"/opt/conda/lib/python3.9/site-packages/sklearn/metrics/_scorer.py\", line 288, in __call__\n",
      "    return self._score(partial(_cached_call, None), estimator, X, y_true, **_kwargs)\n",
      "  File \"/opt/conda/lib/python3.9/site-packages/sklearn/metrics/_scorer.py\", line 379, in _score\n",
      "    response_method = _check_response_method(estimator, self._response_method)\n",
      "  File \"/opt/conda/lib/python3.9/site-packages/sklearn/utils/validation.py\", line 2283, in _check_response_method\n",
      "    raise AttributeError(\n",
      "AttributeError: Pipeline has none of the following attributes: decision_function, predict_proba.\n",
      "\n",
      "  warnings.warn(\n",
      "/opt/conda/lib/python3.9/site-packages/sklearn/model_selection/_validation.py:960: UserWarning: Scoring failed. The score on this train-test partition for these parameters will be set to nan. Details: \n",
      "Traceback (most recent call last):\n",
      "  File \"/opt/conda/lib/python3.9/site-packages/sklearn/model_selection/_validation.py\", line 949, in _score\n",
      "    scores = scorer(estimator, X_test, y_test, **score_params)\n",
      "  File \"/opt/conda/lib/python3.9/site-packages/sklearn/metrics/_scorer.py\", line 288, in __call__\n",
      "    return self._score(partial(_cached_call, None), estimator, X, y_true, **_kwargs)\n",
      "  File \"/opt/conda/lib/python3.9/site-packages/sklearn/metrics/_scorer.py\", line 379, in _score\n",
      "    response_method = _check_response_method(estimator, self._response_method)\n",
      "  File \"/opt/conda/lib/python3.9/site-packages/sklearn/utils/validation.py\", line 2283, in _check_response_method\n",
      "    raise AttributeError(\n",
      "AttributeError: Pipeline has none of the following attributes: decision_function, predict_proba.\n",
      "\n",
      "  warnings.warn(\n",
      "/opt/conda/lib/python3.9/site-packages/sklearn/model_selection/_validation.py:960: UserWarning: Scoring failed. The score on this train-test partition for these parameters will be set to nan. Details: \n",
      "Traceback (most recent call last):\n",
      "  File \"/opt/conda/lib/python3.9/site-packages/sklearn/model_selection/_validation.py\", line 949, in _score\n",
      "    scores = scorer(estimator, X_test, y_test, **score_params)\n",
      "  File \"/opt/conda/lib/python3.9/site-packages/sklearn/metrics/_scorer.py\", line 288, in __call__\n",
      "    return self._score(partial(_cached_call, None), estimator, X, y_true, **_kwargs)\n",
      "  File \"/opt/conda/lib/python3.9/site-packages/sklearn/metrics/_scorer.py\", line 379, in _score\n",
      "    response_method = _check_response_method(estimator, self._response_method)\n",
      "  File \"/opt/conda/lib/python3.9/site-packages/sklearn/utils/validation.py\", line 2283, in _check_response_method\n",
      "    raise AttributeError(\n",
      "AttributeError: Pipeline has none of the following attributes: decision_function, predict_proba.\n",
      "\n",
      "  warnings.warn(\n",
      "/opt/conda/lib/python3.9/site-packages/sklearn/model_selection/_validation.py:960: UserWarning: Scoring failed. The score on this train-test partition for these parameters will be set to nan. Details: \n",
      "Traceback (most recent call last):\n",
      "  File \"/opt/conda/lib/python3.9/site-packages/sklearn/model_selection/_validation.py\", line 949, in _score\n",
      "    scores = scorer(estimator, X_test, y_test, **score_params)\n",
      "  File \"/opt/conda/lib/python3.9/site-packages/sklearn/metrics/_scorer.py\", line 288, in __call__\n",
      "    return self._score(partial(_cached_call, None), estimator, X, y_true, **_kwargs)\n",
      "  File \"/opt/conda/lib/python3.9/site-packages/sklearn/metrics/_scorer.py\", line 379, in _score\n",
      "    response_method = _check_response_method(estimator, self._response_method)\n",
      "  File \"/opt/conda/lib/python3.9/site-packages/sklearn/utils/validation.py\", line 2283, in _check_response_method\n",
      "    raise AttributeError(\n",
      "AttributeError: Pipeline has none of the following attributes: decision_function, predict_proba.\n",
      "\n",
      "  warnings.warn(\n",
      "/opt/conda/lib/python3.9/site-packages/sklearn/model_selection/_validation.py:960: UserWarning: Scoring failed. The score on this train-test partition for these parameters will be set to nan. Details: \n",
      "Traceback (most recent call last):\n",
      "  File \"/opt/conda/lib/python3.9/site-packages/sklearn/model_selection/_validation.py\", line 949, in _score\n",
      "    scores = scorer(estimator, X_test, y_test, **score_params)\n",
      "  File \"/opt/conda/lib/python3.9/site-packages/sklearn/metrics/_scorer.py\", line 288, in __call__\n",
      "    return self._score(partial(_cached_call, None), estimator, X, y_true, **_kwargs)\n",
      "  File \"/opt/conda/lib/python3.9/site-packages/sklearn/metrics/_scorer.py\", line 379, in _score\n",
      "    response_method = _check_response_method(estimator, self._response_method)\n",
      "  File \"/opt/conda/lib/python3.9/site-packages/sklearn/utils/validation.py\", line 2283, in _check_response_method\n",
      "    raise AttributeError(\n",
      "AttributeError: Pipeline has none of the following attributes: decision_function, predict_proba.\n",
      "\n",
      "  warnings.warn(\n",
      "/opt/conda/lib/python3.9/site-packages/sklearn/model_selection/_validation.py:960: UserWarning: Scoring failed. The score on this train-test partition for these parameters will be set to nan. Details: \n",
      "Traceback (most recent call last):\n",
      "  File \"/opt/conda/lib/python3.9/site-packages/sklearn/model_selection/_validation.py\", line 949, in _score\n",
      "    scores = scorer(estimator, X_test, y_test, **score_params)\n",
      "  File \"/opt/conda/lib/python3.9/site-packages/sklearn/metrics/_scorer.py\", line 288, in __call__\n",
      "    return self._score(partial(_cached_call, None), estimator, X, y_true, **_kwargs)\n",
      "  File \"/opt/conda/lib/python3.9/site-packages/sklearn/metrics/_scorer.py\", line 379, in _score\n",
      "    response_method = _check_response_method(estimator, self._response_method)\n",
      "  File \"/opt/conda/lib/python3.9/site-packages/sklearn/utils/validation.py\", line 2283, in _check_response_method\n",
      "    raise AttributeError(\n",
      "AttributeError: Pipeline has none of the following attributes: decision_function, predict_proba.\n",
      "\n",
      "  warnings.warn(\n",
      "/opt/conda/lib/python3.9/site-packages/sklearn/model_selection/_validation.py:960: UserWarning: Scoring failed. The score on this train-test partition for these parameters will be set to nan. Details: \n",
      "Traceback (most recent call last):\n",
      "  File \"/opt/conda/lib/python3.9/site-packages/sklearn/model_selection/_validation.py\", line 949, in _score\n",
      "    scores = scorer(estimator, X_test, y_test, **score_params)\n",
      "  File \"/opt/conda/lib/python3.9/site-packages/sklearn/metrics/_scorer.py\", line 288, in __call__\n",
      "    return self._score(partial(_cached_call, None), estimator, X, y_true, **_kwargs)\n",
      "  File \"/opt/conda/lib/python3.9/site-packages/sklearn/metrics/_scorer.py\", line 379, in _score\n",
      "    response_method = _check_response_method(estimator, self._response_method)\n",
      "  File \"/opt/conda/lib/python3.9/site-packages/sklearn/utils/validation.py\", line 2283, in _check_response_method\n",
      "    raise AttributeError(\n",
      "AttributeError: Pipeline has none of the following attributes: decision_function, predict_proba.\n",
      "\n",
      "  warnings.warn(\n",
      "/opt/conda/lib/python3.9/site-packages/sklearn/model_selection/_validation.py:960: UserWarning: Scoring failed. The score on this train-test partition for these parameters will be set to nan. Details: \n",
      "Traceback (most recent call last):\n",
      "  File \"/opt/conda/lib/python3.9/site-packages/sklearn/model_selection/_validation.py\", line 949, in _score\n",
      "    scores = scorer(estimator, X_test, y_test, **score_params)\n",
      "  File \"/opt/conda/lib/python3.9/site-packages/sklearn/metrics/_scorer.py\", line 288, in __call__\n",
      "    return self._score(partial(_cached_call, None), estimator, X, y_true, **_kwargs)\n",
      "  File \"/opt/conda/lib/python3.9/site-packages/sklearn/metrics/_scorer.py\", line 379, in _score\n",
      "    response_method = _check_response_method(estimator, self._response_method)\n",
      "  File \"/opt/conda/lib/python3.9/site-packages/sklearn/utils/validation.py\", line 2283, in _check_response_method\n",
      "    raise AttributeError(\n",
      "AttributeError: Pipeline has none of the following attributes: decision_function, predict_proba.\n",
      "\n",
      "  warnings.warn(\n",
      "/opt/conda/lib/python3.9/site-packages/sklearn/model_selection/_validation.py:960: UserWarning: Scoring failed. The score on this train-test partition for these parameters will be set to nan. Details: \n",
      "Traceback (most recent call last):\n",
      "  File \"/opt/conda/lib/python3.9/site-packages/sklearn/model_selection/_validation.py\", line 949, in _score\n",
      "    scores = scorer(estimator, X_test, y_test, **score_params)\n",
      "  File \"/opt/conda/lib/python3.9/site-packages/sklearn/metrics/_scorer.py\", line 288, in __call__\n",
      "    return self._score(partial(_cached_call, None), estimator, X, y_true, **_kwargs)\n",
      "  File \"/opt/conda/lib/python3.9/site-packages/sklearn/metrics/_scorer.py\", line 379, in _score\n",
      "    response_method = _check_response_method(estimator, self._response_method)\n",
      "  File \"/opt/conda/lib/python3.9/site-packages/sklearn/utils/validation.py\", line 2283, in _check_response_method\n",
      "    raise AttributeError(\n",
      "AttributeError: Pipeline has none of the following attributes: decision_function, predict_proba.\n",
      "\n",
      "  warnings.warn(\n",
      "/opt/conda/lib/python3.9/site-packages/sklearn/model_selection/_search.py:1108: UserWarning: One or more of the test scores are non-finite: [       nan        nan        nan 0.88190479 0.8742702  0.87476101\n",
      "        nan        nan        nan        nan]\n",
      "  warnings.warn(\n",
      "/opt/conda/lib/python3.9/site-packages/sklearn/utils/deprecation.py:151: FutureWarning: 'force_all_finite' was renamed to 'ensure_all_finite' in 1.6 and will be removed in 1.8.\n",
      "  warnings.warn(\n"
     ]
    },
    {
     "name": "stdout",
     "output_type": "stream",
     "text": [
      "Лучшая модель и её параметры:\n",
      "\n",
      " Pipeline(steps=[('preprocessor',\n",
      "                 ColumnTransformer(remainder='passthrough',\n",
      "                                   transformers=[('ord', OrdinalEncoder(),\n",
      "                                                  ['type', 'paperless_billing',\n",
      "                                                   'payment_method',\n",
      "                                                   'senior_citizen', 'partner',\n",
      "                                                   'online_security',\n",
      "                                                   'tech_support',\n",
      "                                                   'multiple_lines']),\n",
      "                                                 ('num', MinMaxScaler(),\n",
      "                                                  ['duration',\n",
      "                                                   'total_charges'])])),\n",
      "                ('models',\n",
      "                 LGBMClassifier(learning_rate=0.2, random_state=130125,\n",
      "                                subsample_for_bin=10000))])\n",
      "Метрика лучшей модели при кросс-валидации: 0.8819047885989111\n"
     ]
    }
   ],
   "source": [
    "randomized_search = RandomizedSearchCV(\n",
    "    pipe_final, \n",
    "    param_distributions=param_distributions, \n",
    "    cv=5,\n",
    "    scoring='roc_auc',\n",
    "    n_jobs=-1, \n",
    "    random_state=RANDOM_STATE\n",
    ")\n",
    "randomized_search.fit(X_train, y_train)\n",
    "\n",
    "print('Лучшая модель и её параметры:\\n\\n', randomized_search.best_estimator_)\n",
    "print ('Метрика лучшей модели при кросс-валидации:', randomized_search.best_score_)"
   ]
  },
  {
   "cell_type": "markdown",
   "id": "dd3067e9",
   "metadata": {},
   "source": [
    "В данном переборе моделей и гиперпараметров мы увидели, что при кросс-валидации лучшая модель показывает метрику 0.88, что явно больше метрики, полученной у логистической регрессии, и больше 0.85."
   ]
  },
  {
   "cell_type": "markdown",
   "id": "c1fcc82e",
   "metadata": {},
   "source": [
    "<div class=\"alert alert-danger\">\n",
    "<s><b>😔 Необходимо исправить:</b> Здесь нужно сравнить метрики всех моделей, выбрать лучшую и после этого проверить ее на тестовых данных</s>\n",
    "</div>"
   ]
  },
  {
   "cell_type": "markdown",
   "id": "8fc7e201",
   "metadata": {},
   "source": [
    "<div class=\"alert alert-info\"> <b>🎓 Комментарий студента:</b> При переборе всех моделей и сравнения с помощью randomized_search.best_estimator_ вывожу лучшие модели по метрикам для наших моделей. Лучшая метрика для логистической регрессии - 0.74, лучшая для остальных двух - 0.88. Следовательно, выбираем ту модель, которая показала лучший результат </div>"
   ]
  },
  {
   "cell_type": "markdown",
   "id": "e24eb8ef",
   "metadata": {},
   "source": [
    "<div class=\"alert alert-success\">\n",
    "<b>👍 Успех:</b> Все верно!\n",
    "</div>"
   ]
  },
  {
   "cell_type": "markdown",
   "id": "d444d99a",
   "metadata": {},
   "source": [
    "### Проверка модели на тестовых данных"
   ]
  },
  {
   "cell_type": "markdown",
   "id": "cd3e2f48",
   "metadata": {},
   "source": [
    "**Лучшая модель**: LGBMClassifier (learning_rate=0.2, random_state=130125, subsample_for_bin=10000))].\n",
    "При кросс-валидации метрика ROC_AUC равна 0.88 > 0.85.\n",
    "\n",
    "Именно этой модели передадим наши тестовые данные и посмотрим на метрику ROC-AUC"
   ]
  },
  {
   "cell_type": "code",
   "execution_count": 44,
   "id": "c183e0eb",
   "metadata": {},
   "outputs": [
    {
     "name": "stdout",
     "output_type": "stream",
     "text": [
      "Метрика ROC-AUC на тестовой выборке: 0.9102642848403278\n"
     ]
    },
    {
     "name": "stderr",
     "output_type": "stream",
     "text": [
      "/opt/conda/lib/python3.9/site-packages/sklearn/utils/deprecation.py:151: FutureWarning: 'force_all_finite' was renamed to 'ensure_all_finite' in 1.6 and will be removed in 1.8.\n",
      "  warnings.warn(\n"
     ]
    }
   ],
   "source": [
    "y_test_pred = randomized_search.predict_proba(X_test)\n",
    "print(f'Метрика ROC-AUC на тестовой выборке: {roc_auc_score(y_test, y_test_pred[:,1])}')"
   ]
  },
  {
   "cell_type": "markdown",
   "id": "7a148faa",
   "metadata": {},
   "source": [
    "Метрика ROC_AUC на тестовой выборке равна 0.91, еще выше, чем при кросс-валидации"
   ]
  },
  {
   "cell_type": "markdown",
   "id": "b6bcbb91",
   "metadata": {},
   "source": [
    "<div class=\"alert alert-success\">\n",
    "<b>👍 Успех:</b> Получилась отличная метрика!\n",
    "</div>"
   ]
  },
  {
   "cell_type": "markdown",
   "id": "5a536d2d",
   "metadata": {},
   "source": [
    "### ROC-кривая лучшей модели"
   ]
  },
  {
   "cell_type": "code",
   "execution_count": 45,
   "id": "7f359e66",
   "metadata": {},
   "outputs": [
    {
     "data": {
      "image/png": "[encoded data removed]",
      "text/plain": [
       "<Figure size 864x864 with 1 Axes>"
      ]
     },
     "metadata": {},
     "output_type": "display_data"
    }
   ],
   "source": [
    "fpr, tpr, threshold = roc_curve(y_test, y_test_pred[:,1])\n",
    "plt.plot(fpr, tpr)\n",
    "plt.plot([0,1], [0,1], linestyle='dashed', label='Random prediction')\n",
    "\n",
    "plt.title(\"ROC-кривая\")\n",
    "plt.xlabel('False Positive Rate (FPR)')\n",
    "plt.ylabel('True Positive Rate (TPR)')\n",
    "plt.show()"
   ]
  },
  {
   "cell_type": "markdown",
   "id": "216a6976",
   "metadata": {},
   "source": [
    "ROC-кривая сильно выпукла вверх (лежит явно выше, чем отрезок предсказаний случайной модели), следовательно в большинстве случаев модель делает верные предсказания (площадь под графиков ROC-кривой 0.91)"
   ]
  },
  {
   "cell_type": "markdown",
   "id": "f61ee84b",
   "metadata": {},
   "source": [
    "<div class=\"alert alert-success\">\n",
    "<b>👍 Успех:</b> Все верно!\n",
    "</div>"
   ]
  },
  {
   "cell_type": "markdown",
   "id": "225d3507",
   "metadata": {},
   "source": [
    "### Метрика accuracy"
   ]
  },
  {
   "cell_type": "code",
   "execution_count": 46,
   "id": "e293a78f",
   "metadata": {},
   "outputs": [
    {
     "name": "stdout",
     "output_type": "stream",
     "text": [
      "Метрика accuracy: 0.909710391822828\n"
     ]
    },
    {
     "name": "stderr",
     "output_type": "stream",
     "text": [
      "/opt/conda/lib/python3.9/site-packages/sklearn/utils/deprecation.py:151: FutureWarning: 'force_all_finite' was renamed to 'ensure_all_finite' in 1.6 and will be removed in 1.8.\n",
      "  warnings.warn(\n"
     ]
    }
   ],
   "source": [
    "print('Метрика accuracy:', accuracy_score(y_test, randomized_search.predict(X_test)))"
   ]
  },
  {
   "cell_type": "markdown",
   "id": "d8995a63",
   "metadata": {},
   "source": [
    "Посчитав метрику accuracy, можем сказать, что в почти в 91% случаев наша модель верно предсказывает результат."
   ]
  },
  {
   "cell_type": "markdown",
   "id": "18fdba1a",
   "metadata": {},
   "source": [
    "<div class=\"alert alert-success\">\n",
    "<b>👍 Успех:</b> Все верно!\n",
    "</div>"
   ]
  },
  {
   "cell_type": "markdown",
   "id": "02e809dd",
   "metadata": {},
   "source": [
    "### Матрица ошибок"
   ]
  },
  {
   "cell_type": "code",
   "execution_count": 47,
   "id": "12a57f5c",
   "metadata": {},
   "outputs": [
    {
     "name": "stderr",
     "output_type": "stream",
     "text": [
      "/opt/conda/lib/python3.9/site-packages/sklearn/utils/deprecation.py:151: FutureWarning: 'force_all_finite' was renamed to 'ensure_all_finite' in 1.6 and will be removed in 1.8.\n",
      "  warnings.warn(\n"
     ]
    },
    {
     "data": {
      "image/png": "[encoded data removed]",
      "text/plain": [
       "<Figure size 864x864 with 2 Axes>"
      ]
     },
     "metadata": {},
     "output_type": "display_data"
    }
   ],
   "source": [
    "cm = confusion_matrix(y_test, randomized_search.predict(X_test))\n",
    "sns.heatmap(cm, annot=True, fmt='d', cmap='Blues_r')\n",
    "plt.ylabel('True label')\n",
    "plt.xlabel('Predicted'); "
   ]
  },
  {
   "cell_type": "markdown",
   "id": "dfce33df",
   "metadata": {},
   "source": [
    "Как мы можем заметить по матрице ошибок, модель в большинстве случаев (примерно 98%) абсолютно правильно предсказывает класс 1 - активность договора. Этот класс как раз и является преобладающих в данных.\n",
    "\n",
    "Однако, примерно в половине случаев модель ошибается в предсказании того, что пользователь рассторгнул договор."
   ]
  },
  {
   "cell_type": "markdown",
   "id": "a45a15b6",
   "metadata": {},
   "source": [
    "<div class=\"alert alert-success\">\n",
    "<b>👍 Успех:</b> Все верно!\n",
    "</div>"
   ]
  },
  {
   "cell_type": "markdown",
   "id": "34bb23a1",
   "metadata": {},
   "source": [
    "### Анализ важности признаков"
   ]
  },
  {
   "cell_type": "code",
   "execution_count": 48,
   "id": "8bb1c39a",
   "metadata": {},
   "outputs": [
    {
     "data": {
      "text/html": [
       "<div>\n",
       "<style scoped>\n",
       "    .dataframe tbody tr th:only-of-type {\n",
       "        vertical-align: middle;\n",
       "    }\n",
       "\n",
       "    .dataframe tbody tr th {\n",
       "        vertical-align: top;\n",
       "    }\n",
       "\n",
       "    .dataframe thead th {\n",
       "        text-align: right;\n",
       "    }\n",
       "</style>\n",
       "<table border=\"1\" class=\"dataframe\">\n",
       "  <thead>\n",
       "    <tr style=\"text-align: right;\">\n",
       "      <th></th>\n",
       "      <th>Важность признаков</th>\n",
       "    </tr>\n",
       "  </thead>\n",
       "  <tbody>\n",
       "    <tr>\n",
       "      <th>num__duration</th>\n",
       "      <td>1399</td>\n",
       "    </tr>\n",
       "    <tr>\n",
       "      <th>num__total_charges</th>\n",
       "      <td>884</td>\n",
       "    </tr>\n",
       "    <tr>\n",
       "      <th>ord__payment_method</th>\n",
       "      <td>162</td>\n",
       "    </tr>\n",
       "    <tr>\n",
       "      <th>ord__type</th>\n",
       "      <td>124</td>\n",
       "    </tr>\n",
       "    <tr>\n",
       "      <th>ord__multiple_lines</th>\n",
       "      <td>96</td>\n",
       "    </tr>\n",
       "    <tr>\n",
       "      <th>ord__partner</th>\n",
       "      <td>78</td>\n",
       "    </tr>\n",
       "    <tr>\n",
       "      <th>ord__paperless_billing</th>\n",
       "      <td>74</td>\n",
       "    </tr>\n",
       "    <tr>\n",
       "      <th>ord__online_security</th>\n",
       "      <td>71</td>\n",
       "    </tr>\n",
       "    <tr>\n",
       "      <th>ord__tech_support</th>\n",
       "      <td>71</td>\n",
       "    </tr>\n",
       "    <tr>\n",
       "      <th>ord__senior_citizen</th>\n",
       "      <td>41</td>\n",
       "    </tr>\n",
       "  </tbody>\n",
       "</table>\n",
       "</div>"
      ],
      "text/plain": [
       "                        Важность признаков\n",
       "num__duration                         1399\n",
       "num__total_charges                     884\n",
       "ord__payment_method                    162\n",
       "ord__type                              124\n",
       "ord__multiple_lines                     96\n",
       "ord__partner                            78\n",
       "ord__paperless_billing                  74\n",
       "ord__online_security                    71\n",
       "ord__tech_support                       71\n",
       "ord__senior_citizen                     41"
      ]
     },
     "execution_count": 48,
     "metadata": {},
     "output_type": "execute_result"
    }
   ],
   "source": [
    "preprocessor = randomized_search.best_estimator_.named_steps['preprocessor']\n",
    "lgbclf = randomized_search.best_estimator_.named_steps['models']\n",
    "\n",
    "pd.DataFrame(lgbclf.booster_.feature_importance(), \n",
    "    index=randomized_search.best_estimator_[:-1].get_feature_names_out(),\n",
    "    columns=['Важность признаков']).sort_values(by='Важность признаков', ascending=False)"
   ]
  },
  {
   "cell_type": "markdown",
   "id": "705144ac",
   "metadata": {},
   "source": [
    "Проведя анализ важности признаков, можем сказать, что самый значимый показатель, который влияет на активность договора, - его длительность. Также весомую значимость имеет показатель количества всех потраченных на услуги денег.\n",
    "\n",
    "Самый незначимый для модели признак - статус пенсионера."
   ]
  },
  {
   "cell_type": "markdown",
   "id": "e32cb747",
   "metadata": {},
   "source": [
    "<div class=\"alert alert-success\">\n",
    "<b>👍 Успех:</b> Все верно!\n",
    "</div>"
   ]
  },
  {
   "cell_type": "markdown",
   "id": "5e606b56",
   "metadata": {},
   "source": [
    "### Проверка модели на адекватность"
   ]
  },
  {
   "cell_type": "markdown",
   "id": "3bc8c7b8",
   "metadata": {},
   "source": [
    "Проверим модель на адекватность с помощью DummyClassifier"
   ]
  },
  {
   "cell_type": "code",
   "execution_count": 49,
   "id": "233ee9de",
   "metadata": {},
   "outputs": [
    {
     "name": "stdout",
     "output_type": "stream",
     "text": [
      "Model roc_auc = 0.5\n"
     ]
    }
   ],
   "source": [
    "dummy = DummyClassifier()\n",
    "dummy.fit(X_train, y_train)\n",
    "\n",
    "dummy_model_preds = dummy.predict_proba(X_test)[:, 1]\n",
    "\n",
    "dummy_roc = roc_auc_score(y_test, dummy_model_preds)\n",
    "print('Model roc_auc =', round(dummy_roc, 2))"
   ]
  },
  {
   "cell_type": "markdown",
   "id": "de1989df",
   "metadata": {},
   "source": [
    "Как видим, в данном случае метрика модели упала до 0.5. Следовательно, наша выбранная модель вполне адекватна и все-таки работает успешно."
   ]
  },
  {
   "cell_type": "markdown",
   "id": "9b5d4d8a",
   "metadata": {},
   "source": [
    "## Общий вывод"
   ]
  },
  {
   "cell_type": "markdown",
   "id": "42c998d6",
   "metadata": {},
   "source": [
    "Таким образом, цель нашего проекта выполнена. Метрика ROC-AUC на выбранной модели показала результат 0.88 при кросс-валидации и 0.91 на тестовой выборке.\n",
    "\n",
    "-----\n",
    "Для достижения результата мы:\n",
    "\n",
    "- Загрузили все необходимые библиотеки и данные;\n",
    "\n",
    "- Провели предобработку всех датафреймов: привели названия столбцов к змеиному регистру, поменяли тип данных, проверили на наличие дубликатов и пропусков, добавили новые и более значимые для анализа, признаки;\n",
    "\n",
    "- Объединили все данные в один датафрейм;\n",
    "\n",
    "- Провели исследовательский анализ объединенного датафрейма, посмотрели на расспределение каждого признака;\n",
    "\n",
    "- Провели корреляционный анализ, увидели мультиколлинеарность и оставили для дальнейшей работы с моделью в датафрейме следующие признаки: ***type***, ***paperless_billing***, ***payment_method***, ***total_charges***, ***duration***, ***senior_citizen***, ***partner***, ***online_security***, ***tech_support***, ***multiple_lines***;\n",
    "\n",
    "- Подготовили данные к обучению моделей;\n",
    "\n",
    "- Обучили три модели: **LogisticRegression**, **DecisionTreeClassifier** и **LGBMClassifier**,- перебирая гиперпараметры для каждой.\n",
    "\n",
    "----\n",
    "Лучшей моделью оказалась **LGBMClassifier** с гиперпараметрами **learning_rate = 0.2, random_state = 130125, subsample_for_bin = 10000**. \n",
    "\n",
    "Лучшую модель мы проверили на адекватность, посчитали метрику accuracy, разобрали матрицу ошибок и провели анализ важности признаков.\n"
   ]
  },
  {
   "cell_type": "markdown",
   "id": "fb21d86a",
   "metadata": {},
   "source": [
    "## Рекомендации заказчику"
   ]
  },
  {
   "cell_type": "markdown",
   "id": "6a2da0c6",
   "metadata": {},
   "source": [
    "1) Хотелось бы обратить внимание на то, что далеко не все данные, которые предоставлены в датафреймах, оказались важны для использования моделей машинного обучения: \n",
    "\n",
    "- Например, факт активности договора и длительность намного важнее для моделей нежели даты заключения и расторжения договора;\n",
    "\n",
    "- Также, все признаки в датафрейме ***internet_new*** сильно коррелируют друг с другом, поэтому все вместе они не могут быть полезны для моделей.\n",
    "\n",
    "2) Некоторые типы в данных были указаны неправильно (например, ***total_charges*** или ***begin_date***). Возможно, при выгрузке данных нужно более тщательно обращать на это внимание."
   ]
  },
  {
   "cell_type": "markdown",
   "id": "88b700da",
   "metadata": {},
   "source": [
    "<div class=\"alert alert-success\">\n",
    "<b>👍 Успех:</b> Молодец, финальный проект завершен! Сама работа получилась хорошей и структурированной, были предобработаны и проанализированы данные, выбран целевой признак, рассчеты подкреплены визуализацией, это очень важная часть работы, которая облегчает анализ и позволяет полнее представлять происходящее в данных. Построено и обучено несколько моделей, все они оценены и выбрана лучшая. Цель работы достигнута, получена модель хорошо предсказывающая уход клиентов. Не забывай о том, что все пункты очень важны и каждому стоит уделять максимум внимания. <p>\n",
    "С опытом становится значительно легче, но опыт это не только повторение однажды изученного, но и постоянное развитие, тем более, что ты выбрала очень динамично развивающуюся область. <p>\n",
    "В будущей профессии тебе точно пригодиться умение системно подходить к решению аналитических задач, здесь рекомендую изучить ТРИЗ и системный анализ, из литературы можно почитать Теоретический минимум по Big Data — Су Кеннет и Ын Анналин, Практическая статистика для специалистов Data Science — Брюс П. и Брюс Э., Real-World Machine Learning — Henric Brink, Joseph Мark, W. Richards Fetherolf, Прикладное машинное обучение с помощью Scikit-Learn и TensorFlow — Жерон Орельен.<p>\n",
    "Есть интересные сообщества (например https://vk.com/mashinnoe_obuchenie_ai_big_data) и конечно же https://habr.com/ru/all/<p>\n",
    "\n",
    "Дополнительно предлагаю посмотреть:\n",
    "- Книга от ШАД: https://academy.yandex.ru/handbook/ml\n",
    "\n",
    "- Открытый курс машинного обучения: https://habr.com/ru/company/ods/blog/322626/\n",
    "\n",
    " Удачи тебе и профессионального роста!\n",
    "</div>"
   ]
  },
  {
   "cell_type": "code",
   "execution_count": null,
   "id": "5de508d3",
   "metadata": {},
   "outputs": [],
   "source": []
  }
 ],
 "metadata": {
  "ExecuteTimeLog": [
   {
    "duration": 106,
    "start_time": "2025-01-14T15:31:13.522Z"
   },
   {
    "duration": 3001,
    "start_time": "2025-01-14T15:31:16.674Z"
   },
   {
    "duration": 83,
    "start_time": "2025-01-14T15:31:19.677Z"
   },
   {
    "duration": 40,
    "start_time": "2025-01-14T16:31:37.411Z"
   },
   {
    "duration": 1307,
    "start_time": "2025-01-14T16:31:41.791Z"
   },
   {
    "duration": 45,
    "start_time": "2025-01-14T16:31:43.151Z"
   },
   {
    "duration": 2626,
    "start_time": "2025-01-14T16:31:46.503Z"
   },
   {
    "duration": 6154,
    "start_time": "2025-01-14T16:31:49.131Z"
   },
   {
    "duration": 711,
    "start_time": "2025-01-14T16:31:55.287Z"
   },
   {
    "duration": 80,
    "start_time": "2025-01-14T16:31:56.000Z"
   },
   {
    "duration": 99,
    "start_time": "2025-01-14T16:32:14.419Z"
   },
   {
    "duration": 185,
    "start_time": "2025-01-14T16:32:53.003Z"
   },
   {
    "duration": 181,
    "start_time": "2025-01-14T16:40:47.847Z"
   },
   {
    "duration": 75,
    "start_time": "2025-01-14T16:41:11.711Z"
   },
   {
    "duration": 52,
    "start_time": "2025-01-14T16:44:45.094Z"
   },
   {
    "duration": 38,
    "start_time": "2025-01-14T16:44:52.690Z"
   },
   {
    "duration": 37,
    "start_time": "2025-01-14T16:45:04.018Z"
   },
   {
    "duration": 31,
    "start_time": "2025-01-14T16:45:04.474Z"
   },
   {
    "duration": 24,
    "start_time": "2025-01-14T16:45:04.906Z"
   },
   {
    "duration": 9,
    "start_time": "2025-01-14T17:01:23.418Z"
   },
   {
    "duration": 20,
    "start_time": "2025-01-14T17:03:28.852Z"
   },
   {
    "duration": 46,
    "start_time": "2025-01-14T17:06:23.097Z"
   },
   {
    "duration": 35,
    "start_time": "2025-01-14T17:06:24.557Z"
   },
   {
    "duration": 29,
    "start_time": "2025-01-14T17:06:25.065Z"
   },
   {
    "duration": 22,
    "start_time": "2025-01-14T17:06:25.494Z"
   },
   {
    "duration": 7,
    "start_time": "2025-01-14T17:11:49.801Z"
   },
   {
    "duration": 14,
    "start_time": "2025-01-14T17:27:13.895Z"
   },
   {
    "duration": 4,
    "start_time": "2025-01-14T17:27:19.439Z"
   },
   {
    "duration": 4,
    "start_time": "2025-01-14T17:28:17.503Z"
   },
   {
    "duration": 5,
    "start_time": "2025-01-14T17:28:29.195Z"
   },
   {
    "duration": 4,
    "start_time": "2025-01-14T17:28:37.607Z"
   },
   {
    "duration": 4,
    "start_time": "2025-01-14T17:28:45.088Z"
   },
   {
    "duration": 338,
    "start_time": "2025-01-14T17:29:14.448Z"
   },
   {
    "duration": 4,
    "start_time": "2025-01-14T17:29:23.199Z"
   },
   {
    "duration": 4,
    "start_time": "2025-01-14T17:29:48.754Z"
   },
   {
    "duration": 46,
    "start_time": "2025-01-14T17:29:59.628Z"
   },
   {
    "duration": 3,
    "start_time": "2025-01-14T17:30:03.212Z"
   },
   {
    "duration": 4,
    "start_time": "2025-01-14T17:30:11.267Z"
   },
   {
    "duration": 49,
    "start_time": "2025-01-14T17:30:23.543Z"
   },
   {
    "duration": 4,
    "start_time": "2025-01-14T17:30:27.431Z"
   },
   {
    "duration": 4,
    "start_time": "2025-01-14T17:33:51.743Z"
   },
   {
    "duration": 5,
    "start_time": "2025-01-14T17:34:11.438Z"
   },
   {
    "duration": 5,
    "start_time": "2025-01-14T17:34:18.227Z"
   },
   {
    "duration": 4525,
    "start_time": "2025-01-14T17:34:24.521Z"
   },
   {
    "duration": 1787,
    "start_time": "2025-01-14T17:34:29.048Z"
   },
   {
    "duration": 50,
    "start_time": "2025-01-14T17:34:30.836Z"
   },
   {
    "duration": 23,
    "start_time": "2025-01-14T17:34:30.887Z"
   },
   {
    "duration": 30,
    "start_time": "2025-01-14T17:34:30.912Z"
   },
   {
    "duration": 20,
    "start_time": "2025-01-14T17:34:30.943Z"
   },
   {
    "duration": 12,
    "start_time": "2025-01-14T17:34:30.964Z"
   },
   {
    "duration": 10,
    "start_time": "2025-01-14T17:34:30.978Z"
   },
   {
    "duration": 10,
    "start_time": "2025-01-14T18:15:30.275Z"
   },
   {
    "duration": 4657,
    "start_time": "2025-01-14T18:15:37.242Z"
   },
   {
    "duration": 1864,
    "start_time": "2025-01-14T18:15:41.901Z"
   },
   {
    "duration": 53,
    "start_time": "2025-01-14T18:15:43.767Z"
   },
   {
    "duration": 26,
    "start_time": "2025-01-14T18:15:43.822Z"
   },
   {
    "duration": 31,
    "start_time": "2025-01-14T18:15:43.850Z"
   },
   {
    "duration": 22,
    "start_time": "2025-01-14T18:15:43.882Z"
   },
   {
    "duration": 13,
    "start_time": "2025-01-14T18:15:43.906Z"
   },
   {
    "duration": 5,
    "start_time": "2025-01-14T18:15:43.921Z"
   },
   {
    "duration": 136,
    "start_time": "2025-01-14T18:15:43.927Z"
   },
   {
    "duration": 11,
    "start_time": "2025-01-14T18:16:55.543Z"
   },
   {
    "duration": 9,
    "start_time": "2025-01-14T18:22:43.194Z"
   },
   {
    "duration": 12,
    "start_time": "2025-01-14T18:23:13.838Z"
   },
   {
    "duration": 13,
    "start_time": "2025-01-14T18:23:19.985Z"
   },
   {
    "duration": 14,
    "start_time": "2025-01-14T18:24:24.142Z"
   },
   {
    "duration": 14,
    "start_time": "2025-01-14T18:26:14.946Z"
   },
   {
    "duration": 14,
    "start_time": "2025-01-14T18:26:42.410Z"
   },
   {
    "duration": 4664,
    "start_time": "2025-01-14T18:31:42.385Z"
   },
   {
    "duration": 1843,
    "start_time": "2025-01-14T18:31:47.051Z"
   },
   {
    "duration": 50,
    "start_time": "2025-01-14T18:31:48.895Z"
   },
   {
    "duration": 24,
    "start_time": "2025-01-14T18:31:48.947Z"
   },
   {
    "duration": 30,
    "start_time": "2025-01-14T18:31:48.973Z"
   },
   {
    "duration": 21,
    "start_time": "2025-01-14T18:31:49.004Z"
   },
   {
    "duration": 13,
    "start_time": "2025-01-14T18:31:49.026Z"
   },
   {
    "duration": 6,
    "start_time": "2025-01-14T18:31:49.040Z"
   },
   {
    "duration": 15,
    "start_time": "2025-01-14T18:31:49.048Z"
   },
   {
    "duration": 19,
    "start_time": "2025-01-14T18:31:49.066Z"
   },
   {
    "duration": 28,
    "start_time": "2025-01-14T19:46:17.821Z"
   },
   {
    "duration": 131,
    "start_time": "2025-01-14T19:46:35.324Z"
   },
   {
    "duration": 30,
    "start_time": "2025-01-14T19:46:49.452Z"
   },
   {
    "duration": 12,
    "start_time": "2025-01-14T19:48:03.584Z"
   },
   {
    "duration": 20,
    "start_time": "2025-01-14T19:48:34.040Z"
   },
   {
    "duration": 44,
    "start_time": "2025-01-15T08:43:11.502Z"
   },
   {
    "duration": 6586,
    "start_time": "2025-01-15T08:43:18.029Z"
   },
   {
    "duration": 1969,
    "start_time": "2025-01-15T08:43:24.618Z"
   },
   {
    "duration": 105,
    "start_time": "2025-01-15T08:43:26.588Z"
   },
   {
    "duration": 127,
    "start_time": "2025-01-15T08:43:26.695Z"
   },
   {
    "duration": 111,
    "start_time": "2025-01-15T08:43:26.824Z"
   },
   {
    "duration": 69,
    "start_time": "2025-01-15T08:43:26.936Z"
   },
   {
    "duration": 13,
    "start_time": "2025-01-15T08:43:27.006Z"
   },
   {
    "duration": 6,
    "start_time": "2025-01-15T08:43:27.026Z"
   },
   {
    "duration": 11,
    "start_time": "2025-01-15T08:43:27.033Z"
   },
   {
    "duration": 20,
    "start_time": "2025-01-15T08:43:27.047Z"
   },
   {
    "duration": 14,
    "start_time": "2025-01-15T08:43:27.068Z"
   },
   {
    "duration": 18,
    "start_time": "2025-01-15T08:45:26.090Z"
   },
   {
    "duration": 17,
    "start_time": "2025-01-15T08:45:29.102Z"
   },
   {
    "duration": 4603,
    "start_time": "2025-01-15T08:45:34.928Z"
   },
   {
    "duration": 1809,
    "start_time": "2025-01-15T08:45:39.533Z"
   },
   {
    "duration": 52,
    "start_time": "2025-01-15T08:45:41.343Z"
   },
   {
    "duration": 25,
    "start_time": "2025-01-15T08:45:41.397Z"
   },
   {
    "duration": 30,
    "start_time": "2025-01-15T08:45:41.424Z"
   },
   {
    "duration": 22,
    "start_time": "2025-01-15T08:45:41.456Z"
   },
   {
    "duration": 12,
    "start_time": "2025-01-15T08:45:41.480Z"
   },
   {
    "duration": 7,
    "start_time": "2025-01-15T08:45:41.493Z"
   },
   {
    "duration": 13,
    "start_time": "2025-01-15T08:45:41.502Z"
   },
   {
    "duration": 15,
    "start_time": "2025-01-15T08:45:41.517Z"
   },
   {
    "duration": 31,
    "start_time": "2025-01-15T08:45:41.534Z"
   },
   {
    "duration": 137,
    "start_time": "2025-01-15T08:48:27.544Z"
   },
   {
    "duration": 26,
    "start_time": "2025-01-15T08:59:27.467Z"
   },
   {
    "duration": 92,
    "start_time": "2025-01-15T09:00:11.299Z"
   },
   {
    "duration": 17,
    "start_time": "2025-01-15T09:00:38.231Z"
   },
   {
    "duration": 4,
    "start_time": "2025-01-15T09:01:02.887Z"
   },
   {
    "duration": 88,
    "start_time": "2025-01-15T09:02:19.611Z"
   },
   {
    "duration": 23,
    "start_time": "2025-01-15T09:03:03.768Z"
   },
   {
    "duration": 61,
    "start_time": "2025-01-15T09:03:13.622Z"
   },
   {
    "duration": 83,
    "start_time": "2025-01-15T09:07:14.127Z"
   },
   {
    "duration": 95,
    "start_time": "2025-01-15T09:07:36.231Z"
   },
   {
    "duration": 6,
    "start_time": "2025-01-15T09:07:59.378Z"
   },
   {
    "duration": 379,
    "start_time": "2025-01-15T09:08:49.520Z"
   },
   {
    "duration": 5,
    "start_time": "2025-01-15T09:08:53.209Z"
   },
   {
    "duration": 289,
    "start_time": "2025-01-15T09:12:15.269Z"
   },
   {
    "duration": 13,
    "start_time": "2025-01-15T09:35:33.072Z"
   },
   {
    "duration": 30,
    "start_time": "2025-01-15T09:35:47.515Z"
   },
   {
    "duration": 44,
    "start_time": "2025-01-15T09:35:57.052Z"
   },
   {
    "duration": 11,
    "start_time": "2025-01-15T09:36:43.524Z"
   },
   {
    "duration": 19,
    "start_time": "2025-01-15T09:36:51.553Z"
   },
   {
    "duration": 10,
    "start_time": "2025-01-15T09:37:53.929Z"
   },
   {
    "duration": 7,
    "start_time": "2025-01-15T09:38:05.562Z"
   },
   {
    "duration": 3,
    "start_time": "2025-01-15T09:39:37.648Z"
   },
   {
    "duration": 37,
    "start_time": "2025-01-15T09:39:41.772Z"
   },
   {
    "duration": 115,
    "start_time": "2025-01-15T09:41:43.031Z"
   },
   {
    "duration": 42,
    "start_time": "2025-01-15T09:41:55.860Z"
   },
   {
    "duration": 33,
    "start_time": "2025-01-15T09:42:14.596Z"
   },
   {
    "duration": 59,
    "start_time": "2025-01-15T09:43:48.721Z"
   },
   {
    "duration": 32,
    "start_time": "2025-01-15T09:43:57.413Z"
   },
   {
    "duration": 32,
    "start_time": "2025-01-15T09:44:05.472Z"
   },
   {
    "duration": 62,
    "start_time": "2025-01-15T09:44:55.232Z"
   },
   {
    "duration": 83,
    "start_time": "2025-01-15T09:46:06.928Z"
   },
   {
    "duration": 39,
    "start_time": "2025-01-15T09:47:40.408Z"
   },
   {
    "duration": 2907,
    "start_time": "2025-01-15T09:56:32.649Z"
   },
   {
    "duration": 2812,
    "start_time": "2025-01-15T09:56:48.563Z"
   },
   {
    "duration": 61,
    "start_time": "2025-01-15T09:58:26.687Z"
   },
   {
    "duration": 80,
    "start_time": "2025-01-15T09:58:37.819Z"
   },
   {
    "duration": 10,
    "start_time": "2025-01-15T10:03:45.126Z"
   },
   {
    "duration": 17,
    "start_time": "2025-01-15T10:03:55.914Z"
   },
   {
    "duration": 56,
    "start_time": "2025-01-15T16:11:43.099Z"
   },
   {
    "duration": 62,
    "start_time": "2025-01-15T16:12:22.070Z"
   },
   {
    "duration": 7,
    "start_time": "2025-01-15T16:12:48.454Z"
   },
   {
    "duration": 8262,
    "start_time": "2025-01-15T16:12:56.994Z"
   },
   {
    "duration": 2314,
    "start_time": "2025-01-15T16:13:05.259Z"
   },
   {
    "duration": 112,
    "start_time": "2025-01-15T16:13:07.575Z"
   },
   {
    "duration": 127,
    "start_time": "2025-01-15T16:13:07.689Z"
   },
   {
    "duration": 111,
    "start_time": "2025-01-15T16:13:07.818Z"
   },
   {
    "duration": 71,
    "start_time": "2025-01-15T16:13:07.934Z"
   },
   {
    "duration": 14,
    "start_time": "2025-01-15T16:13:08.007Z"
   },
   {
    "duration": 23,
    "start_time": "2025-01-15T16:13:08.023Z"
   },
   {
    "duration": 30,
    "start_time": "2025-01-15T16:13:08.048Z"
   },
   {
    "duration": 61,
    "start_time": "2025-01-15T16:13:08.081Z"
   },
   {
    "duration": 142,
    "start_time": "2025-01-15T16:13:08.143Z"
   },
   {
    "duration": 35,
    "start_time": "2025-01-15T16:13:08.286Z"
   },
   {
    "duration": 107,
    "start_time": "2025-01-15T16:13:08.329Z"
   },
   {
    "duration": 18,
    "start_time": "2025-01-15T16:13:08.438Z"
   },
   {
    "duration": 17,
    "start_time": "2025-01-15T16:13:08.457Z"
   },
   {
    "duration": 10,
    "start_time": "2025-01-15T16:16:58.118Z"
   },
   {
    "duration": 10,
    "start_time": "2025-01-15T16:17:59.050Z"
   },
   {
    "duration": 13,
    "start_time": "2025-01-15T16:20:12.921Z"
   },
   {
    "duration": 19,
    "start_time": "2025-01-15T16:20:27.598Z"
   },
   {
    "duration": 6,
    "start_time": "2025-01-15T16:29:27.756Z"
   },
   {
    "duration": 6,
    "start_time": "2025-01-15T16:29:47.092Z"
   },
   {
    "duration": 144,
    "start_time": "2025-01-15T16:31:41.453Z"
   },
   {
    "duration": 10,
    "start_time": "2025-01-15T16:31:52.252Z"
   },
   {
    "duration": 15,
    "start_time": "2025-01-15T16:32:53.872Z"
   },
   {
    "duration": 20,
    "start_time": "2025-01-15T16:34:01.720Z"
   },
   {
    "duration": 4,
    "start_time": "2025-01-15T16:35:44.104Z"
   },
   {
    "duration": 7,
    "start_time": "2025-01-15T16:39:03.060Z"
   },
   {
    "duration": 378,
    "start_time": "2025-01-15T16:52:25.455Z"
   },
   {
    "duration": 293,
    "start_time": "2025-01-15T16:52:40.095Z"
   },
   {
    "duration": 27,
    "start_time": "2025-01-15T17:01:13.514Z"
   },
   {
    "duration": 21,
    "start_time": "2025-01-15T17:02:57.497Z"
   },
   {
    "duration": 27,
    "start_time": "2025-01-15T17:16:57.027Z"
   },
   {
    "duration": 39,
    "start_time": "2025-01-15T17:17:18.467Z"
   },
   {
    "duration": 36,
    "start_time": "2025-01-15T17:17:28.748Z"
   },
   {
    "duration": 18,
    "start_time": "2025-01-15T17:18:26.603Z"
   },
   {
    "duration": 14,
    "start_time": "2025-01-15T17:18:46.954Z"
   },
   {
    "duration": 15,
    "start_time": "2025-01-15T17:18:54.235Z"
   },
   {
    "duration": 34,
    "start_time": "2025-01-15T17:19:55.043Z"
   },
   {
    "duration": 53,
    "start_time": "2025-01-15T17:20:08.107Z"
   },
   {
    "duration": 17,
    "start_time": "2025-01-15T17:39:43.834Z"
   },
   {
    "duration": 3,
    "start_time": "2025-01-15T17:39:50.374Z"
   },
   {
    "duration": 1411,
    "start_time": "2025-01-15T17:39:50.682Z"
   },
   {
    "duration": 140,
    "start_time": "2025-01-15T17:40:27.350Z"
   },
   {
    "duration": 1392,
    "start_time": "2025-01-15T17:41:06.970Z"
   },
   {
    "duration": 1238,
    "start_time": "2025-01-15T17:41:46.450Z"
   },
   {
    "duration": 1379,
    "start_time": "2025-01-15T17:42:00.866Z"
   },
   {
    "duration": 1832,
    "start_time": "2025-01-15T17:45:55.333Z"
   },
   {
    "duration": 1874,
    "start_time": "2025-01-15T17:46:27.573Z"
   },
   {
    "duration": 1810,
    "start_time": "2025-01-15T17:46:56.046Z"
   },
   {
    "duration": 1774,
    "start_time": "2025-01-15T17:47:13.377Z"
   },
   {
    "duration": 1854,
    "start_time": "2025-01-15T17:48:29.918Z"
   },
   {
    "duration": 1790,
    "start_time": "2025-01-15T17:49:01.388Z"
   },
   {
    "duration": 1813,
    "start_time": "2025-01-15T17:49:48.101Z"
   },
   {
    "duration": 1775,
    "start_time": "2025-01-15T17:50:12.069Z"
   },
   {
    "duration": 5129,
    "start_time": "2025-01-15T17:50:37.286Z"
   },
   {
    "duration": 1988,
    "start_time": "2025-01-15T17:50:42.417Z"
   },
   {
    "duration": 55,
    "start_time": "2025-01-15T17:50:44.406Z"
   },
   {
    "duration": 27,
    "start_time": "2025-01-15T17:50:44.463Z"
   },
   {
    "duration": 76,
    "start_time": "2025-01-15T17:50:44.492Z"
   },
   {
    "duration": 24,
    "start_time": "2025-01-15T17:50:44.570Z"
   },
   {
    "duration": 14,
    "start_time": "2025-01-15T17:50:44.596Z"
   },
   {
    "duration": 88,
    "start_time": "2025-01-15T17:50:44.611Z"
   },
   {
    "duration": 111,
    "start_time": "2025-01-15T17:50:44.701Z"
   },
   {
    "duration": 131,
    "start_time": "2025-01-15T17:50:44.815Z"
   },
   {
    "duration": 35,
    "start_time": "2025-01-15T17:50:44.947Z"
   },
   {
    "duration": 139,
    "start_time": "2025-01-15T17:50:44.984Z"
   },
   {
    "duration": 19,
    "start_time": "2025-01-15T17:50:45.124Z"
   },
   {
    "duration": 46,
    "start_time": "2025-01-15T17:50:45.145Z"
   },
   {
    "duration": 29,
    "start_time": "2025-01-15T17:50:45.193Z"
   },
   {
    "duration": 48,
    "start_time": "2025-01-15T17:50:45.224Z"
   },
   {
    "duration": 11,
    "start_time": "2025-01-15T17:50:45.274Z"
   },
   {
    "duration": 30,
    "start_time": "2025-01-15T17:50:45.287Z"
   },
   {
    "duration": 16,
    "start_time": "2025-01-15T17:50:45.319Z"
   },
   {
    "duration": 15,
    "start_time": "2025-01-15T17:50:45.337Z"
   },
   {
    "duration": 26,
    "start_time": "2025-01-15T17:50:45.354Z"
   },
   {
    "duration": 23,
    "start_time": "2025-01-15T17:50:45.382Z"
   },
   {
    "duration": 78,
    "start_time": "2025-01-15T17:50:45.407Z"
   },
   {
    "duration": 3,
    "start_time": "2025-01-15T17:50:45.487Z"
   },
   {
    "duration": 1904,
    "start_time": "2025-01-15T17:50:45.492Z"
   },
   {
    "duration": 1889,
    "start_time": "2025-01-15T18:27:45.713Z"
   },
   {
    "duration": 1851,
    "start_time": "2025-01-15T18:28:07.760Z"
   },
   {
    "duration": 3538,
    "start_time": "2025-01-15T18:30:43.157Z"
   },
   {
    "duration": 15,
    "start_time": "2025-01-15T20:01:28.398Z"
   },
   {
    "duration": 2,
    "start_time": "2025-01-15T20:02:11.498Z"
   },
   {
    "duration": 202,
    "start_time": "2025-01-15T20:02:11.929Z"
   },
   {
    "duration": 11,
    "start_time": "2025-01-15T20:02:18.213Z"
   },
   {
    "duration": 3,
    "start_time": "2025-01-15T20:09:28.581Z"
   },
   {
    "duration": 4,
    "start_time": "2025-01-15T20:10:35.048Z"
   },
   {
    "duration": 112,
    "start_time": "2025-01-15T20:13:06.355Z"
   },
   {
    "duration": 5,
    "start_time": "2025-01-15T20:13:14.590Z"
   },
   {
    "duration": 1559,
    "start_time": "2025-01-15T20:14:48.471Z"
   },
   {
    "duration": 4,
    "start_time": "2025-01-15T20:18:20.942Z"
   },
   {
    "duration": 281,
    "start_time": "2025-01-15T20:18:21.659Z"
   },
   {
    "duration": 83,
    "start_time": "2025-01-15T20:18:48.719Z"
   },
   {
    "duration": 4,
    "start_time": "2025-01-15T20:18:53.211Z"
   },
   {
    "duration": 3,
    "start_time": "2025-01-15T20:18:53.667Z"
   },
   {
    "duration": 10012,
    "start_time": "2025-01-15T20:18:55.367Z"
   },
   {
    "duration": 4,
    "start_time": "2025-01-15T20:20:02.991Z"
   },
   {
    "duration": 10018,
    "start_time": "2025-01-15T20:21:18.655Z"
   },
   {
    "duration": 4,
    "start_time": "2025-01-15T20:21:42.807Z"
   },
   {
    "duration": 3,
    "start_time": "2025-01-15T20:21:43.495Z"
   },
   {
    "duration": 1366,
    "start_time": "2025-01-15T20:21:44.183Z"
   },
   {
    "duration": 4,
    "start_time": "2025-01-15T20:22:19.994Z"
   },
   {
    "duration": 1371,
    "start_time": "2025-01-15T20:22:20.427Z"
   },
   {
    "duration": 3,
    "start_time": "2025-01-15T20:22:33.671Z"
   },
   {
    "duration": 1421,
    "start_time": "2025-01-15T20:22:34.083Z"
   },
   {
    "duration": 14,
    "start_time": "2025-01-15T20:23:14.311Z"
   },
   {
    "duration": 13,
    "start_time": "2025-01-15T20:23:42.599Z"
   },
   {
    "duration": 9748,
    "start_time": "2025-01-15T20:23:57.839Z"
   },
   {
    "duration": 12,
    "start_time": "2025-01-15T20:25:46.679Z"
   },
   {
    "duration": 14,
    "start_time": "2025-01-15T20:26:06.559Z"
   },
   {
    "duration": 4,
    "start_time": "2025-01-15T20:26:15.963Z"
   },
   {
    "duration": 3,
    "start_time": "2025-01-15T20:26:35.819Z"
   },
   {
    "duration": 9796,
    "start_time": "2025-01-15T20:26:41.274Z"
   },
   {
    "duration": 9343,
    "start_time": "2025-01-15T20:27:03.395Z"
   },
   {
    "duration": 9287,
    "start_time": "2025-01-15T20:27:34.543Z"
   },
   {
    "duration": 5,
    "start_time": "2025-01-15T20:29:22.831Z"
   },
   {
    "duration": 3,
    "start_time": "2025-01-15T20:29:32.147Z"
   },
   {
    "duration": 5191,
    "start_time": "2025-01-15T20:34:10.784Z"
   },
   {
    "duration": 1970,
    "start_time": "2025-01-15T20:34:15.977Z"
   },
   {
    "duration": 55,
    "start_time": "2025-01-15T20:34:17.949Z"
   },
   {
    "duration": 35,
    "start_time": "2025-01-15T20:34:18.006Z"
   },
   {
    "duration": 33,
    "start_time": "2025-01-15T20:34:18.043Z"
   },
   {
    "duration": 24,
    "start_time": "2025-01-15T20:34:18.078Z"
   },
   {
    "duration": 14,
    "start_time": "2025-01-15T20:34:18.104Z"
   },
   {
    "duration": 5,
    "start_time": "2025-01-15T20:34:18.120Z"
   },
   {
    "duration": 21,
    "start_time": "2025-01-15T20:34:18.132Z"
   },
   {
    "duration": 158,
    "start_time": "2025-01-15T20:34:18.155Z"
   },
   {
    "duration": 48,
    "start_time": "2025-01-15T20:34:18.314Z"
   },
   {
    "duration": 80,
    "start_time": "2025-01-15T20:34:18.363Z"
   },
   {
    "duration": 17,
    "start_time": "2025-01-15T20:34:18.444Z"
   },
   {
    "duration": 5,
    "start_time": "2025-01-15T20:34:18.462Z"
   },
   {
    "duration": 25,
    "start_time": "2025-01-15T20:34:18.469Z"
   },
   {
    "duration": 46,
    "start_time": "2025-01-15T20:34:18.495Z"
   },
   {
    "duration": 5,
    "start_time": "2025-01-15T20:34:18.544Z"
   },
   {
    "duration": 22,
    "start_time": "2025-01-15T20:34:18.550Z"
   },
   {
    "duration": 14,
    "start_time": "2025-01-15T20:34:18.574Z"
   },
   {
    "duration": 15,
    "start_time": "2025-01-15T20:34:18.590Z"
   },
   {
    "duration": 13,
    "start_time": "2025-01-15T20:34:18.606Z"
   },
   {
    "duration": 27,
    "start_time": "2025-01-15T20:34:18.632Z"
   },
   {
    "duration": 50,
    "start_time": "2025-01-15T20:34:18.661Z"
   },
   {
    "duration": 28,
    "start_time": "2025-01-15T20:34:18.713Z"
   },
   {
    "duration": 1893,
    "start_time": "2025-01-15T20:34:18.744Z"
   },
   {
    "duration": 3500,
    "start_time": "2025-01-15T20:34:20.644Z"
   },
   {
    "duration": 15,
    "start_time": "2025-01-15T20:34:24.146Z"
   },
   {
    "duration": 12,
    "start_time": "2025-01-15T20:34:24.165Z"
   },
   {
    "duration": 13,
    "start_time": "2025-01-15T20:34:24.179Z"
   },
   {
    "duration": 4,
    "start_time": "2025-01-15T20:34:24.194Z"
   },
   {
    "duration": 5,
    "start_time": "2025-01-15T20:34:24.200Z"
   },
   {
    "duration": 34,
    "start_time": "2025-01-15T20:34:24.207Z"
   },
   {
    "duration": 156,
    "start_time": "2025-01-15T20:34:24.243Z"
   },
   {
    "duration": 0,
    "start_time": "2025-01-15T20:34:24.400Z"
   },
   {
    "duration": 0,
    "start_time": "2025-01-15T20:34:24.402Z"
   },
   {
    "duration": 0,
    "start_time": "2025-01-15T20:34:24.403Z"
   },
   {
    "duration": 3,
    "start_time": "2025-01-15T20:36:49.568Z"
   },
   {
    "duration": 4,
    "start_time": "2025-01-15T20:36:50.242Z"
   },
   {
    "duration": 5659,
    "start_time": "2025-01-15T20:39:03.978Z"
   },
   {
    "duration": 2080,
    "start_time": "2025-01-15T20:39:09.642Z"
   },
   {
    "duration": 62,
    "start_time": "2025-01-15T20:39:11.724Z"
   },
   {
    "duration": 26,
    "start_time": "2025-01-15T20:39:11.788Z"
   },
   {
    "duration": 48,
    "start_time": "2025-01-15T20:39:11.816Z"
   },
   {
    "duration": 25,
    "start_time": "2025-01-15T20:39:11.865Z"
   },
   {
    "duration": 14,
    "start_time": "2025-01-15T20:39:11.892Z"
   },
   {
    "duration": 16,
    "start_time": "2025-01-15T20:39:11.907Z"
   },
   {
    "duration": 31,
    "start_time": "2025-01-15T20:39:11.924Z"
   },
   {
    "duration": 202,
    "start_time": "2025-01-15T20:39:11.958Z"
   },
   {
    "duration": 34,
    "start_time": "2025-01-15T20:39:12.162Z"
   },
   {
    "duration": 97,
    "start_time": "2025-01-15T20:39:12.197Z"
   },
   {
    "duration": 18,
    "start_time": "2025-01-15T20:39:12.296Z"
   },
   {
    "duration": 21,
    "start_time": "2025-01-15T20:39:12.316Z"
   },
   {
    "duration": 23,
    "start_time": "2025-01-15T20:39:12.339Z"
   },
   {
    "duration": 20,
    "start_time": "2025-01-15T20:39:12.363Z"
   },
   {
    "duration": 13,
    "start_time": "2025-01-15T20:39:12.385Z"
   },
   {
    "duration": 34,
    "start_time": "2025-01-15T20:39:12.399Z"
   },
   {
    "duration": 19,
    "start_time": "2025-01-15T20:39:12.439Z"
   },
   {
    "duration": 6,
    "start_time": "2025-01-15T20:39:12.459Z"
   },
   {
    "duration": 16,
    "start_time": "2025-01-15T20:39:12.467Z"
   },
   {
    "duration": 56,
    "start_time": "2025-01-15T20:39:12.485Z"
   },
   {
    "duration": 58,
    "start_time": "2025-01-15T20:39:12.544Z"
   },
   {
    "duration": 3,
    "start_time": "2025-01-15T20:39:12.604Z"
   },
   {
    "duration": 1956,
    "start_time": "2025-01-15T20:39:12.609Z"
   },
   {
    "duration": 3445,
    "start_time": "2025-01-15T20:39:14.567Z"
   },
   {
    "duration": 30,
    "start_time": "2025-01-15T20:39:18.013Z"
   },
   {
    "duration": 3,
    "start_time": "2025-01-15T20:39:18.047Z"
   },
   {
    "duration": 9,
    "start_time": "2025-01-15T20:39:18.052Z"
   },
   {
    "duration": 3,
    "start_time": "2025-01-15T20:39:18.063Z"
   },
   {
    "duration": 5,
    "start_time": "2025-01-15T20:39:18.067Z"
   },
   {
    "duration": 11,
    "start_time": "2025-01-15T20:39:18.073Z"
   },
   {
    "duration": 5323,
    "start_time": "2025-01-15T20:47:29.945Z"
   },
   {
    "duration": 1997,
    "start_time": "2025-01-15T20:47:35.270Z"
   },
   {
    "duration": 57,
    "start_time": "2025-01-15T20:47:37.269Z"
   },
   {
    "duration": 27,
    "start_time": "2025-01-15T20:47:37.328Z"
   },
   {
    "duration": 66,
    "start_time": "2025-01-15T20:47:37.356Z"
   },
   {
    "duration": 76,
    "start_time": "2025-01-15T20:47:37.424Z"
   },
   {
    "duration": 20,
    "start_time": "2025-01-15T20:47:37.502Z"
   },
   {
    "duration": 23,
    "start_time": "2025-01-15T20:47:37.524Z"
   },
   {
    "duration": 115,
    "start_time": "2025-01-15T20:47:37.548Z"
   },
   {
    "duration": 226,
    "start_time": "2025-01-15T20:47:37.666Z"
   },
   {
    "duration": 49,
    "start_time": "2025-01-15T20:47:37.894Z"
   },
   {
    "duration": 73,
    "start_time": "2025-01-15T20:47:37.944Z"
   },
   {
    "duration": 20,
    "start_time": "2025-01-15T20:47:38.030Z"
   },
   {
    "duration": 13,
    "start_time": "2025-01-15T20:47:38.052Z"
   },
   {
    "duration": 59,
    "start_time": "2025-01-15T20:47:38.066Z"
   },
   {
    "duration": 25,
    "start_time": "2025-01-15T20:47:38.127Z"
   },
   {
    "duration": 17,
    "start_time": "2025-01-15T20:47:38.154Z"
   },
   {
    "duration": 20,
    "start_time": "2025-01-15T20:47:38.173Z"
   },
   {
    "duration": 14,
    "start_time": "2025-01-15T20:47:38.194Z"
   },
   {
    "duration": 15,
    "start_time": "2025-01-15T20:47:38.209Z"
   },
   {
    "duration": 15,
    "start_time": "2025-01-15T20:47:38.233Z"
   },
   {
    "duration": 20,
    "start_time": "2025-01-15T20:47:38.250Z"
   },
   {
    "duration": 75,
    "start_time": "2025-01-15T20:47:38.272Z"
   },
   {
    "duration": 3,
    "start_time": "2025-01-15T20:47:38.350Z"
   },
   {
    "duration": 1892,
    "start_time": "2025-01-15T20:47:38.355Z"
   },
   {
    "duration": 3504,
    "start_time": "2025-01-15T20:47:40.249Z"
   },
   {
    "duration": 15,
    "start_time": "2025-01-15T20:47:43.754Z"
   },
   {
    "duration": 3,
    "start_time": "2025-01-15T20:47:43.771Z"
   },
   {
    "duration": 9,
    "start_time": "2025-01-15T20:47:43.776Z"
   },
   {
    "duration": 3,
    "start_time": "2025-01-15T20:47:43.786Z"
   },
   {
    "duration": 8,
    "start_time": "2025-01-15T20:47:43.791Z"
   },
   {
    "duration": 45,
    "start_time": "2025-01-15T20:47:43.800Z"
   },
   {
    "duration": 16,
    "start_time": "2025-01-15T20:47:43.846Z"
   },
   {
    "duration": 79,
    "start_time": "2025-01-15T20:47:43.864Z"
   },
   {
    "duration": 0,
    "start_time": "2025-01-15T20:47:43.945Z"
   },
   {
    "duration": 2618,
    "start_time": "2025-01-15T20:50:23.942Z"
   },
   {
    "duration": 37,
    "start_time": "2025-01-15T20:50:37.205Z"
   },
   {
    "duration": 4,
    "start_time": "2025-01-15T20:51:03.629Z"
   },
   {
    "duration": 51333,
    "start_time": "2025-01-15T20:51:04.473Z"
   },
   {
    "duration": 17565,
    "start_time": "2025-01-15T20:56:56.485Z"
   },
   {
    "duration": 10,
    "start_time": "2025-01-15T21:07:41.812Z"
   },
   {
    "duration": 3,
    "start_time": "2025-01-15T21:07:42.269Z"
   },
   {
    "duration": 4,
    "start_time": "2025-01-15T21:07:44.508Z"
   },
   {
    "duration": 4,
    "start_time": "2025-01-15T21:07:45.392Z"
   },
   {
    "duration": 5016,
    "start_time": "2025-01-15T21:18:22.711Z"
   },
   {
    "duration": 2448,
    "start_time": "2025-01-15T21:18:27.729Z"
   },
   {
    "duration": 1116,
    "start_time": "2025-01-15T21:18:30.179Z"
   },
   {
    "duration": 789,
    "start_time": "2025-01-15T21:18:31.297Z"
   },
   {
    "duration": 57,
    "start_time": "2025-01-15T21:18:32.088Z"
   },
   {
    "duration": 26,
    "start_time": "2025-01-15T21:18:32.147Z"
   },
   {
    "duration": 32,
    "start_time": "2025-01-15T21:18:32.175Z"
   },
   {
    "duration": 24,
    "start_time": "2025-01-15T21:18:32.209Z"
   },
   {
    "duration": 14,
    "start_time": "2025-01-15T21:18:32.234Z"
   },
   {
    "duration": 5,
    "start_time": "2025-01-15T21:18:32.251Z"
   },
   {
    "duration": 19,
    "start_time": "2025-01-15T21:18:32.257Z"
   },
   {
    "duration": 157,
    "start_time": "2025-01-15T21:18:32.278Z"
   },
   {
    "duration": 34,
    "start_time": "2025-01-15T21:18:32.437Z"
   },
   {
    "duration": 85,
    "start_time": "2025-01-15T21:18:32.473Z"
   },
   {
    "duration": 17,
    "start_time": "2025-01-15T21:18:32.560Z"
   },
   {
    "duration": 17,
    "start_time": "2025-01-15T21:18:32.579Z"
   },
   {
    "duration": 22,
    "start_time": "2025-01-15T21:18:32.597Z"
   },
   {
    "duration": 19,
    "start_time": "2025-01-15T21:18:32.629Z"
   },
   {
    "duration": 5,
    "start_time": "2025-01-15T21:18:32.650Z"
   },
   {
    "duration": 16,
    "start_time": "2025-01-15T21:18:32.656Z"
   },
   {
    "duration": 15,
    "start_time": "2025-01-15T21:18:32.673Z"
   },
   {
    "duration": 40,
    "start_time": "2025-01-15T21:18:32.690Z"
   },
   {
    "duration": 12,
    "start_time": "2025-01-15T21:18:32.732Z"
   },
   {
    "duration": 21,
    "start_time": "2025-01-15T21:18:32.746Z"
   },
   {
    "duration": 67,
    "start_time": "2025-01-15T21:18:32.769Z"
   },
   {
    "duration": 3,
    "start_time": "2025-01-15T21:18:32.838Z"
   },
   {
    "duration": 1832,
    "start_time": "2025-01-15T21:18:32.843Z"
   },
   {
    "duration": 3374,
    "start_time": "2025-01-15T21:18:34.679Z"
   },
   {
    "duration": 16,
    "start_time": "2025-01-15T21:18:38.055Z"
   },
   {
    "duration": 2,
    "start_time": "2025-01-15T21:18:38.073Z"
   },
   {
    "duration": 17,
    "start_time": "2025-01-15T21:18:38.077Z"
   },
   {
    "duration": 3,
    "start_time": "2025-01-15T21:18:38.095Z"
   },
   {
    "duration": 5,
    "start_time": "2025-01-15T21:18:38.099Z"
   },
   {
    "duration": 12,
    "start_time": "2025-01-15T21:18:38.130Z"
   },
   {
    "duration": 10187,
    "start_time": "2025-01-15T21:18:38.144Z"
   },
   {
    "duration": 95,
    "start_time": "2025-01-15T21:18:48.336Z"
   },
   {
    "duration": 9,
    "start_time": "2025-01-15T21:18:48.433Z"
   },
   {
    "duration": 15984,
    "start_time": "2025-01-15T21:18:48.451Z"
   },
   {
    "duration": 84283,
    "start_time": "2025-01-15T21:24:04.120Z"
   },
   {
    "duration": 4,
    "start_time": "2025-01-15T21:28:02.551Z"
   },
   {
    "duration": 1352,
    "start_time": "2025-01-15T21:28:03.222Z"
   },
   {
    "duration": 4,
    "start_time": "2025-01-15T21:28:27.682Z"
   },
   {
    "duration": 15674,
    "start_time": "2025-01-15T21:28:28.271Z"
   },
   {
    "duration": 7565,
    "start_time": "2025-01-16T16:08:29.124Z"
   },
   {
    "duration": 2297,
    "start_time": "2025-01-16T16:08:36.691Z"
   },
   {
    "duration": 1077,
    "start_time": "2025-01-16T16:08:38.991Z"
   },
   {
    "duration": 852,
    "start_time": "2025-01-16T16:08:40.070Z"
   },
   {
    "duration": 106,
    "start_time": "2025-01-16T16:08:40.924Z"
   },
   {
    "duration": 190,
    "start_time": "2025-01-16T16:08:41.031Z"
   },
   {
    "duration": 184,
    "start_time": "2025-01-16T16:08:41.223Z"
   },
   {
    "duration": 69,
    "start_time": "2025-01-16T16:08:41.409Z"
   },
   {
    "duration": 12,
    "start_time": "2025-01-16T16:08:41.480Z"
   },
   {
    "duration": 5,
    "start_time": "2025-01-16T16:08:41.495Z"
   },
   {
    "duration": 14,
    "start_time": "2025-01-16T16:08:41.501Z"
   },
   {
    "duration": 124,
    "start_time": "2025-01-16T16:08:41.516Z"
   },
   {
    "duration": 32,
    "start_time": "2025-01-16T16:08:41.641Z"
   },
   {
    "duration": 79,
    "start_time": "2025-01-16T16:08:41.675Z"
   },
   {
    "duration": 15,
    "start_time": "2025-01-16T16:08:41.756Z"
   },
   {
    "duration": 5,
    "start_time": "2025-01-16T16:08:41.772Z"
   },
   {
    "duration": 9,
    "start_time": "2025-01-16T16:08:41.779Z"
   },
   {
    "duration": 35,
    "start_time": "2025-01-16T16:08:41.789Z"
   },
   {
    "duration": 17,
    "start_time": "2025-01-16T16:08:41.826Z"
   },
   {
    "duration": 19,
    "start_time": "2025-01-16T16:08:41.844Z"
   },
   {
    "duration": 23,
    "start_time": "2025-01-16T16:08:41.865Z"
   },
   {
    "duration": 36,
    "start_time": "2025-01-16T16:08:41.889Z"
   },
   {
    "duration": 12,
    "start_time": "2025-01-16T16:08:41.926Z"
   },
   {
    "duration": 19,
    "start_time": "2025-01-16T16:08:41.939Z"
   },
   {
    "duration": 47,
    "start_time": "2025-01-16T16:08:41.960Z"
   },
   {
    "duration": 3,
    "start_time": "2025-01-16T16:08:42.009Z"
   },
   {
    "duration": 1633,
    "start_time": "2025-01-16T16:08:42.013Z"
   },
   {
    "duration": 3257,
    "start_time": "2025-01-16T16:08:43.653Z"
   },
   {
    "duration": 13,
    "start_time": "2025-01-16T16:08:46.912Z"
   },
   {
    "duration": 2,
    "start_time": "2025-01-16T16:08:46.927Z"
   },
   {
    "duration": 8,
    "start_time": "2025-01-16T16:08:46.930Z"
   },
   {
    "duration": 8,
    "start_time": "2025-01-16T16:08:46.940Z"
   },
   {
    "duration": 5,
    "start_time": "2025-01-16T16:08:46.949Z"
   },
   {
    "duration": 16,
    "start_time": "2025-01-16T16:08:46.956Z"
   },
   {
    "duration": 10023,
    "start_time": "2025-01-16T16:08:46.974Z"
   },
   {
    "duration": 57,
    "start_time": "2025-01-16T16:08:56.999Z"
   },
   {
    "duration": 99,
    "start_time": "2025-01-16T16:08:57.058Z"
   },
   {
    "duration": 20509,
    "start_time": "2025-01-16T16:08:57.158Z"
   },
   {
    "duration": 4,
    "start_time": "2025-01-16T16:41:48.239Z"
   },
   {
    "duration": 6,
    "start_time": "2025-01-16T16:53:11.210Z"
   },
   {
    "duration": 134,
    "start_time": "2025-01-16T16:55:18.682Z"
   },
   {
    "duration": 5,
    "start_time": "2025-01-16T16:56:22.190Z"
   },
   {
    "duration": 10,
    "start_time": "2025-01-16T16:56:29.992Z"
   },
   {
    "duration": 82,
    "start_time": "2025-01-16T16:58:05.482Z"
   },
   {
    "duration": 6605,
    "start_time": "2025-01-16T16:58:13.914Z"
   },
   {
    "duration": 18,
    "start_time": "2025-01-16T16:58:25.282Z"
   },
   {
    "duration": 2381,
    "start_time": "2025-01-16T16:59:46.257Z"
   },
   {
    "duration": 5908,
    "start_time": "2025-01-16T17:00:05.509Z"
   },
   {
    "duration": 5155,
    "start_time": "2025-01-16T17:00:39.453Z"
   },
   {
    "duration": 20,
    "start_time": "2025-01-16T17:00:50.974Z"
   },
   {
    "duration": 13,
    "start_time": "2025-01-16T17:02:29.721Z"
   },
   {
    "duration": 5,
    "start_time": "2025-01-16T17:02:54.793Z"
   },
   {
    "duration": 2,
    "start_time": "2025-01-16T17:07:23.677Z"
   },
   {
    "duration": 4,
    "start_time": "2025-01-16T17:07:33.061Z"
   },
   {
    "duration": 16091,
    "start_time": "2025-01-16T17:07:33.681Z"
   },
   {
    "duration": 15370,
    "start_time": "2025-01-16T17:09:46.112Z"
   },
   {
    "duration": 4,
    "start_time": "2025-01-16T17:12:07.160Z"
   },
   {
    "duration": 11,
    "start_time": "2025-01-16T17:12:23.452Z"
   },
   {
    "duration": 2281,
    "start_time": "2025-01-16T17:13:37.144Z"
   },
   {
    "duration": 19,
    "start_time": "2025-01-16T17:13:45.520Z"
   },
   {
    "duration": 198,
    "start_time": "2025-01-16T17:13:56.673Z"
   },
   {
    "duration": 16,
    "start_time": "2025-01-16T17:15:28.412Z"
   },
   {
    "duration": 16,
    "start_time": "2025-01-16T17:16:40.875Z"
   },
   {
    "duration": 15,
    "start_time": "2025-01-16T17:17:08.979Z"
   },
   {
    "duration": 175,
    "start_time": "2025-01-16T17:17:15.944Z"
   },
   {
    "duration": 183,
    "start_time": "2025-01-16T17:17:34.427Z"
   },
   {
    "duration": 179,
    "start_time": "2025-01-16T17:17:56.151Z"
   },
   {
    "duration": 182,
    "start_time": "2025-01-16T17:18:39.843Z"
   },
   {
    "duration": 346,
    "start_time": "2025-01-16T17:19:36.139Z"
   },
   {
    "duration": 194,
    "start_time": "2025-01-16T17:20:46.815Z"
   },
   {
    "duration": 12,
    "start_time": "2025-01-16T17:28:33.939Z"
   },
   {
    "duration": 4,
    "start_time": "2025-01-16T17:28:40.367Z"
   },
   {
    "duration": 16,
    "start_time": "2025-01-16T17:30:09.462Z"
   },
   {
    "duration": 4,
    "start_time": "2025-01-16T17:31:53.683Z"
   },
   {
    "duration": 4,
    "start_time": "2025-01-16T17:35:10.574Z"
   },
   {
    "duration": 399,
    "start_time": "2025-01-16T17:35:14.059Z"
   },
   {
    "duration": 11,
    "start_time": "2025-01-16T18:05:47.632Z"
   },
   {
    "duration": 15,
    "start_time": "2025-01-16T18:06:06.853Z"
   },
   {
    "duration": 4,
    "start_time": "2025-01-16T18:06:26.297Z"
   },
   {
    "duration": 12,
    "start_time": "2025-01-16T18:07:31.216Z"
   },
   {
    "duration": 11,
    "start_time": "2025-01-16T18:07:43.065Z"
   },
   {
    "duration": 11,
    "start_time": "2025-01-16T18:10:13.104Z"
   },
   {
    "duration": 10,
    "start_time": "2025-01-16T18:10:19.630Z"
   },
   {
    "duration": 10,
    "start_time": "2025-01-16T18:10:38.308Z"
   },
   {
    "duration": 10,
    "start_time": "2025-01-16T18:10:44.920Z"
   },
   {
    "duration": 24362,
    "start_time": "2025-01-16T18:11:23.788Z"
   },
   {
    "duration": 18,
    "start_time": "2025-01-16T18:11:55.168Z"
   },
   {
    "duration": 24,
    "start_time": "2025-01-16T18:14:27.187Z"
   },
   {
    "duration": 5,
    "start_time": "2025-01-16T18:15:21.923Z"
   },
   {
    "duration": 18,
    "start_time": "2025-01-16T18:15:24.883Z"
   },
   {
    "duration": 8545,
    "start_time": "2025-01-16T18:16:42.311Z"
   },
   {
    "duration": 2341,
    "start_time": "2025-01-16T18:16:50.858Z"
   },
   {
    "duration": 2319,
    "start_time": "2025-01-16T18:16:53.202Z"
   },
   {
    "duration": 15643,
    "start_time": "2025-01-16T18:16:55.524Z"
   },
   {
    "duration": 2986,
    "start_time": "2025-01-16T18:17:11.169Z"
   },
   {
    "duration": 1142,
    "start_time": "2025-01-16T18:17:14.157Z"
   },
   {
    "duration": 602,
    "start_time": "2025-01-16T18:17:15.301Z"
   },
   {
    "duration": 0,
    "start_time": "2025-01-16T18:17:15.906Z"
   },
   {
    "duration": 0,
    "start_time": "2025-01-16T18:17:15.907Z"
   },
   {
    "duration": 0,
    "start_time": "2025-01-16T18:17:15.908Z"
   },
   {
    "duration": 0,
    "start_time": "2025-01-16T18:17:15.909Z"
   },
   {
    "duration": 0,
    "start_time": "2025-01-16T18:17:15.910Z"
   },
   {
    "duration": 0,
    "start_time": "2025-01-16T18:17:15.911Z"
   },
   {
    "duration": 0,
    "start_time": "2025-01-16T18:17:15.912Z"
   },
   {
    "duration": 0,
    "start_time": "2025-01-16T18:17:15.913Z"
   },
   {
    "duration": 0,
    "start_time": "2025-01-16T18:17:15.914Z"
   },
   {
    "duration": 0,
    "start_time": "2025-01-16T18:17:15.915Z"
   },
   {
    "duration": 0,
    "start_time": "2025-01-16T18:17:15.916Z"
   },
   {
    "duration": 0,
    "start_time": "2025-01-16T18:17:15.917Z"
   },
   {
    "duration": 0,
    "start_time": "2025-01-16T18:17:15.918Z"
   },
   {
    "duration": 0,
    "start_time": "2025-01-16T18:17:15.919Z"
   },
   {
    "duration": 0,
    "start_time": "2025-01-16T18:17:15.920Z"
   },
   {
    "duration": 0,
    "start_time": "2025-01-16T18:17:15.921Z"
   },
   {
    "duration": 0,
    "start_time": "2025-01-16T18:17:15.954Z"
   },
   {
    "duration": 0,
    "start_time": "2025-01-16T18:17:15.955Z"
   },
   {
    "duration": 0,
    "start_time": "2025-01-16T18:17:15.956Z"
   },
   {
    "duration": 0,
    "start_time": "2025-01-16T18:17:15.957Z"
   },
   {
    "duration": 0,
    "start_time": "2025-01-16T18:17:15.958Z"
   },
   {
    "duration": 0,
    "start_time": "2025-01-16T18:17:15.959Z"
   },
   {
    "duration": 0,
    "start_time": "2025-01-16T18:17:15.960Z"
   },
   {
    "duration": 0,
    "start_time": "2025-01-16T18:17:15.960Z"
   },
   {
    "duration": 0,
    "start_time": "2025-01-16T18:17:15.961Z"
   },
   {
    "duration": 0,
    "start_time": "2025-01-16T18:17:15.963Z"
   },
   {
    "duration": 0,
    "start_time": "2025-01-16T18:17:15.963Z"
   },
   {
    "duration": 0,
    "start_time": "2025-01-16T18:17:15.964Z"
   },
   {
    "duration": 0,
    "start_time": "2025-01-16T18:17:15.965Z"
   },
   {
    "duration": 0,
    "start_time": "2025-01-16T18:17:15.967Z"
   },
   {
    "duration": 0,
    "start_time": "2025-01-16T18:17:15.968Z"
   },
   {
    "duration": 1,
    "start_time": "2025-01-16T18:17:15.968Z"
   },
   {
    "duration": 0,
    "start_time": "2025-01-16T18:17:15.970Z"
   },
   {
    "duration": 0,
    "start_time": "2025-01-16T18:17:15.971Z"
   },
   {
    "duration": 0,
    "start_time": "2025-01-16T18:17:15.971Z"
   },
   {
    "duration": 0,
    "start_time": "2025-01-16T18:17:15.973Z"
   },
   {
    "duration": 0,
    "start_time": "2025-01-16T18:17:15.974Z"
   },
   {
    "duration": 0,
    "start_time": "2025-01-16T18:17:15.975Z"
   },
   {
    "duration": 0,
    "start_time": "2025-01-16T18:17:15.975Z"
   },
   {
    "duration": 40,
    "start_time": "2025-01-16T18:17:58.115Z"
   },
   {
    "duration": 65,
    "start_time": "2025-01-16T18:18:06.423Z"
   },
   {
    "duration": 8007,
    "start_time": "2025-01-16T18:18:11.078Z"
   },
   {
    "duration": 2356,
    "start_time": "2025-01-16T18:18:19.087Z"
   },
   {
    "duration": 2323,
    "start_time": "2025-01-16T18:18:21.445Z"
   },
   {
    "duration": 15061,
    "start_time": "2025-01-16T18:18:23.771Z"
   },
   {
    "duration": 2967,
    "start_time": "2025-01-16T18:18:38.834Z"
   },
   {
    "duration": 1074,
    "start_time": "2025-01-16T18:18:41.803Z"
   },
   {
    "duration": 304,
    "start_time": "2025-01-16T18:18:42.879Z"
   },
   {
    "duration": 50,
    "start_time": "2025-01-16T18:18:43.185Z"
   },
   {
    "duration": 25,
    "start_time": "2025-01-16T18:18:43.237Z"
   },
   {
    "duration": 27,
    "start_time": "2025-01-16T18:18:43.266Z"
   },
   {
    "duration": 21,
    "start_time": "2025-01-16T18:18:43.294Z"
   },
   {
    "duration": 10,
    "start_time": "2025-01-16T18:18:43.317Z"
   },
   {
    "duration": 6,
    "start_time": "2025-01-16T18:18:43.328Z"
   },
   {
    "duration": 20,
    "start_time": "2025-01-16T18:18:43.335Z"
   },
   {
    "duration": 183,
    "start_time": "2025-01-16T18:18:43.356Z"
   },
   {
    "duration": 39,
    "start_time": "2025-01-16T18:18:43.541Z"
   },
   {
    "duration": 73,
    "start_time": "2025-01-16T18:18:43.581Z"
   },
   {
    "duration": 11,
    "start_time": "2025-01-16T18:18:43.656Z"
   },
   {
    "duration": 3,
    "start_time": "2025-01-16T18:18:43.669Z"
   },
   {
    "duration": 12,
    "start_time": "2025-01-16T18:18:43.674Z"
   },
   {
    "duration": 14,
    "start_time": "2025-01-16T18:18:43.687Z"
   },
   {
    "duration": 4,
    "start_time": "2025-01-16T18:18:43.703Z"
   },
   {
    "duration": 53,
    "start_time": "2025-01-16T18:18:43.708Z"
   },
   {
    "duration": 10,
    "start_time": "2025-01-16T18:18:43.763Z"
   },
   {
    "duration": 3,
    "start_time": "2025-01-16T18:18:43.775Z"
   },
   {
    "duration": 15,
    "start_time": "2025-01-16T18:18:43.780Z"
   },
   {
    "duration": 16,
    "start_time": "2025-01-16T18:18:43.797Z"
   },
   {
    "duration": 74,
    "start_time": "2025-01-16T18:18:43.816Z"
   },
   {
    "duration": 3,
    "start_time": "2025-01-16T18:18:43.891Z"
   },
   {
    "duration": 1680,
    "start_time": "2025-01-16T18:18:43.895Z"
   },
   {
    "duration": 2812,
    "start_time": "2025-01-16T18:18:45.577Z"
   },
   {
    "duration": 12,
    "start_time": "2025-01-16T18:18:48.391Z"
   },
   {
    "duration": 11,
    "start_time": "2025-01-16T18:18:48.404Z"
   },
   {
    "duration": 12,
    "start_time": "2025-01-16T18:18:48.416Z"
   },
   {
    "duration": 3,
    "start_time": "2025-01-16T18:18:48.430Z"
   },
   {
    "duration": 116,
    "start_time": "2025-01-16T18:18:48.454Z"
   },
   {
    "duration": 0,
    "start_time": "2025-01-16T18:18:48.571Z"
   },
   {
    "duration": 0,
    "start_time": "2025-01-16T18:18:48.572Z"
   },
   {
    "duration": 0,
    "start_time": "2025-01-16T18:18:48.573Z"
   },
   {
    "duration": 1,
    "start_time": "2025-01-16T18:18:48.574Z"
   },
   {
    "duration": 0,
    "start_time": "2025-01-16T18:18:48.575Z"
   },
   {
    "duration": 0,
    "start_time": "2025-01-16T18:18:48.576Z"
   },
   {
    "duration": 0,
    "start_time": "2025-01-16T18:18:48.577Z"
   },
   {
    "duration": 0,
    "start_time": "2025-01-16T18:18:48.578Z"
   },
   {
    "duration": 0,
    "start_time": "2025-01-16T18:18:48.579Z"
   },
   {
    "duration": 0,
    "start_time": "2025-01-16T18:18:48.580Z"
   },
   {
    "duration": 10,
    "start_time": "2025-01-16T18:19:08.414Z"
   },
   {
    "duration": 9,
    "start_time": "2025-01-16T18:20:27.391Z"
   },
   {
    "duration": 4,
    "start_time": "2025-01-16T18:20:48.288Z"
   },
   {
    "duration": 3,
    "start_time": "2025-01-16T18:20:49.099Z"
   },
   {
    "duration": 10076,
    "start_time": "2025-01-16T18:20:49.778Z"
   },
   {
    "duration": 95,
    "start_time": "2025-01-16T18:20:59.860Z"
   },
   {
    "duration": 4,
    "start_time": "2025-01-16T18:21:07.459Z"
   },
   {
    "duration": 16479,
    "start_time": "2025-01-16T18:21:08.178Z"
   },
   {
    "duration": 11,
    "start_time": "2025-01-16T18:21:31.494Z"
   },
   {
    "duration": 5,
    "start_time": "2025-01-16T18:21:55.407Z"
   },
   {
    "duration": 187,
    "start_time": "2025-01-16T18:21:59.926Z"
   },
   {
    "duration": 18,
    "start_time": "2025-01-16T18:22:07.306Z"
   },
   {
    "duration": 308,
    "start_time": "2025-01-16T18:22:12.661Z"
   },
   {
    "duration": 18,
    "start_time": "2025-01-16T18:22:16.438Z"
   },
   {
    "duration": 287,
    "start_time": "2025-01-16T18:22:36.511Z"
   },
   {
    "duration": 4,
    "start_time": "2025-01-16T18:23:06.266Z"
   },
   {
    "duration": 2430,
    "start_time": "2025-01-16T18:23:16.543Z"
   },
   {
    "duration": 5622,
    "start_time": "2025-01-16T18:23:23.318Z"
   },
   {
    "duration": 25,
    "start_time": "2025-01-16T18:23:37.002Z"
   },
   {
    "duration": 2357,
    "start_time": "2025-01-16T18:25:32.606Z"
   },
   {
    "duration": 2948,
    "start_time": "2025-01-16T18:25:34.965Z"
   },
   {
    "duration": 2408,
    "start_time": "2025-01-16T18:25:37.915Z"
   },
   {
    "duration": 1133,
    "start_time": "2025-01-16T18:25:40.326Z"
   },
   {
    "duration": 2356,
    "start_time": "2025-01-16T18:25:41.461Z"
   },
   {
    "duration": 2438,
    "start_time": "2025-01-16T18:25:43.819Z"
   },
   {
    "duration": 751,
    "start_time": "2025-01-16T18:25:46.259Z"
   },
   {
    "duration": 51,
    "start_time": "2025-01-16T18:25:47.011Z"
   },
   {
    "duration": 25,
    "start_time": "2025-01-16T18:25:47.063Z"
   },
   {
    "duration": 30,
    "start_time": "2025-01-16T18:25:47.091Z"
   },
   {
    "duration": 22,
    "start_time": "2025-01-16T18:25:47.123Z"
   },
   {
    "duration": 11,
    "start_time": "2025-01-16T18:25:47.147Z"
   },
   {
    "duration": 7,
    "start_time": "2025-01-16T18:25:47.160Z"
   },
   {
    "duration": 15,
    "start_time": "2025-01-16T18:25:47.169Z"
   },
   {
    "duration": 123,
    "start_time": "2025-01-16T18:25:47.186Z"
   },
   {
    "duration": 44,
    "start_time": "2025-01-16T18:25:47.311Z"
   },
   {
    "duration": 73,
    "start_time": "2025-01-16T18:25:47.357Z"
   },
   {
    "duration": 34,
    "start_time": "2025-01-16T18:25:47.432Z"
   },
   {
    "duration": 10,
    "start_time": "2025-01-16T18:25:47.468Z"
   },
   {
    "duration": 10,
    "start_time": "2025-01-16T18:25:47.479Z"
   },
   {
    "duration": 14,
    "start_time": "2025-01-16T18:25:47.490Z"
   },
   {
    "duration": 8,
    "start_time": "2025-01-16T18:25:47.505Z"
   },
   {
    "duration": 40,
    "start_time": "2025-01-16T18:25:47.514Z"
   },
   {
    "duration": 11,
    "start_time": "2025-01-16T18:25:47.555Z"
   },
   {
    "duration": 11,
    "start_time": "2025-01-16T18:25:47.568Z"
   },
   {
    "duration": 15,
    "start_time": "2025-01-16T18:25:47.581Z"
   },
   {
    "duration": 15,
    "start_time": "2025-01-16T18:25:47.597Z"
   },
   {
    "duration": 54,
    "start_time": "2025-01-16T18:25:47.616Z"
   },
   {
    "duration": 3,
    "start_time": "2025-01-16T18:25:47.672Z"
   },
   {
    "duration": 1635,
    "start_time": "2025-01-16T18:25:47.676Z"
   },
   {
    "duration": 2870,
    "start_time": "2025-01-16T18:25:49.313Z"
   },
   {
    "duration": 11,
    "start_time": "2025-01-16T18:25:52.184Z"
   },
   {
    "duration": 14,
    "start_time": "2025-01-16T18:25:52.197Z"
   },
   {
    "duration": 11,
    "start_time": "2025-01-16T18:25:52.213Z"
   },
   {
    "duration": 6,
    "start_time": "2025-01-16T18:25:52.225Z"
   },
   {
    "duration": 12,
    "start_time": "2025-01-16T18:25:52.232Z"
   },
   {
    "duration": 9,
    "start_time": "2025-01-16T18:25:52.245Z"
   },
   {
    "duration": 10050,
    "start_time": "2025-01-16T18:25:52.256Z"
   },
   {
    "duration": 4,
    "start_time": "2025-01-16T18:26:02.355Z"
   },
   {
    "duration": 95,
    "start_time": "2025-01-16T18:26:02.361Z"
   },
   {
    "duration": 28000,
    "start_time": "2025-01-16T18:26:02.457Z"
   },
   {
    "duration": 209,
    "start_time": "2025-01-16T18:26:30.459Z"
   },
   {
    "duration": 18,
    "start_time": "2025-01-16T18:26:30.669Z"
   },
   {
    "duration": 380,
    "start_time": "2025-01-16T18:26:30.689Z"
   },
   {
    "duration": 156,
    "start_time": "2025-01-16T18:26:31.070Z"
   },
   {
    "duration": 0,
    "start_time": "2025-01-16T18:26:31.228Z"
   },
   {
    "duration": 4,
    "start_time": "2025-01-16T18:28:41.665Z"
   },
   {
    "duration": 2,
    "start_time": "2025-01-16T18:28:45.922Z"
   },
   {
    "duration": 10,
    "start_time": "2025-01-16T18:28:52.266Z"
   },
   {
    "duration": 11,
    "start_time": "2025-01-16T18:28:59.413Z"
   },
   {
    "duration": 13,
    "start_time": "2025-01-16T18:29:27.794Z"
   },
   {
    "duration": 4,
    "start_time": "2025-01-16T18:29:36.306Z"
   },
   {
    "duration": 5,
    "start_time": "2025-01-16T18:30:47.545Z"
   },
   {
    "duration": 9,
    "start_time": "2025-01-16T18:31:39.010Z"
   },
   {
    "duration": 8,
    "start_time": "2025-01-16T18:32:05.786Z"
   },
   {
    "duration": 8,
    "start_time": "2025-01-16T18:32:21.602Z"
   },
   {
    "duration": 9,
    "start_time": "2025-01-16T18:32:36.141Z"
   },
   {
    "duration": 12,
    "start_time": "2025-01-16T18:39:45.220Z"
   },
   {
    "duration": 8,
    "start_time": "2025-01-16T18:40:02.872Z"
   },
   {
    "duration": 7,
    "start_time": "2025-01-16T18:42:49.220Z"
   },
   {
    "duration": 2369,
    "start_time": "2025-01-16T20:04:55.915Z"
   },
   {
    "duration": 2963,
    "start_time": "2025-01-16T20:04:58.287Z"
   },
   {
    "duration": 2361,
    "start_time": "2025-01-16T20:05:01.252Z"
   },
   {
    "duration": 1048,
    "start_time": "2025-01-16T20:05:03.615Z"
   },
   {
    "duration": 2416,
    "start_time": "2025-01-16T20:05:04.665Z"
   },
   {
    "duration": 2387,
    "start_time": "2025-01-16T20:05:07.083Z"
   },
   {
    "duration": 1007,
    "start_time": "2025-01-16T20:05:09.472Z"
   },
   {
    "duration": 92,
    "start_time": "2025-01-16T20:05:10.481Z"
   },
   {
    "duration": 25,
    "start_time": "2025-01-16T20:05:10.574Z"
   },
   {
    "duration": 69,
    "start_time": "2025-01-16T20:05:10.602Z"
   },
   {
    "duration": 22,
    "start_time": "2025-01-16T20:05:10.672Z"
   },
   {
    "duration": 10,
    "start_time": "2025-01-16T20:05:10.695Z"
   },
   {
    "duration": 5,
    "start_time": "2025-01-16T20:05:10.754Z"
   },
   {
    "duration": 15,
    "start_time": "2025-01-16T20:05:10.760Z"
   },
   {
    "duration": 210,
    "start_time": "2025-01-16T20:05:10.777Z"
   },
   {
    "duration": 84,
    "start_time": "2025-01-16T20:05:10.989Z"
   },
   {
    "duration": 119,
    "start_time": "2025-01-16T20:05:11.075Z"
   },
   {
    "duration": 61,
    "start_time": "2025-01-16T20:05:11.195Z"
   },
   {
    "duration": 4,
    "start_time": "2025-01-16T20:05:11.257Z"
   },
   {
    "duration": 8,
    "start_time": "2025-01-16T20:05:11.263Z"
   },
   {
    "duration": 15,
    "start_time": "2025-01-16T20:05:11.272Z"
   },
   {
    "duration": 6,
    "start_time": "2025-01-16T20:05:11.288Z"
   },
   {
    "duration": 67,
    "start_time": "2025-01-16T20:05:11.295Z"
   },
   {
    "duration": 11,
    "start_time": "2025-01-16T20:05:11.363Z"
   },
   {
    "duration": 16,
    "start_time": "2025-01-16T20:05:11.375Z"
   },
   {
    "duration": 60,
    "start_time": "2025-01-16T20:05:11.394Z"
   },
   {
    "duration": 17,
    "start_time": "2025-01-16T20:05:11.456Z"
   },
   {
    "duration": 40,
    "start_time": "2025-01-16T20:05:11.476Z"
   },
   {
    "duration": 3,
    "start_time": "2025-01-16T20:05:11.554Z"
   },
   {
    "duration": 1614,
    "start_time": "2025-01-16T20:05:11.559Z"
   },
   {
    "duration": 2926,
    "start_time": "2025-01-16T20:05:13.175Z"
   },
   {
    "duration": 10,
    "start_time": "2025-01-16T20:05:16.103Z"
   },
   {
    "duration": 2,
    "start_time": "2025-01-16T20:05:16.115Z"
   },
   {
    "duration": 12,
    "start_time": "2025-01-16T20:05:16.118Z"
   },
   {
    "duration": 3,
    "start_time": "2025-01-16T20:05:16.131Z"
   },
   {
    "duration": 3,
    "start_time": "2025-01-16T20:05:16.154Z"
   },
   {
    "duration": 6,
    "start_time": "2025-01-16T20:05:16.158Z"
   },
   {
    "duration": 10041,
    "start_time": "2025-01-16T20:05:16.165Z"
   },
   {
    "duration": 7,
    "start_time": "2025-01-16T20:05:26.255Z"
   },
   {
    "duration": 93,
    "start_time": "2025-01-16T20:05:26.263Z"
   },
   {
    "duration": 15997,
    "start_time": "2025-01-16T20:05:26.358Z"
   },
   {
    "duration": 189,
    "start_time": "2025-01-16T20:05:42.357Z"
   },
   {
    "duration": 21,
    "start_time": "2025-01-16T20:05:42.548Z"
   },
   {
    "duration": 383,
    "start_time": "2025-01-16T20:05:42.571Z"
   },
   {
    "duration": 8,
    "start_time": "2025-01-16T20:05:42.955Z"
   },
   {
    "duration": 8,
    "start_time": "2025-01-16T20:05:42.965Z"
   },
   {
    "duration": 2363,
    "start_time": "2025-01-16T20:12:09.399Z"
   },
   {
    "duration": 2999,
    "start_time": "2025-01-16T20:12:11.764Z"
   },
   {
    "duration": 2412,
    "start_time": "2025-01-16T20:12:14.765Z"
   },
   {
    "duration": 1097,
    "start_time": "2025-01-16T20:12:17.180Z"
   },
   {
    "duration": 2407,
    "start_time": "2025-01-16T20:12:18.278Z"
   },
   {
    "duration": 2383,
    "start_time": "2025-01-16T20:12:20.687Z"
   },
   {
    "duration": 744,
    "start_time": "2025-01-16T20:12:23.072Z"
   },
   {
    "duration": 52,
    "start_time": "2025-01-16T20:12:23.817Z"
   },
   {
    "duration": 24,
    "start_time": "2025-01-16T20:12:23.871Z"
   },
   {
    "duration": 29,
    "start_time": "2025-01-16T20:12:23.897Z"
   },
   {
    "duration": 45,
    "start_time": "2025-01-16T20:12:23.927Z"
   },
   {
    "duration": 10,
    "start_time": "2025-01-16T20:12:23.974Z"
   },
   {
    "duration": 16,
    "start_time": "2025-01-16T20:12:23.985Z"
   },
   {
    "duration": 13,
    "start_time": "2025-01-16T20:12:24.003Z"
   },
   {
    "duration": 114,
    "start_time": "2025-01-16T20:12:24.018Z"
   },
   {
    "duration": 40,
    "start_time": "2025-01-16T20:12:24.134Z"
   },
   {
    "duration": 81,
    "start_time": "2025-01-16T20:12:24.176Z"
   },
   {
    "duration": 13,
    "start_time": "2025-01-16T20:12:24.259Z"
   },
   {
    "duration": 4,
    "start_time": "2025-01-16T20:12:24.274Z"
   },
   {
    "duration": 8,
    "start_time": "2025-01-16T20:12:24.280Z"
   },
   {
    "duration": 13,
    "start_time": "2025-01-16T20:12:24.290Z"
   },
   {
    "duration": 4,
    "start_time": "2025-01-16T20:12:24.304Z"
   },
   {
    "duration": 51,
    "start_time": "2025-01-16T20:12:24.310Z"
   },
   {
    "duration": 10,
    "start_time": "2025-01-16T20:12:24.363Z"
   },
   {
    "duration": 4,
    "start_time": "2025-01-16T20:12:24.374Z"
   },
   {
    "duration": 8,
    "start_time": "2025-01-16T20:12:24.380Z"
   },
   {
    "duration": 110,
    "start_time": "2025-01-16T20:12:24.391Z"
   },
   {
    "duration": 40,
    "start_time": "2025-01-16T20:12:24.504Z"
   },
   {
    "duration": 3,
    "start_time": "2025-01-16T20:12:24.546Z"
   },
   {
    "duration": 1723,
    "start_time": "2025-01-16T20:12:24.550Z"
   },
   {
    "duration": 3084,
    "start_time": "2025-01-16T20:12:26.275Z"
   },
   {
    "duration": 11,
    "start_time": "2025-01-16T20:12:29.361Z"
   },
   {
    "duration": 2,
    "start_time": "2025-01-16T20:12:29.374Z"
   },
   {
    "duration": 15,
    "start_time": "2025-01-16T20:12:29.377Z"
   },
   {
    "duration": 3,
    "start_time": "2025-01-16T20:12:29.394Z"
   },
   {
    "duration": 3,
    "start_time": "2025-01-16T20:12:29.398Z"
   },
   {
    "duration": 4,
    "start_time": "2025-01-16T20:12:29.402Z"
   },
   {
    "duration": 10101,
    "start_time": "2025-01-16T20:12:29.407Z"
   },
   {
    "duration": 4,
    "start_time": "2025-01-16T20:12:39.556Z"
   },
   {
    "duration": 92,
    "start_time": "2025-01-16T20:12:39.562Z"
   },
   {
    "duration": 81510,
    "start_time": "2025-01-16T20:12:39.656Z"
   },
   {
    "duration": 227,
    "start_time": "2025-01-16T20:14:01.168Z"
   },
   {
    "duration": 59,
    "start_time": "2025-01-16T20:14:01.396Z"
   },
   {
    "duration": 310,
    "start_time": "2025-01-16T20:14:01.456Z"
   },
   {
    "duration": 8,
    "start_time": "2025-01-16T20:14:01.768Z"
   },
   {
    "duration": 12,
    "start_time": "2025-01-16T20:14:01.778Z"
   },
   {
    "duration": 8372,
    "start_time": "2025-01-17T19:39:55.847Z"
   },
   {
    "duration": 3841,
    "start_time": "2025-01-17T19:40:04.221Z"
   },
   {
    "duration": 2628,
    "start_time": "2025-01-17T19:40:08.064Z"
   },
   {
    "duration": 1077,
    "start_time": "2025-01-17T19:40:10.694Z"
   },
   {
    "duration": 5498,
    "start_time": "2025-01-17T19:40:11.772Z"
   },
   {
    "duration": 6098,
    "start_time": "2025-01-17T19:40:17.272Z"
   },
   {
    "duration": 1866,
    "start_time": "2025-01-17T19:40:23.372Z"
   },
   {
    "duration": 132,
    "start_time": "2025-01-17T19:40:25.240Z"
   },
   {
    "duration": 120,
    "start_time": "2025-01-17T19:40:25.373Z"
   },
   {
    "duration": 136,
    "start_time": "2025-01-17T19:40:25.497Z"
   },
   {
    "duration": 98,
    "start_time": "2025-01-17T19:40:25.634Z"
   },
   {
    "duration": 16,
    "start_time": "2025-01-17T19:40:25.734Z"
   },
   {
    "duration": 9,
    "start_time": "2025-01-17T19:40:25.752Z"
   },
   {
    "duration": 77,
    "start_time": "2025-01-17T19:40:25.762Z"
   },
   {
    "duration": 305,
    "start_time": "2025-01-17T19:40:25.841Z"
   },
   {
    "duration": 90,
    "start_time": "2025-01-17T19:40:26.148Z"
   },
   {
    "duration": 206,
    "start_time": "2025-01-17T19:40:26.240Z"
   },
   {
    "duration": 18,
    "start_time": "2025-01-17T19:40:26.447Z"
   },
   {
    "duration": 4,
    "start_time": "2025-01-17T19:40:26.467Z"
   },
   {
    "duration": 11,
    "start_time": "2025-01-17T19:40:26.531Z"
   },
   {
    "duration": 21,
    "start_time": "2025-01-17T19:40:26.544Z"
   },
   {
    "duration": 6,
    "start_time": "2025-01-17T19:40:26.630Z"
   },
   {
    "duration": 15,
    "start_time": "2025-01-17T19:40:26.638Z"
   },
   {
    "duration": 79,
    "start_time": "2025-01-17T19:40:26.655Z"
   },
   {
    "duration": 6,
    "start_time": "2025-01-17T19:40:26.736Z"
   },
   {
    "duration": 22,
    "start_time": "2025-01-17T19:40:26.744Z"
   },
   {
    "duration": 100,
    "start_time": "2025-01-17T19:40:26.768Z"
   },
   {
    "duration": 161,
    "start_time": "2025-01-17T19:40:26.872Z"
   },
   {
    "duration": 3,
    "start_time": "2025-01-17T19:40:27.035Z"
   },
   {
    "duration": 4290,
    "start_time": "2025-01-17T19:40:27.040Z"
   },
   {
    "duration": 4930,
    "start_time": "2025-01-17T19:40:31.332Z"
   },
   {
    "duration": 18,
    "start_time": "2025-01-17T19:40:36.264Z"
   },
   {
    "duration": 19,
    "start_time": "2025-01-17T19:40:36.283Z"
   },
   {
    "duration": 26,
    "start_time": "2025-01-17T19:40:36.304Z"
   },
   {
    "duration": 51,
    "start_time": "2025-01-17T19:40:36.332Z"
   },
   {
    "duration": 19,
    "start_time": "2025-01-17T19:40:36.385Z"
   },
   {
    "duration": 23,
    "start_time": "2025-01-17T19:40:36.405Z"
   },
   {
    "duration": 10202,
    "start_time": "2025-01-17T19:40:36.430Z"
   },
   {
    "duration": 95,
    "start_time": "2025-01-17T19:40:46.635Z"
   },
   {
    "duration": 4,
    "start_time": "2025-01-17T19:40:46.732Z"
   },
   {
    "duration": 18502,
    "start_time": "2025-01-17T19:40:46.738Z"
   },
   {
    "duration": 272,
    "start_time": "2025-01-17T19:41:05.242Z"
   },
   {
    "duration": 26,
    "start_time": "2025-01-17T19:41:05.516Z"
   },
   {
    "duration": 411,
    "start_time": "2025-01-17T19:41:05.543Z"
   },
   {
    "duration": 9,
    "start_time": "2025-01-17T19:41:05.956Z"
   },
   {
    "duration": 67,
    "start_time": "2025-01-17T19:41:05.967Z"
   },
   {
    "duration": 8387,
    "start_time": "2025-01-17T19:59:51.382Z"
   },
   {
    "duration": 3567,
    "start_time": "2025-01-17T19:59:59.772Z"
   },
   {
    "duration": 1077,
    "start_time": "2025-01-17T20:01:16.402Z"
   },
   {
    "duration": 4337,
    "start_time": "2025-01-17T20:01:17.481Z"
   },
   {
    "duration": 2932,
    "start_time": "2025-01-17T20:01:24.855Z"
   },
   {
    "duration": 3737,
    "start_time": "2025-01-17T20:01:30.534Z"
   },
   {
    "duration": 1071,
    "start_time": "2025-01-17T20:01:34.273Z"
   },
   {
    "duration": 181,
    "start_time": "2025-01-17T20:01:37.246Z"
   },
   {
    "duration": 83,
    "start_time": "2025-01-17T20:01:41.870Z"
   },
   {
    "duration": 94,
    "start_time": "2025-01-17T20:01:42.915Z"
   },
   {
    "duration": 98,
    "start_time": "2025-01-17T20:01:43.650Z"
   },
   {
    "duration": 15,
    "start_time": "2025-01-17T20:01:47.617Z"
   },
   {
    "duration": 5,
    "start_time": "2025-01-17T20:01:50.827Z"
   },
   {
    "duration": 18,
    "start_time": "2025-01-17T20:01:52.307Z"
   },
   {
    "duration": 150,
    "start_time": "2025-01-17T20:01:56.962Z"
   },
   {
    "duration": 1772,
    "start_time": "2025-01-17T20:02:02.226Z"
   },
   {
    "duration": 2929,
    "start_time": "2025-01-17T20:02:30.026Z"
   },
   {
    "duration": 3727,
    "start_time": "2025-01-17T20:02:32.958Z"
   },
   {
    "duration": 2889,
    "start_time": "2025-01-17T20:02:36.688Z"
   },
   {
    "duration": 1103,
    "start_time": "2025-01-17T20:02:39.580Z"
   },
   {
    "duration": 3001,
    "start_time": "2025-01-17T20:02:40.684Z"
   },
   {
    "duration": 2839,
    "start_time": "2025-01-17T20:02:43.687Z"
   },
   {
    "duration": 837,
    "start_time": "2025-01-17T20:02:46.528Z"
   },
   {
    "duration": 62,
    "start_time": "2025-01-17T20:02:47.366Z"
   },
   {
    "duration": 27,
    "start_time": "2025-01-17T20:02:47.429Z"
   },
   {
    "duration": 43,
    "start_time": "2025-01-17T20:02:47.458Z"
   },
   {
    "duration": 27,
    "start_time": "2025-01-17T20:02:47.505Z"
   },
   {
    "duration": 18,
    "start_time": "2025-01-17T20:02:47.534Z"
   },
   {
    "duration": 6,
    "start_time": "2025-01-17T20:02:47.555Z"
   },
   {
    "duration": 37,
    "start_time": "2025-01-17T20:02:47.563Z"
   },
   {
    "duration": 165,
    "start_time": "2025-01-17T20:02:47.602Z"
   },
   {
    "duration": 1545,
    "start_time": "2025-01-17T20:02:47.769Z"
   },
   {
    "duration": 0,
    "start_time": "2025-01-17T20:02:49.317Z"
   },
   {
    "duration": 0,
    "start_time": "2025-01-17T20:02:49.318Z"
   },
   {
    "duration": 0,
    "start_time": "2025-01-17T20:02:49.319Z"
   },
   {
    "duration": 0,
    "start_time": "2025-01-17T20:02:49.321Z"
   },
   {
    "duration": 0,
    "start_time": "2025-01-17T20:02:49.322Z"
   },
   {
    "duration": 0,
    "start_time": "2025-01-17T20:02:49.323Z"
   },
   {
    "duration": 0,
    "start_time": "2025-01-17T20:02:49.324Z"
   },
   {
    "duration": 0,
    "start_time": "2025-01-17T20:02:49.325Z"
   },
   {
    "duration": 0,
    "start_time": "2025-01-17T20:02:49.326Z"
   },
   {
    "duration": 0,
    "start_time": "2025-01-17T20:02:49.327Z"
   },
   {
    "duration": 0,
    "start_time": "2025-01-17T20:02:49.328Z"
   },
   {
    "duration": 0,
    "start_time": "2025-01-17T20:02:49.329Z"
   },
   {
    "duration": 0,
    "start_time": "2025-01-17T20:02:49.330Z"
   },
   {
    "duration": 0,
    "start_time": "2025-01-17T20:02:49.331Z"
   },
   {
    "duration": 0,
    "start_time": "2025-01-17T20:02:49.332Z"
   },
   {
    "duration": 0,
    "start_time": "2025-01-17T20:02:49.333Z"
   },
   {
    "duration": 0,
    "start_time": "2025-01-17T20:02:49.334Z"
   },
   {
    "duration": 0,
    "start_time": "2025-01-17T20:02:49.335Z"
   },
   {
    "duration": 0,
    "start_time": "2025-01-17T20:02:49.336Z"
   },
   {
    "duration": 0,
    "start_time": "2025-01-17T20:02:49.337Z"
   },
   {
    "duration": 0,
    "start_time": "2025-01-17T20:02:49.338Z"
   },
   {
    "duration": 0,
    "start_time": "2025-01-17T20:02:49.339Z"
   },
   {
    "duration": 0,
    "start_time": "2025-01-17T20:02:49.340Z"
   },
   {
    "duration": 0,
    "start_time": "2025-01-17T20:02:49.341Z"
   },
   {
    "duration": 0,
    "start_time": "2025-01-17T20:02:49.343Z"
   },
   {
    "duration": 0,
    "start_time": "2025-01-17T20:02:49.344Z"
   },
   {
    "duration": 0,
    "start_time": "2025-01-17T20:02:49.345Z"
   },
   {
    "duration": 0,
    "start_time": "2025-01-17T20:02:49.346Z"
   },
   {
    "duration": 0,
    "start_time": "2025-01-17T20:02:49.347Z"
   },
   {
    "duration": 0,
    "start_time": "2025-01-17T20:02:49.386Z"
   },
   {
    "duration": 34,
    "start_time": "2025-01-17T20:03:11.594Z"
   },
   {
    "duration": 1462,
    "start_time": "2025-01-17T20:04:17.190Z"
   },
   {
    "duration": 1482,
    "start_time": "2025-01-17T20:04:41.492Z"
   },
   {
    "duration": 1422,
    "start_time": "2025-01-17T20:04:48.522Z"
   },
   {
    "duration": 5,
    "start_time": "2025-01-17T20:06:02.890Z"
   },
   {
    "duration": 1380,
    "start_time": "2025-01-17T20:06:25.366Z"
   },
   {
    "duration": 1398,
    "start_time": "2025-01-17T20:06:40.045Z"
   },
   {
    "duration": 12,
    "start_time": "2025-01-17T20:07:02.273Z"
   },
   {
    "duration": 1381,
    "start_time": "2025-01-17T20:07:13.950Z"
   },
   {
    "duration": 1460,
    "start_time": "2025-01-17T20:07:21.421Z"
   },
   {
    "duration": 9,
    "start_time": "2025-01-17T20:07:30.138Z"
   },
   {
    "duration": 9,
    "start_time": "2025-01-17T20:09:08.818Z"
   },
   {
    "duration": 4,
    "start_time": "2025-01-17T20:09:17.250Z"
   },
   {
    "duration": 52,
    "start_time": "2025-01-17T20:09:28.569Z"
   },
   {
    "duration": 60,
    "start_time": "2025-01-17T20:09:40.766Z"
   },
   {
    "duration": 94,
    "start_time": "2025-01-17T20:16:09.378Z"
   },
   {
    "duration": 96,
    "start_time": "2025-01-17T20:18:32.562Z"
   },
   {
    "duration": 81,
    "start_time": "2025-01-17T20:19:59.557Z"
   },
   {
    "duration": 99,
    "start_time": "2025-01-17T20:20:04.993Z"
   },
   {
    "duration": 4,
    "start_time": "2025-01-17T20:20:40.482Z"
   },
   {
    "duration": 14,
    "start_time": "2025-01-17T20:20:48.122Z"
   },
   {
    "duration": 6,
    "start_time": "2025-01-17T20:21:23.502Z"
   },
   {
    "duration": 12,
    "start_time": "2025-01-17T20:21:31.581Z"
   },
   {
    "duration": 15,
    "start_time": "2025-01-17T20:22:47.514Z"
   },
   {
    "duration": 5,
    "start_time": "2025-01-17T20:22:48.754Z"
   },
   {
    "duration": 11,
    "start_time": "2025-01-17T20:22:49.822Z"
   },
   {
    "duration": 17,
    "start_time": "2025-01-17T20:22:52.883Z"
   },
   {
    "duration": 5,
    "start_time": "2025-01-17T20:22:54.873Z"
   },
   {
    "duration": 12,
    "start_time": "2025-01-17T20:22:55.854Z"
   },
   {
    "duration": 13,
    "start_time": "2025-01-17T20:22:59.818Z"
   },
   {
    "duration": 4,
    "start_time": "2025-01-17T20:23:01.945Z"
   },
   {
    "duration": 7,
    "start_time": "2025-01-17T20:23:05.004Z"
   },
   {
    "duration": 19,
    "start_time": "2025-01-17T20:23:09.808Z"
   },
   {
    "duration": 46,
    "start_time": "2025-01-17T20:23:12.741Z"
   },
   {
    "duration": 3,
    "start_time": "2025-01-17T20:23:18.089Z"
   },
   {
    "duration": 1696,
    "start_time": "2025-01-17T20:23:19.317Z"
   },
   {
    "duration": 2899,
    "start_time": "2025-01-17T20:23:25.474Z"
   },
   {
    "duration": 13,
    "start_time": "2025-01-17T20:23:32.296Z"
   },
   {
    "duration": 3,
    "start_time": "2025-01-17T20:23:37.249Z"
   },
   {
    "duration": 8,
    "start_time": "2025-01-17T20:23:37.689Z"
   },
   {
    "duration": 3,
    "start_time": "2025-01-17T20:23:38.762Z"
   },
   {
    "duration": 4,
    "start_time": "2025-01-17T20:27:55.549Z"
   },
   {
    "duration": 3,
    "start_time": "2025-01-17T20:27:56.206Z"
   },
   {
    "duration": 10119,
    "start_time": "2025-01-17T20:27:57.409Z"
   },
   {
    "duration": 3,
    "start_time": "2025-01-17T20:31:34.560Z"
   },
   {
    "duration": 4,
    "start_time": "2025-01-17T20:31:35.122Z"
   },
   {
    "duration": 231931,
    "start_time": "2025-01-17T20:31:43.462Z"
   },
   {
    "duration": 18,
    "start_time": "2025-01-17T20:44:38.373Z"
   },
   {
    "duration": 2756,
    "start_time": "2025-01-17T20:46:55.452Z"
   },
   {
    "duration": 3656,
    "start_time": "2025-01-17T20:46:58.211Z"
   },
   {
    "duration": 2985,
    "start_time": "2025-01-17T20:47:01.870Z"
   },
   {
    "duration": 1043,
    "start_time": "2025-01-17T20:47:04.858Z"
   },
   {
    "duration": 2854,
    "start_time": "2025-01-17T20:47:05.906Z"
   },
   {
    "duration": 2893,
    "start_time": "2025-01-17T20:47:08.762Z"
   },
   {
    "duration": 840,
    "start_time": "2025-01-17T20:47:11.657Z"
   },
   {
    "duration": 54,
    "start_time": "2025-01-17T20:47:12.504Z"
   },
   {
    "duration": 24,
    "start_time": "2025-01-17T20:47:12.559Z"
   },
   {
    "duration": 52,
    "start_time": "2025-01-17T20:47:12.586Z"
   },
   {
    "duration": 22,
    "start_time": "2025-01-17T20:47:12.639Z"
   },
   {
    "duration": 77,
    "start_time": "2025-01-17T20:47:12.662Z"
   },
   {
    "duration": 5,
    "start_time": "2025-01-17T20:47:12.740Z"
   },
   {
    "duration": 20,
    "start_time": "2025-01-17T20:47:12.746Z"
   },
   {
    "duration": 147,
    "start_time": "2025-01-17T20:47:12.767Z"
   },
   {
    "duration": 44,
    "start_time": "2025-01-17T20:47:12.916Z"
   },
   {
    "duration": 7,
    "start_time": "2025-01-17T20:47:12.962Z"
   },
   {
    "duration": 85,
    "start_time": "2025-01-17T20:47:12.970Z"
   },
   {
    "duration": 15,
    "start_time": "2025-01-17T20:47:13.057Z"
   },
   {
    "duration": 38,
    "start_time": "2025-01-17T20:47:13.074Z"
   },
   {
    "duration": 4,
    "start_time": "2025-01-17T20:47:13.115Z"
   },
   {
    "duration": 13,
    "start_time": "2025-01-17T20:47:13.123Z"
   },
   {
    "duration": 18,
    "start_time": "2025-01-17T20:47:13.138Z"
   },
   {
    "duration": 5,
    "start_time": "2025-01-17T20:47:13.157Z"
   },
   {
    "duration": 40,
    "start_time": "2025-01-17T20:47:13.163Z"
   },
   {
    "duration": 18,
    "start_time": "2025-01-17T20:47:13.205Z"
   },
   {
    "duration": 4,
    "start_time": "2025-01-17T20:47:13.225Z"
   },
   {
    "duration": 6,
    "start_time": "2025-01-17T20:47:13.233Z"
   },
   {
    "duration": 62,
    "start_time": "2025-01-17T20:47:13.241Z"
   },
   {
    "duration": 62,
    "start_time": "2025-01-17T20:47:13.307Z"
   },
   {
    "duration": 3,
    "start_time": "2025-01-17T20:47:13.371Z"
   },
   {
    "duration": 1831,
    "start_time": "2025-01-17T20:47:13.375Z"
   },
   {
    "duration": 3290,
    "start_time": "2025-01-17T20:47:15.207Z"
   },
   {
    "duration": 16,
    "start_time": "2025-01-17T20:47:18.502Z"
   },
   {
    "duration": 3,
    "start_time": "2025-01-17T20:47:18.519Z"
   },
   {
    "duration": 9,
    "start_time": "2025-01-17T20:47:18.524Z"
   },
   {
    "duration": 3,
    "start_time": "2025-01-17T20:47:18.535Z"
   },
   {
    "duration": 4,
    "start_time": "2025-01-17T20:47:18.539Z"
   },
   {
    "duration": 4,
    "start_time": "2025-01-17T20:47:18.544Z"
   },
   {
    "duration": 10072,
    "start_time": "2025-01-17T20:47:18.550Z"
   },
   {
    "duration": 3,
    "start_time": "2025-01-17T20:47:28.624Z"
   },
   {
    "duration": 17,
    "start_time": "2025-01-17T20:47:28.629Z"
   },
   {
    "duration": 7123,
    "start_time": "2025-01-18T19:52:35.741Z"
   },
   {
    "duration": 3308,
    "start_time": "2025-01-18T19:52:42.866Z"
   },
   {
    "duration": 2703,
    "start_time": "2025-01-18T19:52:46.176Z"
   },
   {
    "duration": 967,
    "start_time": "2025-01-18T19:52:48.881Z"
   },
   {
    "duration": 4354,
    "start_time": "2025-01-18T19:52:49.850Z"
   },
   {
    "duration": 3402,
    "start_time": "2025-01-18T19:52:54.207Z"
   },
   {
    "duration": 787,
    "start_time": "2025-01-18T19:52:57.611Z"
   },
   {
    "duration": 162,
    "start_time": "2025-01-18T19:52:58.399Z"
   },
   {
    "duration": 69,
    "start_time": "2025-01-18T19:52:58.562Z"
   },
   {
    "duration": 73,
    "start_time": "2025-01-18T19:52:58.632Z"
   },
   {
    "duration": 70,
    "start_time": "2025-01-18T19:52:58.707Z"
   },
   {
    "duration": 12,
    "start_time": "2025-01-18T19:52:58.780Z"
   },
   {
    "duration": 9,
    "start_time": "2025-01-18T19:52:58.794Z"
   },
   {
    "duration": 18,
    "start_time": "2025-01-18T19:52:58.806Z"
   },
   {
    "duration": 134,
    "start_time": "2025-01-18T19:52:58.826Z"
   },
   {
    "duration": 38,
    "start_time": "2025-01-18T19:52:58.961Z"
   },
   {
    "duration": 7,
    "start_time": "2025-01-18T19:52:59.000Z"
   },
   {
    "duration": 41,
    "start_time": "2025-01-18T19:52:59.008Z"
   },
   {
    "duration": 13,
    "start_time": "2025-01-18T19:52:59.050Z"
   },
   {
    "duration": 15,
    "start_time": "2025-01-18T19:52:59.087Z"
   },
   {
    "duration": 4,
    "start_time": "2025-01-18T19:52:59.104Z"
   },
   {
    "duration": 12,
    "start_time": "2025-01-18T19:52:59.109Z"
   },
   {
    "duration": 17,
    "start_time": "2025-01-18T19:52:59.122Z"
   },
   {
    "duration": 4,
    "start_time": "2025-01-18T19:52:59.141Z"
   },
   {
    "duration": 50,
    "start_time": "2025-01-18T19:52:59.146Z"
   },
   {
    "duration": 13,
    "start_time": "2025-01-18T19:52:59.197Z"
   },
   {
    "duration": 3,
    "start_time": "2025-01-18T19:52:59.212Z"
   },
   {
    "duration": 7,
    "start_time": "2025-01-18T19:52:59.217Z"
   },
   {
    "duration": 17,
    "start_time": "2025-01-18T19:52:59.226Z"
   },
   {
    "duration": 80,
    "start_time": "2025-01-18T19:52:59.245Z"
   },
   {
    "duration": 3,
    "start_time": "2025-01-18T19:52:59.326Z"
   },
   {
    "duration": 2291,
    "start_time": "2025-01-18T19:52:59.330Z"
   },
   {
    "duration": 3134,
    "start_time": "2025-01-18T19:53:01.623Z"
   },
   {
    "duration": 14,
    "start_time": "2025-01-18T19:53:04.758Z"
   },
   {
    "duration": 21,
    "start_time": "2025-01-18T19:53:04.786Z"
   },
   {
    "duration": 21,
    "start_time": "2025-01-18T19:53:04.808Z"
   },
   {
    "duration": 2,
    "start_time": "2025-01-18T19:53:04.831Z"
   },
   {
    "duration": 9,
    "start_time": "2025-01-18T19:53:04.835Z"
   },
   {
    "duration": 32,
    "start_time": "2025-01-18T19:53:04.846Z"
   },
   {
    "duration": 10242,
    "start_time": "2025-01-18T19:53:04.880Z"
   },
   {
    "duration": 4,
    "start_time": "2025-01-18T19:53:15.125Z"
   },
   {
    "duration": 42,
    "start_time": "2025-01-18T19:53:15.130Z"
   },
   {
    "duration": 19221,
    "start_time": "2025-01-18T19:53:15.174Z"
   },
   {
    "duration": 95,
    "start_time": "2025-01-18T19:53:34.397Z"
   },
   {
    "duration": 264,
    "start_time": "2025-01-18T19:53:34.494Z"
   },
   {
    "duration": 31,
    "start_time": "2025-01-18T19:53:34.760Z"
   },
   {
    "duration": 410,
    "start_time": "2025-01-18T19:53:34.792Z"
   },
   {
    "duration": 8,
    "start_time": "2025-01-18T19:53:35.204Z"
   },
   {
    "duration": 34,
    "start_time": "2025-01-18T19:53:35.214Z"
   }
  ],
  "kernelspec": {
   "display_name": "Python 3 (ipykernel)",
   "language": "python",
   "name": "python3"
  },
  "language_info": {
   "codemirror_mode": {
    "name": "ipython",
    "version": 3
   },
   "file_extension": ".py",
   "mimetype": "text/x-python",
   "name": "python",
   "nbconvert_exporter": "python",
   "pygments_lexer": "ipython3",
   "version": "3.9.5"
  },
  "toc": {
   "base_numbering": 1,
   "nav_menu": {},
   "number_sections": true,
   "sideBar": true,
   "skip_h1_title": true,
   "title_cell": "Table of Contents",
   "title_sidebar": "Contents",
   "toc_cell": false,
   "toc_position": {},
   "toc_section_display": true,
   "toc_window_display": true
  }
 },
 "nbformat": 4,
 "nbformat_minor": 5
}
